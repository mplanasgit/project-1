{
 "cells": [
  {
   "cell_type": "markdown",
   "id": "79435bd8",
   "metadata": {},
   "source": [
    "# Cleaning"
   ]
  },
  {
   "cell_type": "code",
   "execution_count": 2,
   "id": "fc116f2a",
   "metadata": {},
   "outputs": [],
   "source": [
    "# Libraries\n",
    "import pandas as pd\n",
    "import numpy as np"
   ]
  },
  {
   "cell_type": "code",
   "execution_count": 68,
   "id": "38854225",
   "metadata": {},
   "outputs": [
    {
     "data": {
      "text/plain": [
       "(25723, 24)"
      ]
     },
     "execution_count": 68,
     "metadata": {},
     "output_type": "execute_result"
    }
   ],
   "source": [
    "sharks = pd.read_csv('./data/sharks.csv', encoding = \"unicode_escape\")\n",
    "sharks.shape"
   ]
  },
  {
   "cell_type": "code",
   "execution_count": 69,
   "id": "b8bc9dfe",
   "metadata": {},
   "outputs": [],
   "source": [
    "def clean_na_dupl(df):\n",
    "    '''This function drops rows with NaN in all columns as well as duplicated rows.\n",
    "    :df: your dataframe.\n",
    "    '''\n",
    "    print (f\"Before cleaning shape is {df.shape}\")\n",
    "    df.dropna(axis=0, how=\"all\", inplace = True)\n",
    "    df.drop_duplicates(inplace = True)\n",
    "    print (f\"After cleaning shape is {df.shape}\")"
   ]
  },
  {
   "cell_type": "code",
   "execution_count": 70,
   "id": "de96661f",
   "metadata": {},
   "outputs": [
    {
     "name": "stdout",
     "output_type": "stream",
     "text": [
      "Before cleaning shape is (25723, 24)\n",
      "After cleaning shape is (6311, 24)\n"
     ]
    }
   ],
   "source": [
    "clean_na_dupl(sharks)"
   ]
  },
  {
   "cell_type": "code",
   "execution_count": 49,
   "id": "10faefe0",
   "metadata": {},
   "outputs": [
    {
     "data": {
      "text/plain": [
       "array(['Paddling', 'Standing', 'Surfing', ...,\n",
       "       'Crew swimming alongside their anchored ship',\n",
       "       '4 men were bathing', 'Wreck of  large double sailing canoe'],\n",
       "      dtype=object)"
      ]
     },
     "execution_count": 49,
     "metadata": {},
     "output_type": "execute_result"
    }
   ],
   "source": [
    "sharks.Activity.unique()"
   ]
  },
  {
   "cell_type": "code",
   "execution_count": 73,
   "id": "7275e159",
   "metadata": {},
   "outputs": [],
   "source": [
    "def replace_by_dict(a_dict, df_column):\n",
    "    '''This functions replaces the a value that follows a regex pattern by the corresponding key in the dictionary.\n",
    "    :a_dict: your dictionary with regex.\n",
    "    :df_column: the column of your df where you want to apply the replace.\n",
    "    '''\n",
    "    for key, value in a_dict.items():\n",
    "        df_column = df_column.str.replace(value, key, regex = True)\n",
    "    return df_column"
   ]
  },
  {
   "cell_type": "code",
   "execution_count": 76,
   "id": "dfe19431",
   "metadata": {},
   "outputs": [
    {
     "data": {
      "text/plain": [
       "0        Paddling\n",
       "1        Standing\n",
       "2         Surfing\n",
       "3         Surfing\n",
       "4          Diving\n",
       "           ...   \n",
       "6306          NaN\n",
       "6307          NaN\n",
       "6308          NaN\n",
       "6309          NaN\n",
       "25722         NaN\n",
       "Name: Activity, Length: 6311, dtype: object"
      ]
     },
     "execution_count": 76,
     "metadata": {},
     "output_type": "execute_result"
    }
   ],
   "source": [
    "dict_activity_regex = {\"Board surfing\" : \".*(surf).*|.*(boogie board).*|.*(body board).*\",\n",
    "                      \"Kayaking & similar\" : \".*(kayak).*|.*(canoe).*|.*(rowing).*\",\n",
    "                      \"Diving\" : \".*(diving).*\",\n",
    "                       \"Paddle boarding\" : \".*(paddle).*\",\n",
    "                      \"Sailing\" : \".*(boat).*|.*(sail).*|.*(ship).*|.*(overboard).*\",\n",
    "                      \"Snorkeling\" : \".*(snorkel).*\",\n",
    "                      \"Swimming\" : \".*(bathing).*|.*(swimming).*|.*(float).*\",\n",
    "                      \"Spear-fishing\" : \".*(spearfishing).*\",\n",
    "                      \"Fishing\" : \"[\\w\\s]+?(fishing).*|^(fishing).*\",\n",
    "                      \"Wading\" : \".*wad.*|.*(walking).*|.*(standing).*|.*(treading).*\"\n",
    "                      }\n",
    "replace_by_dict(dict_activity_regex, sharks[\"Activity\"])"
   ]
  },
  {
   "cell_type": "code",
   "execution_count": 66,
   "id": "fd8a0e15",
   "metadata": {},
   "outputs": [],
   "source": [
    "def replace_by_dict(a_dict, df_column):\n",
    "    '''This functions replaces the a value that follows a regex pattern by the corresponding key in the dictionary.\n",
    "    :a_dict: your dictionary with regex.\n",
    "    :df_column: the column of your df where you want to apply the replace.\n",
    "    '''\n",
    "    for key, value in a_dict.items():\n",
    "        df_column = df_column.str.replace(value, key, regex = True)"
   ]
  },
  {
   "cell_type": "code",
   "execution_count": 71,
   "id": "eeb8664b",
   "metadata": {},
   "outputs": [],
   "source": [
    "replace_by_dict(dict_activity_regex, sharks[\"Activity\"])"
   ]
  },
  {
   "cell_type": "code",
   "execution_count": 75,
   "id": "b087eda3",
   "metadata": {},
   "outputs": [
    {
     "data": {
      "text/plain": [
       "0                    Paddling\n",
       "1                    Standing\n",
       "2                     Surfing\n",
       "3                     Surfing\n",
       "4                      Diving\n",
       "5               Board surfing\n",
       "6                    Swimming\n",
       "7                     Fishing\n",
       "8                     Walking\n",
       "9                    Standing\n",
       "10             Feeding sharks\n",
       "11            Boogie boarding\n",
       "12                   Swimming\n",
       "13                    Fishing\n",
       "14             Feeding sharks\n",
       "15                    Surfing\n",
       "16                    Surfing\n",
       "17                   Swimming\n",
       "18                     Diving\n",
       "19                    Surfing\n",
       "20                    Surfing\n",
       "21                    Surfing\n",
       "22                    Surfing\n",
       "23                    Fishing\n",
       "24              Paddle-skiing\n",
       "25              Body boarding\n",
       "26                   Swimming\n",
       "27                   Swimming\n",
       "28                    Surfing\n",
       "29                    Surfing\n",
       "30                    Surfing\n",
       "31                    Fishing\n",
       "32              Board surfing\n",
       "33                   Swimming\n",
       "34                    Surfing\n",
       "35    Stand-Up Paddleboarding\n",
       "36                     Wading\n",
       "37                   Swimming\n",
       "38                    Surfing\n",
       "39               Scuba Diving\n",
       "40                   Swimming\n",
       "41                    Fishing\n",
       "42                    Walking\n",
       "43                   Swimming\n",
       "44              Cleaning fish\n",
       "45                 Snorkeling\n",
       "46                    Fishing\n",
       "47                        NaN\n",
       "48                    Fishing\n",
       "49                     Diving\n",
       "Name: Activity, dtype: object"
      ]
     },
     "execution_count": 75,
     "metadata": {},
     "output_type": "execute_result"
    }
   ],
   "source": [
    "sharks.Activity.head(50)"
   ]
  },
  {
   "cell_type": "code",
   "execution_count": null,
   "id": "501a656d",
   "metadata": {},
   "outputs": [],
   "source": []
  }
 ],
 "metadata": {
  "kernelspec": {
   "display_name": "Python 3 (ipykernel)",
   "language": "python",
   "name": "python3"
  },
  "language_info": {
   "codemirror_mode": {
    "name": "ipython",
    "version": 3
   },
   "file_extension": ".py",
   "mimetype": "text/x-python",
   "name": "python",
   "nbconvert_exporter": "python",
   "pygments_lexer": "ipython3",
   "version": "3.9.12"
  },
  "toc": {
   "base_numbering": 1,
   "nav_menu": {},
   "number_sections": true,
   "sideBar": true,
   "skip_h1_title": false,
   "title_cell": "Table of Contents",
   "title_sidebar": "Contents",
   "toc_cell": false,
   "toc_position": {},
   "toc_section_display": true,
   "toc_window_display": false
  }
 },
 "nbformat": 4,
 "nbformat_minor": 5
}
