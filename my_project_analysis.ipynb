{
 "cells": [
  {
   "cell_type": "markdown",
   "id": "2a7a51eb",
   "metadata": {},
   "source": [
    "**Project 1 - SHARKS**"
   ]
  },
  {
   "cell_type": "markdown",
   "id": "e90f8822",
   "metadata": {},
   "source": [
    "# Libraries"
   ]
  },
  {
   "cell_type": "code",
   "execution_count": 1,
   "id": "6ec501ad",
   "metadata": {},
   "outputs": [],
   "source": [
    "# Libraries\n",
    "import pandas as pd\n",
    "import numpy as np\n",
    "import re\n",
    "import matplotlib.pyplot as plt\n",
    "import seaborn as sns"
   ]
  },
  {
   "cell_type": "code",
   "execution_count": 2,
   "id": "0a2550ac",
   "metadata": {},
   "outputs": [],
   "source": [
    "# Matplotlib inline to visualize Matplotlib graphs\n",
    "%matplotlib inline\n",
    "%config Inlinebackend.figure_format= 'retina'"
   ]
  },
  {
   "cell_type": "markdown",
   "id": "22b6986e",
   "metadata": {},
   "source": [
    "# Hypotheses"
   ]
  },
  {
   "cell_type": "markdown",
   "id": "c9096870",
   "metadata": {},
   "source": [
    "- Based on reports by activity and fatality, we could identify the *top10 most lethal activities.*\n",
    "- Based on reports by month and country, it would be possible to identify a 'Shark season' i. e. the months were most attacks occur, which might as well be related to migratory events. Has these changed over the years? -> Global warming, climate change.\n",
    "- Based on reports by fatality and time: **(will work on it if enough time)**\n",
    "    - More deaths at night due to people not seeing shark approach?\n"
   ]
  },
  {
   "cell_type": "markdown",
   "id": "4e428daa",
   "metadata": {},
   "source": [
    "# Analysis (& further cleaning of chosen variables)"
   ]
  },
  {
   "cell_type": "code",
   "execution_count": 3,
   "id": "e418e772",
   "metadata": {},
   "outputs": [],
   "source": [
    "sharks_clean = pd.read_csv('./data/sharks_clean.csv', encoding = \"unicode_escape\")"
   ]
  },
  {
   "cell_type": "code",
   "execution_count": 4,
   "id": "c50d199a",
   "metadata": {},
   "outputs": [
    {
     "data": {
      "text/html": [
       "<div>\n",
       "<style scoped>\n",
       "    .dataframe tbody tr th:only-of-type {\n",
       "        vertical-align: middle;\n",
       "    }\n",
       "\n",
       "    .dataframe tbody tr th {\n",
       "        vertical-align: top;\n",
       "    }\n",
       "\n",
       "    .dataframe thead th {\n",
       "        text-align: right;\n",
       "    }\n",
       "</style>\n",
       "<table border=\"1\" class=\"dataframe\">\n",
       "  <thead>\n",
       "    <tr style=\"text-align: right;\">\n",
       "      <th></th>\n",
       "      <th>Case Number</th>\n",
       "      <th>Date</th>\n",
       "      <th>Year</th>\n",
       "      <th>Type</th>\n",
       "      <th>Country</th>\n",
       "      <th>Area</th>\n",
       "      <th>Location</th>\n",
       "      <th>Activity</th>\n",
       "      <th>Name</th>\n",
       "      <th>Sex</th>\n",
       "      <th>Age</th>\n",
       "      <th>Injury</th>\n",
       "      <th>Fatal (Y/N)</th>\n",
       "      <th>Time</th>\n",
       "      <th>Species</th>\n",
       "      <th>Investigator or Source</th>\n",
       "    </tr>\n",
       "  </thead>\n",
       "  <tbody>\n",
       "    <tr>\n",
       "      <th>0</th>\n",
       "      <td>2018.06.25</td>\n",
       "      <td>25-Jun-2018</td>\n",
       "      <td>2018.0</td>\n",
       "      <td>Boating</td>\n",
       "      <td>USA</td>\n",
       "      <td>California</td>\n",
       "      <td>Oceanside, San Diego County</td>\n",
       "      <td>Paddling</td>\n",
       "      <td>Julie Wolfe</td>\n",
       "      <td>F</td>\n",
       "      <td>57</td>\n",
       "      <td>No injury to occupant, outrigger canoe and pad...</td>\n",
       "      <td>N</td>\n",
       "      <td>18h00</td>\n",
       "      <td>White shark</td>\n",
       "      <td>R. Collier, GSAF</td>\n",
       "    </tr>\n",
       "    <tr>\n",
       "      <th>1</th>\n",
       "      <td>2018.06.18</td>\n",
       "      <td>18-Jun-2018</td>\n",
       "      <td>2018.0</td>\n",
       "      <td>Unprovoked</td>\n",
       "      <td>USA</td>\n",
       "      <td>Georgia</td>\n",
       "      <td>St. Simon Island, Glynn County</td>\n",
       "      <td>Standing</td>\n",
       "      <td>AdysonÂ McNeely</td>\n",
       "      <td>F</td>\n",
       "      <td>11</td>\n",
       "      <td>Minor injury to left thigh</td>\n",
       "      <td>N</td>\n",
       "      <td>14h00  -15h00</td>\n",
       "      <td>NaN</td>\n",
       "      <td>K.McMurray, TrackingSharks.com</td>\n",
       "    </tr>\n",
       "    <tr>\n",
       "      <th>2</th>\n",
       "      <td>2018.06.09</td>\n",
       "      <td>09-Jun-2018</td>\n",
       "      <td>2018.0</td>\n",
       "      <td>Invalid</td>\n",
       "      <td>USA</td>\n",
       "      <td>Hawaii</td>\n",
       "      <td>Habush, Oahu</td>\n",
       "      <td>Surfing</td>\n",
       "      <td>John Denges</td>\n",
       "      <td>M</td>\n",
       "      <td>48</td>\n",
       "      <td>Injury to left lower leg from surfboard skeg</td>\n",
       "      <td>N</td>\n",
       "      <td>07h45</td>\n",
       "      <td>NaN</td>\n",
       "      <td>K.McMurray, TrackingSharks.com</td>\n",
       "    </tr>\n",
       "    <tr>\n",
       "      <th>3</th>\n",
       "      <td>2018.06.08</td>\n",
       "      <td>08-Jun-2018</td>\n",
       "      <td>2018.0</td>\n",
       "      <td>Unprovoked</td>\n",
       "      <td>AUSTRALIA</td>\n",
       "      <td>New South Wales</td>\n",
       "      <td>Arrawarra Headland</td>\n",
       "      <td>Surfing</td>\n",
       "      <td>male</td>\n",
       "      <td>M</td>\n",
       "      <td>NaN</td>\n",
       "      <td>Minor injury to lower leg</td>\n",
       "      <td>N</td>\n",
       "      <td>NaN</td>\n",
       "      <td>2 m shark</td>\n",
       "      <td>B. Myatt, GSAF</td>\n",
       "    </tr>\n",
       "    <tr>\n",
       "      <th>4</th>\n",
       "      <td>2018.06.04</td>\n",
       "      <td>04-Jun-2018</td>\n",
       "      <td>2018.0</td>\n",
       "      <td>Provoked</td>\n",
       "      <td>MEXICO</td>\n",
       "      <td>Colima</td>\n",
       "      <td>La Ticla</td>\n",
       "      <td>Free diving</td>\n",
       "      <td>Gustavo Ramos</td>\n",
       "      <td>M</td>\n",
       "      <td>NaN</td>\n",
       "      <td>Lacerations to leg &amp; hand shark PROVOKED INCIDENT</td>\n",
       "      <td>N</td>\n",
       "      <td>NaN</td>\n",
       "      <td>Tiger shark, 3m</td>\n",
       "      <td>A .Kipper</td>\n",
       "    </tr>\n",
       "  </tbody>\n",
       "</table>\n",
       "</div>"
      ],
      "text/plain": [
       "  Case Number         Date    Year        Type    Country             Area  \\\n",
       "0  2018.06.25  25-Jun-2018  2018.0     Boating        USA       California   \n",
       "1  2018.06.18  18-Jun-2018  2018.0  Unprovoked        USA          Georgia   \n",
       "2  2018.06.09  09-Jun-2018  2018.0     Invalid        USA           Hawaii   \n",
       "3  2018.06.08  08-Jun-2018  2018.0  Unprovoked  AUSTRALIA  New South Wales   \n",
       "4  2018.06.04  04-Jun-2018  2018.0    Provoked     MEXICO           Colima   \n",
       "\n",
       "                         Location     Activity              Name Sex  Age  \\\n",
       "0     Oceanside, San Diego County     Paddling       Julie Wolfe   F   57   \n",
       "1  St. Simon Island, Glynn County     Standing  AdysonÂ McNeely    F   11   \n",
       "2                    Habush, Oahu      Surfing       John Denges   M   48   \n",
       "3              Arrawarra Headland      Surfing              male   M  NaN   \n",
       "4                        La Ticla  Free diving    Gustavo Ramos    M  NaN   \n",
       "\n",
       "                                              Injury Fatal (Y/N)  \\\n",
       "0  No injury to occupant, outrigger canoe and pad...           N   \n",
       "1                         Minor injury to left thigh           N   \n",
       "2       Injury to left lower leg from surfboard skeg           N   \n",
       "3                          Minor injury to lower leg           N   \n",
       "4  Lacerations to leg & hand shark PROVOKED INCIDENT           N   \n",
       "\n",
       "            Time          Species          Investigator or Source  \n",
       "0          18h00      White shark                R. Collier, GSAF  \n",
       "1  14h00  -15h00              NaN  K.McMurray, TrackingSharks.com  \n",
       "2          07h45              NaN  K.McMurray, TrackingSharks.com  \n",
       "3            NaN        2 m shark                  B. Myatt, GSAF  \n",
       "4            NaN  Tiger shark, 3m                       A .Kipper  "
      ]
     },
     "execution_count": 4,
     "metadata": {},
     "output_type": "execute_result"
    }
   ],
   "source": [
    "sharks_clean.head()"
   ]
  },
  {
   "cell_type": "code",
   "execution_count": 5,
   "id": "7a6eedab",
   "metadata": {},
   "outputs": [
    {
     "data": {
      "text/plain": [
       "(6302, 16)"
      ]
     },
     "execution_count": 5,
     "metadata": {},
     "output_type": "execute_result"
    }
   ],
   "source": [
    "sharks_clean.shape # Based on cleaning I'm sure that these reports have at least 50% of information\n",
    "# Since they had non-NaN in 8 out of 16 columns"
   ]
  },
  {
   "cell_type": "markdown",
   "id": "807252d6",
   "metadata": {},
   "source": [
    "## 'Shark Season' by Country"
   ]
  },
  {
   "cell_type": "markdown",
   "id": "ff13e481",
   "metadata": {},
   "source": [
    "### Extracting and cleaning Month"
   ]
  },
  {
   "cell_type": "markdown",
   "id": "0b5b0e12",
   "metadata": {},
   "source": [
    "Which column do I use to extract the month? Case Number and Date contain this information. Let's see which one has less NaN"
   ]
  },
  {
   "cell_type": "code",
   "execution_count": 6,
   "id": "fb5a5abd",
   "metadata": {},
   "outputs": [
    {
     "data": {
      "text/plain": [
       "1"
      ]
     },
     "execution_count": 6,
     "metadata": {},
     "output_type": "execute_result"
    }
   ],
   "source": [
    "sharks_clean[\"Case Number\"].isna().sum()"
   ]
  },
  {
   "cell_type": "code",
   "execution_count": 7,
   "id": "4951b534",
   "metadata": {},
   "outputs": [
    {
     "data": {
      "text/plain": [
       "0"
      ]
     },
     "execution_count": 7,
     "metadata": {},
     "output_type": "execute_result"
    }
   ],
   "source": [
    "sharks_clean[\"Date\"].isna().sum()"
   ]
  },
  {
   "cell_type": "markdown",
   "id": "2fd26abb",
   "metadata": {},
   "source": [
    "Basically the same, let's see which one looks cleaner"
   ]
  },
  {
   "cell_type": "code",
   "execution_count": 8,
   "id": "dda48e89",
   "metadata": {},
   "outputs": [],
   "source": [
    "list_case_number = sharks_clean[\"Case Number\"].tolist()"
   ]
  },
  {
   "cell_type": "code",
   "execution_count": 9,
   "id": "1cea5aae",
   "metadata": {},
   "outputs": [],
   "source": [
    "#print(list_case_number)"
   ]
  },
  {
   "cell_type": "code",
   "execution_count": 10,
   "id": "22630c58",
   "metadata": {},
   "outputs": [],
   "source": [
    "list_date = sharks_clean[\"Date\"].tolist() \n",
    "# I think it would be better to use this with regex selection [A-Za-z]{3} or similar\n",
    "# Find those instances in which occur and create new column with the month"
   ]
  },
  {
   "cell_type": "code",
   "execution_count": 11,
   "id": "1fa392da",
   "metadata": {},
   "outputs": [],
   "source": [
    "#print(list_date)"
   ]
  },
  {
   "cell_type": "markdown",
   "id": "b875307e",
   "metadata": {},
   "source": [
    "After checking the list, if they do not follow the regex -(\\w{3})- the date is not really clear. Extract these and replace by NaN the others."
   ]
  },
  {
   "cell_type": "code",
   "execution_count": 12,
   "id": "ce81234b",
   "metadata": {},
   "outputs": [],
   "source": [
    "# (Jan|Feb|Mar|Apr|Mar|May|Jun|Jul|Aug|Sep|Oct|Nov|Dec)"
   ]
  },
  {
   "cell_type": "code",
   "execution_count": 13,
   "id": "960b34ea",
   "metadata": {},
   "outputs": [],
   "source": [
    "sharks_clean[\"Month\"] = sharks_clean[\"Date\"].str.lower().str.extract(r'-(\\w{3})-')"
   ]
  },
  {
   "cell_type": "code",
   "execution_count": 14,
   "id": "f180e000",
   "metadata": {},
   "outputs": [
    {
     "data": {
      "text/html": [
       "<div>\n",
       "<style scoped>\n",
       "    .dataframe tbody tr th:only-of-type {\n",
       "        vertical-align: middle;\n",
       "    }\n",
       "\n",
       "    .dataframe tbody tr th {\n",
       "        vertical-align: top;\n",
       "    }\n",
       "\n",
       "    .dataframe thead th {\n",
       "        text-align: right;\n",
       "    }\n",
       "</style>\n",
       "<table border=\"1\" class=\"dataframe\">\n",
       "  <thead>\n",
       "    <tr style=\"text-align: right;\">\n",
       "      <th></th>\n",
       "      <th>Case Number</th>\n",
       "      <th>Date</th>\n",
       "      <th>Year</th>\n",
       "      <th>Type</th>\n",
       "      <th>Country</th>\n",
       "      <th>Area</th>\n",
       "      <th>Location</th>\n",
       "      <th>Activity</th>\n",
       "      <th>Name</th>\n",
       "      <th>Sex</th>\n",
       "      <th>Age</th>\n",
       "      <th>Injury</th>\n",
       "      <th>Fatal (Y/N)</th>\n",
       "      <th>Time</th>\n",
       "      <th>Species</th>\n",
       "      <th>Investigator or Source</th>\n",
       "      <th>Month</th>\n",
       "    </tr>\n",
       "  </thead>\n",
       "  <tbody>\n",
       "    <tr>\n",
       "      <th>5208</th>\n",
       "      <td>1923.01.27.b</td>\n",
       "      <td>27-Jan-1923</td>\n",
       "      <td>1923.0</td>\n",
       "      <td>Invalid</td>\n",
       "      <td>AUSTRALIA</td>\n",
       "      <td>Western Australia</td>\n",
       "      <td>Bunbury</td>\n",
       "      <td>NaN</td>\n",
       "      <td>John Hayes</td>\n",
       "      <td>M</td>\n",
       "      <td>NaN</td>\n",
       "      <td>Death may have been due to drowning</td>\n",
       "      <td>NaN</td>\n",
       "      <td>NaN</td>\n",
       "      <td>Shark involvement prior to death was not confi...</td>\n",
       "      <td>The Register, 2/3/1923</td>\n",
       "      <td>jan</td>\n",
       "    </tr>\n",
       "  </tbody>\n",
       "</table>\n",
       "</div>"
      ],
      "text/plain": [
       "       Case Number         Date    Year     Type    Country  \\\n",
       "5208  1923.01.27.b  27-Jan-1923  1923.0  Invalid  AUSTRALIA   \n",
       "\n",
       "                   Area Location Activity        Name Sex  Age  \\\n",
       "5208  Western Australia  Bunbury      NaN  John Hayes   M  NaN   \n",
       "\n",
       "                                   Injury Fatal (Y/N) Time  \\\n",
       "5208  Death may have been due to drowning         NaN  NaN   \n",
       "\n",
       "                                                Species  \\\n",
       "5208  Shark involvement prior to death was not confi...   \n",
       "\n",
       "      Investigator or Source Month  \n",
       "5208  The Register, 2/3/1923   jan  "
      ]
     },
     "execution_count": 14,
     "metadata": {},
     "output_type": "execute_result"
    }
   ],
   "source": [
    "sharks_clean.sample()"
   ]
  },
  {
   "cell_type": "code",
   "execution_count": 15,
   "id": "bca65ed6",
   "metadata": {},
   "outputs": [
    {
     "data": {
      "text/html": [
       "<div>\n",
       "<style scoped>\n",
       "    .dataframe tbody tr th:only-of-type {\n",
       "        vertical-align: middle;\n",
       "    }\n",
       "\n",
       "    .dataframe tbody tr th {\n",
       "        vertical-align: top;\n",
       "    }\n",
       "\n",
       "    .dataframe thead th {\n",
       "        text-align: right;\n",
       "    }\n",
       "</style>\n",
       "<table border=\"1\" class=\"dataframe\">\n",
       "  <thead>\n",
       "    <tr style=\"text-align: right;\">\n",
       "      <th></th>\n",
       "      <th>Case Number</th>\n",
       "      <th>Date</th>\n",
       "      <th>Year</th>\n",
       "      <th>Type</th>\n",
       "      <th>Country</th>\n",
       "      <th>Area</th>\n",
       "      <th>Location</th>\n",
       "      <th>Activity</th>\n",
       "      <th>Name</th>\n",
       "      <th>Sex</th>\n",
       "      <th>Age</th>\n",
       "      <th>Injury</th>\n",
       "      <th>Fatal (Y/N)</th>\n",
       "      <th>Time</th>\n",
       "      <th>Species</th>\n",
       "      <th>Investigator or Source</th>\n",
       "      <th>Month</th>\n",
       "    </tr>\n",
       "  </thead>\n",
       "  <tbody>\n",
       "    <tr>\n",
       "      <th>6301</th>\n",
       "      <td>ND.0001</td>\n",
       "      <td>1845-1853</td>\n",
       "      <td>0.0</td>\n",
       "      <td>Unprovoked</td>\n",
       "      <td>CEYLON (SRI LANKA)</td>\n",
       "      <td>Eastern Province</td>\n",
       "      <td>Below the English fort, Trincomalee</td>\n",
       "      <td>Swimming</td>\n",
       "      <td>male</td>\n",
       "      <td>M</td>\n",
       "      <td>15</td>\n",
       "      <td>FATAL. \"Shark bit him in half, carrying away t...</td>\n",
       "      <td>Y</td>\n",
       "      <td>NaN</td>\n",
       "      <td>NaN</td>\n",
       "      <td>S.W. Baker</td>\n",
       "      <td>NaN</td>\n",
       "    </tr>\n",
       "  </tbody>\n",
       "</table>\n",
       "</div>"
      ],
      "text/plain": [
       "     Case Number       Date  Year        Type             Country  \\\n",
       "6301     ND.0001  1845-1853   0.0  Unprovoked  CEYLON (SRI LANKA)   \n",
       "\n",
       "                  Area                             Location  Activity  Name  \\\n",
       "6301  Eastern Province  Below the English fort, Trincomalee  Swimming  male   \n",
       "\n",
       "     Sex Age                                             Injury Fatal (Y/N)  \\\n",
       "6301   M  15  FATAL. \"Shark bit him in half, carrying away t...           Y   \n",
       "\n",
       "     Time Species Investigator or Source Month  \n",
       "6301  NaN     NaN             S.W. Baker   NaN  "
      ]
     },
     "execution_count": 15,
     "metadata": {},
     "output_type": "execute_result"
    }
   ],
   "source": [
    "sharks_clean.tail(1)"
   ]
  },
  {
   "cell_type": "code",
   "execution_count": 16,
   "id": "3cf8c39e",
   "metadata": {},
   "outputs": [],
   "source": [
    "list_month = sharks_clean[\"Month\"].tolist()"
   ]
  },
  {
   "cell_type": "code",
   "execution_count": 17,
   "id": "9edd93e4",
   "metadata": {},
   "outputs": [
    {
     "data": {
      "text/plain": [
       "6302"
      ]
     },
     "execution_count": 17,
     "metadata": {},
     "output_type": "execute_result"
    }
   ],
   "source": [
    "len(list_month)"
   ]
  },
  {
   "cell_type": "code",
   "execution_count": 18,
   "id": "4ce50640",
   "metadata": {},
   "outputs": [
    {
     "data": {
      "text/plain": [
       "910"
      ]
     },
     "execution_count": 18,
     "metadata": {},
     "output_type": "execute_result"
    }
   ],
   "source": [
    "sharks_clean[\"Month\"].isna().sum() # 910 out of 6302, not bad - let's remove them"
   ]
  },
  {
   "cell_type": "code",
   "execution_count": 19,
   "id": "30059a94",
   "metadata": {},
   "outputs": [],
   "source": [
    "sharks_clean = sharks_clean[sharks_clean['Month'].notna()]"
   ]
  },
  {
   "cell_type": "code",
   "execution_count": 20,
   "id": "c36f0982",
   "metadata": {},
   "outputs": [
    {
     "data": {
      "text/plain": [
       "(5392, 17)"
      ]
     },
     "execution_count": 20,
     "metadata": {},
     "output_type": "execute_result"
    }
   ],
   "source": [
    "sharks_clean.shape"
   ]
  },
  {
   "cell_type": "code",
   "execution_count": 21,
   "id": "87d4f019",
   "metadata": {},
   "outputs": [
    {
     "data": {
      "text/plain": [
       "dict_keys(['apr', 'aug', 'dec', 'feb', 'jan', 'jul', 'jun', 'mar', 'may', 'nov', 'oct', 'sep'])"
      ]
     },
     "execution_count": 21,
     "metadata": {},
     "output_type": "execute_result"
    }
   ],
   "source": [
    "sharks_clean.groupby(\"Month\").indices.keys() # Month: x-axis but would need to recode to order them"
   ]
  },
  {
   "cell_type": "markdown",
   "id": "d2364d76",
   "metadata": {},
   "source": [
    "We need the Month to be codified (1-12) so that the months are then properly ordered: create new column where if jan->1, if feb->2..."
   ]
  },
  {
   "cell_type": "code",
   "execution_count": 22,
   "id": "1763dfaf",
   "metadata": {},
   "outputs": [],
   "source": [
    "# Creating a dictionary to store the old and new names for months:\n",
    "\n",
    "dict_months = {\"jan\" : 1,\n",
    "              \"feb\" : 2,\n",
    "              \"mar\" : 3,\n",
    "              \"apr\" : 4,\n",
    "              \"may\" : 5,\n",
    "              \"jun\" : 6,\n",
    "              \"jul\" : 7,\n",
    "              \"aug\" : 8,\n",
    "              \"sep\" : 9,\n",
    "              \"oct\" : 10,\n",
    "              \"nov\" : 11,\n",
    "              \"dec\" : 12              \n",
    "}\n",
    "\n",
    "# Replacing the name by value\n",
    "\n",
    "sharks_clean.replace({\"Month\" : dict_months}, inplace = True)"
   ]
  },
  {
   "cell_type": "code",
   "execution_count": 23,
   "id": "605c2d6c",
   "metadata": {},
   "outputs": [
    {
     "data": {
      "text/html": [
       "<div>\n",
       "<style scoped>\n",
       "    .dataframe tbody tr th:only-of-type {\n",
       "        vertical-align: middle;\n",
       "    }\n",
       "\n",
       "    .dataframe tbody tr th {\n",
       "        vertical-align: top;\n",
       "    }\n",
       "\n",
       "    .dataframe thead th {\n",
       "        text-align: right;\n",
       "    }\n",
       "</style>\n",
       "<table border=\"1\" class=\"dataframe\">\n",
       "  <thead>\n",
       "    <tr style=\"text-align: right;\">\n",
       "      <th></th>\n",
       "      <th>Case Number</th>\n",
       "      <th>Date</th>\n",
       "      <th>Year</th>\n",
       "      <th>Type</th>\n",
       "      <th>Country</th>\n",
       "      <th>Area</th>\n",
       "      <th>Location</th>\n",
       "      <th>Activity</th>\n",
       "      <th>Name</th>\n",
       "      <th>Sex</th>\n",
       "      <th>Age</th>\n",
       "      <th>Injury</th>\n",
       "      <th>Fatal (Y/N)</th>\n",
       "      <th>Time</th>\n",
       "      <th>Species</th>\n",
       "      <th>Investigator or Source</th>\n",
       "      <th>Month</th>\n",
       "    </tr>\n",
       "  </thead>\n",
       "  <tbody>\n",
       "    <tr>\n",
       "      <th>4964</th>\n",
       "      <td>1933.05.24</td>\n",
       "      <td>24-May-1933</td>\n",
       "      <td>1933.0</td>\n",
       "      <td>Sea Disaster</td>\n",
       "      <td>BARBADOS</td>\n",
       "      <td>St Michael Parish</td>\n",
       "      <td>Off Pelican Island</td>\n",
       "      <td>Yacht of Michael Howell capsized</td>\n",
       "      <td>9 people in the water</td>\n",
       "      <td>NaN</td>\n",
       "      <td>NaN</td>\n",
       "      <td>5 survived  &amp; 4 perished, but shark involvemen...</td>\n",
       "      <td>Y</td>\n",
       "      <td>NaN</td>\n",
       "      <td>NaN</td>\n",
       "      <td>New York Times 5/26/1933; L. Schultz &amp; M. Mali...</td>\n",
       "      <td>5</td>\n",
       "    </tr>\n",
       "  </tbody>\n",
       "</table>\n",
       "</div>"
      ],
      "text/plain": [
       "     Case Number         Date    Year          Type   Country  \\\n",
       "4964  1933.05.24  24-May-1933  1933.0  Sea Disaster  BARBADOS   \n",
       "\n",
       "                   Area            Location                          Activity  \\\n",
       "4964  St Michael Parish  Off Pelican Island  Yacht of Michael Howell capsized   \n",
       "\n",
       "                       Name  Sex  Age  \\\n",
       "4964  9 people in the water  NaN  NaN   \n",
       "\n",
       "                                                 Injury Fatal (Y/N) Time  \\\n",
       "4964  5 survived  & 4 perished, but shark involvemen...           Y  NaN   \n",
       "\n",
       "     Species                             Investigator or Source  Month  \n",
       "4964     NaN  New York Times 5/26/1933; L. Schultz & M. Mali...      5  "
      ]
     },
     "execution_count": 23,
     "metadata": {},
     "output_type": "execute_result"
    }
   ],
   "source": [
    "sharks_clean.sample() # It worked"
   ]
  },
  {
   "cell_type": "code",
   "execution_count": 24,
   "id": "289e7ed7",
   "metadata": {},
   "outputs": [
    {
     "data": {
      "text/plain": [
       "dict_keys([1, 2, 3, 4, 5, 6, 7, 8, 9, 10, 11, 12])"
      ]
     },
     "execution_count": 24,
     "metadata": {},
     "output_type": "execute_result"
    }
   ],
   "source": [
    "sharks_clean.groupby(\"Month\").indices.keys() # Now they will be automatically ordered in the graph"
   ]
  },
  {
   "cell_type": "code",
   "execution_count": 25,
   "id": "73d1df33",
   "metadata": {},
   "outputs": [
    {
     "data": {
      "text/plain": [
       "Month\n",
       "1     494\n",
       "2     356\n",
       "3     381\n",
       "4     420\n",
       "5     358\n",
       "6     475\n",
       "7     621\n",
       "8     556\n",
       "9     521\n",
       "10    417\n",
       "11    378\n",
       "12    415\n",
       "dtype: int64"
      ]
     },
     "execution_count": 25,
     "metadata": {},
     "output_type": "execute_result"
    }
   ],
   "source": [
    "sharks_clean.groupby(\"Month\").size() # Number of reports each month: y-axis"
   ]
  },
  {
   "cell_type": "markdown",
   "id": "2a0f4be7",
   "metadata": {},
   "source": [
    "### Cleaning Country"
   ]
  },
  {
   "cell_type": "code",
   "execution_count": 26,
   "id": "359e4a5f",
   "metadata": {},
   "outputs": [],
   "source": [
    "sharks_clean[\"Country\"] = sharks_clean[\"Country\"].str.strip().str.upper() # Just in case"
   ]
  },
  {
   "cell_type": "code",
   "execution_count": 27,
   "id": "d943ed48",
   "metadata": {},
   "outputs": [
    {
     "data": {
      "text/plain": [
       "31"
      ]
     },
     "execution_count": 27,
     "metadata": {},
     "output_type": "execute_result"
    }
   ],
   "source": [
    "sharks_clean[\"Country\"].isna().sum()"
   ]
  },
  {
   "cell_type": "code",
   "execution_count": 28,
   "id": "b68de6ac",
   "metadata": {},
   "outputs": [],
   "source": [
    "sharks_clean = sharks_clean[sharks_clean['Country'].notna()] # Keeping not NaN"
   ]
  },
  {
   "cell_type": "code",
   "execution_count": 29,
   "id": "083fdd2e",
   "metadata": {},
   "outputs": [
    {
     "data": {
      "text/plain": [
       "(5361, 17)"
      ]
     },
     "execution_count": 29,
     "metadata": {},
     "output_type": "execute_result"
    }
   ],
   "source": [
    "sharks_clean.shape"
   ]
  },
  {
   "cell_type": "code",
   "execution_count": 30,
   "id": "0bd16f37",
   "metadata": {},
   "outputs": [
    {
     "data": {
      "text/plain": [
       "USA                         2051\n",
       "AUSTRALIA                   1227\n",
       "SOUTH AFRICA                 523\n",
       "NEW ZEALAND                  111\n",
       "BRAZIL                       106\n",
       "                            ... \n",
       "ARGENTINA                      1\n",
       "GUATEMALA                      1\n",
       "NETHERLANDS ANTILLES           1\n",
       "MALDIVES                       1\n",
       "BETWEEN PORTUGAL & INDIA       1\n",
       "Name: Country, Length: 168, dtype: int64"
      ]
     },
     "execution_count": 30,
     "metadata": {},
     "output_type": "execute_result"
    }
   ],
   "source": [
    "sharks_clean[\"Country\"].value_counts() # Looks messy let's see if we can group something here"
   ]
  },
  {
   "cell_type": "code",
   "execution_count": 31,
   "id": "561d83fa",
   "metadata": {},
   "outputs": [],
   "source": [
    "list_country = sharks_clean[\"Country\"].tolist() # If I take top 3 looks good\n",
    "#print(list_country)"
   ]
  },
  {
   "cell_type": "markdown",
   "id": "4f6c4266",
   "metadata": {},
   "source": [
    "### Visualization"
   ]
  },
  {
   "cell_type": "markdown",
   "id": "bc573820",
   "metadata": {},
   "source": [
    "Let's plot the counts of reports by month and country"
   ]
  },
  {
   "cell_type": "code",
   "execution_count": 32,
   "id": "4461a742",
   "metadata": {},
   "outputs": [],
   "source": [
    "# Defining filtering conditions for top 3 countries:\n",
    "\n",
    "usa = (sharks_clean[\"Country\"] == \"USA\")\n",
    "australia = (sharks_clean[\"Country\"] == \"AUSTRALIA\")\n",
    "south_africa = (sharks_clean[\"Country\"] == \"SOUTH AFRICA\")"
   ]
  },
  {
   "cell_type": "code",
   "execution_count": 33,
   "id": "4d2095d7",
   "metadata": {
    "scrolled": true
   },
   "outputs": [
    {
     "data": {
      "text/html": [
       "<div>\n",
       "<style scoped>\n",
       "    .dataframe tbody tr th:only-of-type {\n",
       "        vertical-align: middle;\n",
       "    }\n",
       "\n",
       "    .dataframe tbody tr th {\n",
       "        vertical-align: top;\n",
       "    }\n",
       "\n",
       "    .dataframe thead th {\n",
       "        text-align: right;\n",
       "    }\n",
       "</style>\n",
       "<table border=\"1\" class=\"dataframe\">\n",
       "  <thead>\n",
       "    <tr style=\"text-align: right;\">\n",
       "      <th></th>\n",
       "      <th>Case Number</th>\n",
       "      <th>Date</th>\n",
       "      <th>Year</th>\n",
       "      <th>Type</th>\n",
       "      <th>Country</th>\n",
       "      <th>Area</th>\n",
       "      <th>Location</th>\n",
       "      <th>Activity</th>\n",
       "      <th>Name</th>\n",
       "      <th>Sex</th>\n",
       "      <th>Age</th>\n",
       "      <th>Injury</th>\n",
       "      <th>Fatal (Y/N)</th>\n",
       "      <th>Time</th>\n",
       "      <th>Species</th>\n",
       "      <th>Investigator or Source</th>\n",
       "      <th>Month</th>\n",
       "    </tr>\n",
       "  </thead>\n",
       "  <tbody>\n",
       "    <tr>\n",
       "      <th>5428</th>\n",
       "      <td>1908.12.31</td>\n",
       "      <td>31-Dec-1908</td>\n",
       "      <td>1908.0</td>\n",
       "      <td>Unprovoked</td>\n",
       "      <td>SOUTH AFRICA</td>\n",
       "      <td>Western Cape Province</td>\n",
       "      <td>Stilbaai</td>\n",
       "      <td>Swimming</td>\n",
       "      <td>The son of Rabbi East</td>\n",
       "      <td>M</td>\n",
       "      <td>16</td>\n",
       "      <td>FATAL</td>\n",
       "      <td>Y</td>\n",
       "      <td>NaN</td>\n",
       "      <td>NaN</td>\n",
       "      <td>Fairbridge Index, Cape Archives, M. Levine, GSAF</td>\n",
       "      <td>12</td>\n",
       "    </tr>\n",
       "  </tbody>\n",
       "</table>\n",
       "</div>"
      ],
      "text/plain": [
       "     Case Number         Date    Year        Type       Country  \\\n",
       "5428  1908.12.31  31-Dec-1908  1908.0  Unprovoked  SOUTH AFRICA   \n",
       "\n",
       "                       Area  Location  Activity                   Name Sex  \\\n",
       "5428  Western Cape Province  Stilbaai  Swimming  The son of Rabbi East   M   \n",
       "\n",
       "     Age Injury Fatal (Y/N) Time Species  \\\n",
       "5428  16  FATAL           Y  NaN     NaN   \n",
       "\n",
       "                                Investigator or Source  Month  \n",
       "5428  Fairbridge Index, Cape Archives, M. Levine, GSAF     12  "
      ]
     },
     "execution_count": 33,
     "metadata": {},
     "output_type": "execute_result"
    }
   ],
   "source": [
    "# Checking that filters work:\n",
    "\n",
    "sharks_clean[south_africa].sample() # ok works"
   ]
  },
  {
   "cell_type": "code",
   "execution_count": 34,
   "id": "8f6de0a5",
   "metadata": {},
   "outputs": [
    {
     "data": {
      "image/png": "[encoded data removed]",
      "text/plain": [
       "<Figure size 720x576 with 3 Axes>"
      ]
     },
     "metadata": {
      "needs_background": "light"
     },
     "output_type": "display_data"
    }
   ],
   "source": [
    "fig_month_country, ax = plt.subplots(nrows = 3, ncols = 1, figsize=(10,8)) # preparing the environment: graphs to be filled\n",
    "\n",
    "fig_month_country.suptitle('Shark Season in TOP 3 countries')\n",
    "\n",
    "# x axis:\n",
    "x = sharks_clean.groupby(\"Month\").indices.keys()\n",
    "  \n",
    "# y axes: y1 (top graph - USA), y2 (middle graph - AUSTRALIA), y3 (bottom graph - SOUTH AFRICA):\n",
    "y1 = sharks_clean[usa].groupby(\"Month\").size()\n",
    "y2 = sharks_clean[australia].groupby(\"Month\").size()\n",
    "y3 = sharks_clean[south_africa].groupby(\"Month\").size()\n",
    "\n",
    "# first graph, USA\n",
    "plt.sca(ax[0])\n",
    "plt.plot(x, y1, 'b')\n",
    "plt.ylabel(ylabel=\"Nº reports\")\n",
    "plt.xticks(ticks = range(1,13), labels=[\"\",\"\",\"\",\"\",\"\",\"\",\"\",\"\",\"\",\"\",\"\",\"\"])\n",
    "plt.title('USA')\n",
    "plt.fill_between(x, y1, alpha = 0.1, color = 'b')\n",
    "\n",
    "# second graph, AUSTRALIA  \n",
    "plt.sca(ax[1])\n",
    "plt.plot(x, y2, 'r')\n",
    "plt.ylabel(ylabel=\"Nº reports\")\n",
    "plt.xticks(ticks = range(1,13), labels=[\"\",\"\",\"\",\"\",\"\",\"\",\"\",\"\",\"\",\"\",\"\",\"\"])\n",
    "plt.title('Australia')\n",
    "plt.fill_between(x, y2, alpha = 0.1, color = 'r')\n",
    "\n",
    "# third graph, SOUTH AFRICA  \n",
    "plt.sca(ax[2])\n",
    "plt.plot(x, y3, 'g')\n",
    "plt.ylabel(ylabel=\"Nº reports\")\n",
    "plt.xticks(ticks = range(1,13), labels=[\"Jan\",\"Feb\",\"Mar\",\"Apr\",\"May\",\"Jun\",\"Jul\",\"Aug\",\"Sep\",\"Oct\",\"Nov\",\"Dec\"])\n",
    "plt.title('South Africa')\n",
    "plt.fill_between(x, y3, alpha = 0.1, color = 'g')\n",
    "\n",
    "plt.show() "
   ]
  },
  {
   "cell_type": "markdown",
   "id": "98f3f4f5",
   "metadata": {},
   "source": [
    "**Conclusions:** \n",
    "- Shark season is Jun-Oct in USA\n",
    "- Shark season is Dec-Feb in Australia and South Africa\n",
    "  \n",
    "We could use this approach to check Shark season in different countries/regions (for instance: East vs West-coast of USA).  \n",
    "\n",
    "Now, Shark Season might look different in the past, since global warming is affecting their habitats.\n",
    "Let's see if it changes by year.  \n",
    "Start of industrialization: year 1760 - but we migt not have many reports on those years."
   ]
  },
  {
   "cell_type": "markdown",
   "id": "bb69cfac",
   "metadata": {},
   "source": [
    "## 'Shark season' by year - Climate change"
   ]
  },
  {
   "cell_type": "markdown",
   "id": "7755c549",
   "metadata": {},
   "source": [
    "### Cleaning Year"
   ]
  },
  {
   "cell_type": "code",
   "execution_count": 35,
   "id": "795bae4c",
   "metadata": {},
   "outputs": [
    {
     "data": {
      "text/plain": [
       "array([2018., 2017.,   nan, 2016., 2015., 2014., 2013., 2012., 2011.,\n",
       "       2010., 2009., 2008., 2007., 2006., 2005., 2004., 2003., 2002.,\n",
       "       2001., 2000., 1999., 1998., 1997., 1996., 1995., 1984., 1994.,\n",
       "       1993., 1992., 1991., 1990., 1989., 1969., 1988., 1987., 1986.,\n",
       "       1985., 1983., 1982., 1981., 1980., 1979., 1978., 1977., 1976.,\n",
       "       1975., 1974., 1973., 1972., 1971., 1970., 1968., 1967., 1966.,\n",
       "       1965., 1964., 1963., 1962., 1961., 1960., 1959., 1958., 1957.,\n",
       "       1956., 1955., 1954., 1953., 1952., 1951., 1950., 1949., 1948.,\n",
       "       1848., 1947., 1946., 1945., 1944., 1943., 1942., 1941., 1940.,\n",
       "       1939., 1938., 1937., 1936., 1935., 1934., 1933., 1932., 1931.,\n",
       "       1930., 1929., 1928., 1927., 1926., 1925., 1924., 1923., 1922.,\n",
       "       1921., 1920., 1919., 1918., 1917., 1916., 1915., 1914., 1913.,\n",
       "       1912., 1911., 1910., 1909., 1908., 1907., 1906., 1905., 1904.,\n",
       "       1903., 1902., 1901., 1900., 1899., 1898., 1897., 1896., 1895.,\n",
       "       1894., 1893., 1892., 1891., 1890., 1889., 1888., 1887., 1886.,\n",
       "       1885., 1884., 1883., 1882., 1881., 1880., 1879., 1878., 1877.,\n",
       "       1876., 1875., 1874., 1873., 1872., 1871., 1870., 1869., 1868.,\n",
       "       1867., 1866., 1865., 1864., 1863., 1862., 1861., 1860., 1859.,\n",
       "       1858., 1857., 1856., 1855., 1853., 1852., 1851., 1850., 1849.,\n",
       "       1847., 1846., 1845., 1844., 1842., 1841., 1840., 1839., 1837.,\n",
       "       1835., 1834., 1832., 1831., 1830., 1829., 1828., 1826., 1823.,\n",
       "       1822., 1819., 1818., 1817., 1810., 1808., 1807., 1804., 1792.,\n",
       "       1788., 1786., 1785., 1784., 1783., 1780., 1771., 1753., 1751.,\n",
       "       1738., 1703., 1580.,    0.])"
      ]
     },
     "execution_count": 35,
     "metadata": {},
     "output_type": "execute_result"
    }
   ],
   "source": [
    "sharks_clean[\"Year\"].unique() # We might need to focus on USA & Australia since they have the most reports by month"
   ]
  },
  {
   "cell_type": "code",
   "execution_count": 36,
   "id": "cba97a1f",
   "metadata": {},
   "outputs": [
    {
     "data": {
      "text/plain": [
       "2015.0    141\n",
       "2017.0    133\n",
       "2016.0    129\n",
       "2011.0    127\n",
       "2014.0    122\n",
       "         ... \n",
       "1851.0      1\n",
       "1850.0      1\n",
       "1831.0      1\n",
       "1834.0      1\n",
       "1869.0      1\n",
       "Name: Year, Length: 210, dtype: int64"
      ]
     },
     "execution_count": 36,
     "metadata": {},
     "output_type": "execute_result"
    }
   ],
   "source": [
    "sharks_clean[\"Year\"].value_counts()"
   ]
  },
  {
   "cell_type": "markdown",
   "id": "883416e2",
   "metadata": {},
   "source": [
    "Let's clean the Year column, just remove the zeros and delete those for which I have no year.  \n",
    "Also I could bin them in spans of 20 years?"
   ]
  },
  {
   "cell_type": "code",
   "execution_count": 37,
   "id": "5f4bb9cc",
   "metadata": {},
   "outputs": [],
   "source": [
    "# Convert to int and fill NaN with 0 \n",
    "\n",
    "try:\n",
    "    sharks_clean[\"Year\"] = sharks_clean[\"Year\"].astype(int)\n",
    "except Exception:\n",
    "    sharks_clean['Year'] = sharks_clean['Year'].fillna(0).astype(int)"
   ]
  },
  {
   "cell_type": "code",
   "execution_count": 38,
   "id": "fd1e5117",
   "metadata": {},
   "outputs": [
    {
     "name": "stdout",
     "output_type": "stream",
     "text": [
      "Case Number               object\n",
      "Date                      object\n",
      "Year                       int32\n",
      "Type                      object\n",
      "Country                   object\n",
      "Area                      object\n",
      "Location                  object\n",
      "Activity                  object\n",
      "Name                      object\n",
      "Sex                       object\n",
      "Age                       object\n",
      "Injury                    object\n",
      "Fatal (Y/N)               object\n",
      "Time                      object\n",
      "Species                   object\n",
      "Investigator or Source    object\n",
      "Month                      int64\n",
      "dtype: object\n"
     ]
    }
   ],
   "source": [
    "print(sharks_clean.dtypes) # Converted to int"
   ]
  },
  {
   "cell_type": "code",
   "execution_count": 39,
   "id": "58db5197",
   "metadata": {},
   "outputs": [
    {
     "data": {
      "text/plain": [
       "array([2018, 2017,    0, 2016, 2015, 2014, 2013, 2012, 2011, 2010, 2009,\n",
       "       2008, 2007, 2006, 2005, 2004, 2003, 2002, 2001, 2000, 1999, 1998,\n",
       "       1997, 1996, 1995, 1984, 1994, 1993, 1992, 1991, 1990, 1989, 1969,\n",
       "       1988, 1987, 1986, 1985, 1983, 1982, 1981, 1980, 1979, 1978, 1977,\n",
       "       1976, 1975, 1974, 1973, 1972, 1971, 1970, 1968, 1967, 1966, 1965,\n",
       "       1964, 1963, 1962, 1961, 1960, 1959, 1958, 1957, 1956, 1955, 1954,\n",
       "       1953, 1952, 1951, 1950, 1949, 1948, 1848, 1947, 1946, 1945, 1944,\n",
       "       1943, 1942, 1941, 1940, 1939, 1938, 1937, 1936, 1935, 1934, 1933,\n",
       "       1932, 1931, 1930, 1929, 1928, 1927, 1926, 1925, 1924, 1923, 1922,\n",
       "       1921, 1920, 1919, 1918, 1917, 1916, 1915, 1914, 1913, 1912, 1911,\n",
       "       1910, 1909, 1908, 1907, 1906, 1905, 1904, 1903, 1902, 1901, 1900,\n",
       "       1899, 1898, 1897, 1896, 1895, 1894, 1893, 1892, 1891, 1890, 1889,\n",
       "       1888, 1887, 1886, 1885, 1884, 1883, 1882, 1881, 1880, 1879, 1878,\n",
       "       1877, 1876, 1875, 1874, 1873, 1872, 1871, 1870, 1869, 1868, 1867,\n",
       "       1866, 1865, 1864, 1863, 1862, 1861, 1860, 1859, 1858, 1857, 1856,\n",
       "       1855, 1853, 1852, 1851, 1850, 1849, 1847, 1846, 1845, 1844, 1842,\n",
       "       1841, 1840, 1839, 1837, 1835, 1834, 1832, 1831, 1830, 1829, 1828,\n",
       "       1826, 1823, 1822, 1819, 1818, 1817, 1810, 1808, 1807, 1804, 1792,\n",
       "       1788, 1786, 1785, 1784, 1783, 1780, 1771, 1753, 1751, 1738, 1703,\n",
       "       1580])"
      ]
     },
     "execution_count": 39,
     "metadata": {},
     "output_type": "execute_result"
    }
   ],
   "source": [
    "sharks_clean[\"Year\"].unique() # Filled NaN with 0"
   ]
  },
  {
   "cell_type": "code",
   "execution_count": 40,
   "id": "c452cab9",
   "metadata": {},
   "outputs": [],
   "source": [
    "# Let's remove the rows in which year = 0\n",
    "\n",
    "year_zero = sharks_clean['Year'] == 0\n",
    "sharks_clean = sharks_clean.drop(sharks_clean[year_zero].index)"
   ]
  },
  {
   "cell_type": "code",
   "execution_count": 41,
   "id": "cf51499f",
   "metadata": {},
   "outputs": [
    {
     "data": {
      "text/html": [
       "<div>\n",
       "<style scoped>\n",
       "    .dataframe tbody tr th:only-of-type {\n",
       "        vertical-align: middle;\n",
       "    }\n",
       "\n",
       "    .dataframe tbody tr th {\n",
       "        vertical-align: top;\n",
       "    }\n",
       "\n",
       "    .dataframe thead th {\n",
       "        text-align: right;\n",
       "    }\n",
       "</style>\n",
       "<table border=\"1\" class=\"dataframe\">\n",
       "  <thead>\n",
       "    <tr style=\"text-align: right;\">\n",
       "      <th></th>\n",
       "      <th>Case Number</th>\n",
       "      <th>Date</th>\n",
       "      <th>Year</th>\n",
       "      <th>Type</th>\n",
       "      <th>Country</th>\n",
       "      <th>Area</th>\n",
       "      <th>Location</th>\n",
       "      <th>Activity</th>\n",
       "      <th>Name</th>\n",
       "      <th>Sex</th>\n",
       "      <th>Age</th>\n",
       "      <th>Injury</th>\n",
       "      <th>Fatal (Y/N)</th>\n",
       "      <th>Time</th>\n",
       "      <th>Species</th>\n",
       "      <th>Investigator or Source</th>\n",
       "      <th>Month</th>\n",
       "    </tr>\n",
       "  </thead>\n",
       "  <tbody>\n",
       "    <tr>\n",
       "      <th>6156</th>\n",
       "      <td>1738.04.06.R</td>\n",
       "      <td>Reported 06-Apr-1738</td>\n",
       "      <td>1738</td>\n",
       "      <td>Unprovoked</td>\n",
       "      <td>ITALY</td>\n",
       "      <td>Sicily</td>\n",
       "      <td>Strait of Messina</td>\n",
       "      <td>Swimming</td>\n",
       "      <td>male</td>\n",
       "      <td>M</td>\n",
       "      <td>NaN</td>\n",
       "      <td>FATAL</td>\n",
       "      <td>Y</td>\n",
       "      <td>NaN</td>\n",
       "      <td>NaN</td>\n",
       "      <td>C. Moore, GSAF</td>\n",
       "      <td>4</td>\n",
       "    </tr>\n",
       "    <tr>\n",
       "      <th>6160</th>\n",
       "      <td>1703.03.26</td>\n",
       "      <td>26-Mar-1703</td>\n",
       "      <td>1703</td>\n",
       "      <td>Unprovoked</td>\n",
       "      <td>BARBADOS</td>\n",
       "      <td>Southwest coast</td>\n",
       "      <td>Carlisle Bay</td>\n",
       "      <td>Swimming</td>\n",
       "      <td>Samuel Jennings, a deserter from the British f...</td>\n",
       "      <td>M</td>\n",
       "      <td>19</td>\n",
       "      <td>Hand and foot severely bitten, surgically ampu...</td>\n",
       "      <td>N</td>\n",
       "      <td>Night</td>\n",
       "      <td>NaN</td>\n",
       "      <td>W.R.Cutter, Vol.1, p.252</td>\n",
       "      <td>3</td>\n",
       "    </tr>\n",
       "    <tr>\n",
       "      <th>6170</th>\n",
       "      <td>1580.01.10.R</td>\n",
       "      <td>Letter dated 10-Jan-1580</td>\n",
       "      <td>1580</td>\n",
       "      <td>Unprovoked</td>\n",
       "      <td>BETWEEN PORTUGAL &amp; INDIA</td>\n",
       "      <td>NaN</td>\n",
       "      <td>NaN</td>\n",
       "      <td>Man fell overboard from ship. Those on board t...</td>\n",
       "      <td>male</td>\n",
       "      <td>M</td>\n",
       "      <td>NaN</td>\n",
       "      <td>FATAL. \"Shark tore him to pieces.</td>\n",
       "      <td>Y</td>\n",
       "      <td>NaN</td>\n",
       "      <td>NaN</td>\n",
       "      <td>G.P. Whitley, p. 10</td>\n",
       "      <td>1</td>\n",
       "    </tr>\n",
       "  </tbody>\n",
       "</table>\n",
       "</div>"
      ],
      "text/plain": [
       "       Case Number                      Date  Year        Type  \\\n",
       "6156  1738.04.06.R      Reported 06-Apr-1738  1738  Unprovoked   \n",
       "6160    1703.03.26               26-Mar-1703  1703  Unprovoked   \n",
       "6170  1580.01.10.R  Letter dated 10-Jan-1580  1580  Unprovoked   \n",
       "\n",
       "                       Country             Area           Location  \\\n",
       "6156                     ITALY           Sicily  Strait of Messina   \n",
       "6160                  BARBADOS  Southwest coast       Carlisle Bay   \n",
       "6170  BETWEEN PORTUGAL & INDIA              NaN                NaN   \n",
       "\n",
       "                                               Activity  \\\n",
       "6156                                           Swimming   \n",
       "6160                                           Swimming   \n",
       "6170  Man fell overboard from ship. Those on board t...   \n",
       "\n",
       "                                                   Name Sex  Age  \\\n",
       "6156                                               male   M  NaN   \n",
       "6160  Samuel Jennings, a deserter from the British f...   M   19   \n",
       "6170                                               male   M  NaN   \n",
       "\n",
       "                                                 Injury Fatal (Y/N)   Time  \\\n",
       "6156                                              FATAL           Y    NaN   \n",
       "6160  Hand and foot severely bitten, surgically ampu...           N  Night   \n",
       "6170                  FATAL. \"Shark tore him to pieces.           Y    NaN   \n",
       "\n",
       "     Species    Investigator or Source  Month  \n",
       "6156     NaN            C. Moore, GSAF      4  \n",
       "6160     NaN  W.R.Cutter, Vol.1, p.252      3  \n",
       "6170     NaN       G.P. Whitley, p. 10      1  "
      ]
     },
     "execution_count": 41,
     "metadata": {},
     "output_type": "execute_result"
    }
   ],
   "source": [
    "sharks_clean.tail(3)"
   ]
  },
  {
   "cell_type": "code",
   "execution_count": 42,
   "id": "db1a9152",
   "metadata": {},
   "outputs": [
    {
     "data": {
      "text/plain": [
       "(5352, 17)"
      ]
     },
     "execution_count": 42,
     "metadata": {},
     "output_type": "execute_result"
    }
   ],
   "source": [
    "sharks_clean.shape # Removed"
   ]
  },
  {
   "cell_type": "markdown",
   "id": "4006e6d7",
   "metadata": {},
   "source": [
    "### Reports by year (worldwide)"
   ]
  },
  {
   "cell_type": "code",
   "execution_count": 43,
   "id": "20f28da4",
   "metadata": {},
   "outputs": [
    {
     "data": {
      "image/png": "[encoded data removed]",
      "text/plain": [
       "<Figure size 432x288 with 1 Axes>"
      ]
     },
     "metadata": {
      "needs_background": "light"
     },
     "output_type": "display_data"
    }
   ],
   "source": [
    "# Let's check the reports by year in the world\n",
    "\n",
    "fig_reports_year = sns.histplot(x = sharks_clean[\"Year\"], bins = 30, color = \"coral\", alpha = 0.5).set(title='Reports around the world by year')"
   ]
  },
  {
   "cell_type": "markdown",
   "id": "427707ca",
   "metadata": {},
   "source": [
    "### Visualization: USA"
   ]
  },
  {
   "cell_type": "code",
   "execution_count": 44,
   "id": "b2017f81",
   "metadata": {},
   "outputs": [],
   "source": [
    "# Let's create a new dataframe and will just keep those rows were Country == USA\n",
    "\n",
    "country_USA = sharks_clean['Country'] != \"USA\"\n",
    "sharks_clean_USA = sharks_clean.drop(sharks_clean[country_USA].index)"
   ]
  },
  {
   "cell_type": "code",
   "execution_count": 45,
   "id": "89d10b2f",
   "metadata": {},
   "outputs": [
    {
     "data": {
      "text/plain": [
       "(2049, 17)"
      ]
     },
     "execution_count": 45,
     "metadata": {},
     "output_type": "execute_result"
    }
   ],
   "source": [
    "sharks_clean_USA.shape"
   ]
  },
  {
   "cell_type": "code",
   "execution_count": 46,
   "id": "ed1c929a",
   "metadata": {},
   "outputs": [
    {
     "data": {
      "text/html": [
       "<div>\n",
       "<style scoped>\n",
       "    .dataframe tbody tr th:only-of-type {\n",
       "        vertical-align: middle;\n",
       "    }\n",
       "\n",
       "    .dataframe tbody tr th {\n",
       "        vertical-align: top;\n",
       "    }\n",
       "\n",
       "    .dataframe thead th {\n",
       "        text-align: right;\n",
       "    }\n",
       "</style>\n",
       "<table border=\"1\" class=\"dataframe\">\n",
       "  <thead>\n",
       "    <tr style=\"text-align: right;\">\n",
       "      <th></th>\n",
       "      <th>Case Number</th>\n",
       "      <th>Date</th>\n",
       "      <th>Year</th>\n",
       "      <th>Type</th>\n",
       "      <th>Country</th>\n",
       "      <th>Area</th>\n",
       "      <th>Location</th>\n",
       "      <th>Activity</th>\n",
       "      <th>Name</th>\n",
       "      <th>Sex</th>\n",
       "      <th>Age</th>\n",
       "      <th>Injury</th>\n",
       "      <th>Fatal (Y/N)</th>\n",
       "      <th>Time</th>\n",
       "      <th>Species</th>\n",
       "      <th>Investigator or Source</th>\n",
       "      <th>Month</th>\n",
       "    </tr>\n",
       "  </thead>\n",
       "  <tbody>\n",
       "    <tr>\n",
       "      <th>2237</th>\n",
       "      <td>1997.08.05</td>\n",
       "      <td>05-Aug-1997</td>\n",
       "      <td>1997</td>\n",
       "      <td>Unprovoked</td>\n",
       "      <td>USA</td>\n",
       "      <td>Texas</td>\n",
       "      <td>East Beach, Galveston</td>\n",
       "      <td>Wading</td>\n",
       "      <td>female</td>\n",
       "      <td>F</td>\n",
       "      <td>10</td>\n",
       "      <td>Wrist &amp; am bitten</td>\n",
       "      <td>N</td>\n",
       "      <td>NaN</td>\n",
       "      <td>1 m shark</td>\n",
       "      <td>Austin American Statesman, 8/7/1997, p.C8</td>\n",
       "      <td>8</td>\n",
       "    </tr>\n",
       "  </tbody>\n",
       "</table>\n",
       "</div>"
      ],
      "text/plain": [
       "     Case Number         Date  Year        Type Country   Area  \\\n",
       "2237  1997.08.05  05-Aug-1997  1997  Unprovoked     USA  Texas   \n",
       "\n",
       "                   Location Activity    Name Sex Age             Injury  \\\n",
       "2237  East Beach, Galveston   Wading  female   F  10  Wrist & am bitten   \n",
       "\n",
       "     Fatal (Y/N) Time    Species                     Investigator or Source  \\\n",
       "2237           N  NaN  1 m shark  Austin American Statesman, 8/7/1997, p.C8   \n",
       "\n",
       "      Month  \n",
       "2237      8  "
      ]
     },
     "execution_count": 46,
     "metadata": {},
     "output_type": "execute_result"
    }
   ],
   "source": [
    "sharks_clean_USA.sample()"
   ]
  },
  {
   "cell_type": "code",
   "execution_count": 47,
   "id": "630d7ad2",
   "metadata": {},
   "outputs": [],
   "source": [
    "# Check visually how many reports by year\n",
    "list_year_USA = sharks_clean_USA[\"Year\"].tolist()\n",
    "#print(list_year_USA)"
   ]
  },
  {
   "cell_type": "code",
   "execution_count": 48,
   "id": "09379bb6",
   "metadata": {},
   "outputs": [
    {
     "name": "stdout",
     "output_type": "stream",
     "text": [
      "Cases 2000-2018: 997 . Cases 1980-2000: 450 . Cases 1960-1980: 235 . Cases 1940-1960: 124 . Cases 1920-1940: 78 . Cases 1900-1920: 72\n"
     ]
    }
   ],
   "source": [
    "# Grouping reports by binning years, just to have an idea\n",
    "\n",
    "count_2018 = 0\n",
    "count_2000 = 0\n",
    "count_1980 = 0\n",
    "count_1960 = 0\n",
    "count_1940 = 0\n",
    "count_1920 = 0\n",
    "\n",
    "for i in list_year_USA:\n",
    "    if i >= 2000:\n",
    "        count_2018 +=1\n",
    "    if i >= 1980 and i < 2000:\n",
    "        count_2000 +=1\n",
    "    if i >= 1960 and i < 1980:\n",
    "        count_1980 +=1\n",
    "    if i >= 1940 and i < 1960:\n",
    "        count_1960 +=1\n",
    "    if i >= 1920 and i < 1940:\n",
    "        count_1940 +=1\n",
    "    if i >= 1900 and i < 1920:\n",
    "        count_1920 +=1\n",
    "\n",
    "print(\"Cases 2000-2018:\", count_2018, \n",
    "      \". Cases 1980-2000:\", count_2000, \n",
    "      \". Cases 1960-1980:\", count_1980, \n",
    "      \". Cases 1940-1960:\", count_1960, \n",
    "      \". Cases 1920-1940:\", count_1940, \n",
    "      \". Cases 1900-1920:\", count_1920,\n",
    ")"
   ]
  },
  {
   "cell_type": "code",
   "execution_count": 49,
   "id": "7115978c",
   "metadata": {},
   "outputs": [
    {
     "data": {
      "image/png": "[encoded data removed]",
      "text/plain": [
       "<Figure size 576x864 with 5 Axes>"
      ]
     },
     "metadata": {
      "needs_background": "light"
     },
     "output_type": "display_data"
    }
   ],
   "source": [
    "# Let's check the reports by year and month in USA\n",
    "\n",
    "fig_month_year_USA, ax = plt.subplots(nrows = 5, ncols = 1, figsize=(8,12)) # preparing the environment: graphs to be filled\n",
    "\n",
    "fig_month_year_USA.suptitle('Reports by month and year in USA', y=0.95)\n",
    "\n",
    "# conditions:\n",
    "year_2000_2018 = (sharks_clean_USA[\"Year\"] >= 2000)\n",
    "year_1980_2000 = (sharks_clean_USA[\"Year\"] >= 1980) & (sharks_clean_USA[\"Year\"] < 2000)\n",
    "year_1960_1980 = (sharks_clean_USA[\"Year\"] >= 1960) & (sharks_clean_USA[\"Year\"] < 1980)\n",
    "year_1940_1960 = (sharks_clean_USA[\"Year\"] >= 1940) & (sharks_clean_USA[\"Year\"] < 1960)\n",
    "year_1920_1940 = (sharks_clean_USA[\"Year\"] >= 1920) & (sharks_clean_USA[\"Year\"] < 1940)\n",
    "year_1900_1920 = (sharks_clean_USA[\"Year\"] >= 1900) & (sharks_clean_USA[\"Year\"] < 1920)\n",
    "\n",
    "# x axis:\n",
    "x = sharks_clean_USA.groupby(\"Month\").indices.keys()\n",
    "  \n",
    "# y axes:\n",
    "y1 = sharks_clean_USA[year_2000_2018].groupby(\"Month\").size()\n",
    "y2 = sharks_clean_USA[year_1980_2000].groupby(\"Month\").size()\n",
    "y3 = sharks_clean_USA[year_1960_1980].groupby(\"Month\").size()\n",
    "y4 = sharks_clean_USA[year_1940_1960].groupby(\"Month\").size()\n",
    "y5 = sharks_clean_USA[year_1920_1940].groupby(\"Month\").size()\n",
    "y6 = sharks_clean_USA[year_1900_1920].groupby(\"Month\").size()\n",
    "\n",
    "# 1st\n",
    "plt.sca(ax[0])\n",
    "plt.plot(x, y1, 'b')\n",
    "plt.ylabel(ylabel=\"Nº reports\")\n",
    "plt.xticks(ticks = range(1,13), labels=[\"\",\"\",\"\",\"\",\"\",\"\",\"\",\"\",\"\",\"\",\"\",\"\"])\n",
    "plt.title('2000-2018')\n",
    "\n",
    "# 2nd\n",
    "plt.sca(ax[1])\n",
    "plt.plot(x, y2, 'b')\n",
    "plt.ylabel(ylabel=\"Nº reports\")\n",
    "plt.xticks(ticks = range(1,13), labels=[\"\",\"\",\"\",\"\",\"\",\"\",\"\",\"\",\"\",\"\",\"\",\"\"])\n",
    "plt.title('1980-2000')\n",
    "\n",
    "# 3rd\n",
    "plt.sca(ax[2])\n",
    "plt.plot(x, y3, 'b')\n",
    "plt.ylabel(ylabel=\"Nº reports\")\n",
    "plt.xticks(ticks = range(1,13), labels=[\"\",\"\",\"\",\"\",\"\",\"\",\"\",\"\",\"\",\"\",\"\",\"\"])\n",
    "plt.title('1960-1980')\n",
    "\n",
    "# 4th\n",
    "plt.sca(ax[3])\n",
    "plt.plot(x, y4, 'b')\n",
    "plt.ylabel(ylabel=\"Nº reports\")\n",
    "plt.xticks(ticks = range(1,13), labels=[\"\",\"\",\"\",\"\",\"\",\"\",\"\",\"\",\"\",\"\",\"\",\"\"])\n",
    "plt.title('1940-1960')\n",
    "\n",
    "# 5th\n",
    "plt.sca(ax[4])\n",
    "plt.plot(x, y5, 'b')\n",
    "plt.ylabel(ylabel=\"Nº reports\")\n",
    "plt.xticks(ticks = range(1,13), labels=[\"Jan\",\"Feb\",\"Mar\",\"Apr\",\"May\",\"Jun\",\"Jul\",\"Aug\",\"Sep\",\"Oct\",\"Nov\",\"Dec\"])\n",
    "plt.title('1920-1940')\n",
    "\n",
    "plt.show() "
   ]
  },
  {
   "cell_type": "markdown",
   "id": "110221ec",
   "metadata": {},
   "source": [
    "Are attacks starting earlier and stopping later since year 2000? More cases reported in April and October when compared to other years"
   ]
  },
  {
   "cell_type": "markdown",
   "id": "2f106d28",
   "metadata": {},
   "source": [
    "### Visualization: Australia"
   ]
  },
  {
   "cell_type": "code",
   "execution_count": 50,
   "id": "e6d1c116",
   "metadata": {},
   "outputs": [],
   "source": [
    "# As we did for USA, let's create a dataframe with only the data of Australia\n",
    "country_australia = sharks_clean['Country'] != \"AUSTRALIA\"\n",
    "sharks_clean_australia = sharks_clean.drop(sharks_clean[country_australia].index)"
   ]
  },
  {
   "cell_type": "code",
   "execution_count": 51,
   "id": "327f5b87",
   "metadata": {},
   "outputs": [
    {
     "data": {
      "text/plain": [
       "(1226, 17)"
      ]
     },
     "execution_count": 51,
     "metadata": {},
     "output_type": "execute_result"
    }
   ],
   "source": [
    "sharks_clean_australia.shape"
   ]
  },
  {
   "cell_type": "code",
   "execution_count": 52,
   "id": "3be53554",
   "metadata": {},
   "outputs": [
    {
     "data": {
      "text/html": [
       "<div>\n",
       "<style scoped>\n",
       "    .dataframe tbody tr th:only-of-type {\n",
       "        vertical-align: middle;\n",
       "    }\n",
       "\n",
       "    .dataframe tbody tr th {\n",
       "        vertical-align: top;\n",
       "    }\n",
       "\n",
       "    .dataframe thead th {\n",
       "        text-align: right;\n",
       "    }\n",
       "</style>\n",
       "<table border=\"1\" class=\"dataframe\">\n",
       "  <thead>\n",
       "    <tr style=\"text-align: right;\">\n",
       "      <th></th>\n",
       "      <th>Case Number</th>\n",
       "      <th>Date</th>\n",
       "      <th>Year</th>\n",
       "      <th>Type</th>\n",
       "      <th>Country</th>\n",
       "      <th>Area</th>\n",
       "      <th>Location</th>\n",
       "      <th>Activity</th>\n",
       "      <th>Name</th>\n",
       "      <th>Sex</th>\n",
       "      <th>Age</th>\n",
       "      <th>Injury</th>\n",
       "      <th>Fatal (Y/N)</th>\n",
       "      <th>Time</th>\n",
       "      <th>Species</th>\n",
       "      <th>Investigator or Source</th>\n",
       "      <th>Month</th>\n",
       "    </tr>\n",
       "  </thead>\n",
       "  <tbody>\n",
       "    <tr>\n",
       "      <th>4890</th>\n",
       "      <td>1936.01.05</td>\n",
       "      <td>05-Jan-1936</td>\n",
       "      <td>1936</td>\n",
       "      <td>Invalid</td>\n",
       "      <td>AUSTRALIA</td>\n",
       "      <td>Queensland</td>\n",
       "      <td>Main Beach, Southport</td>\n",
       "      <td>Surfing</td>\n",
       "      <td>Kevin Canavan</td>\n",
       "      <td>M</td>\n",
       "      <td>17</td>\n",
       "      <td>Disappeared &amp; his torn clothing washed ashore</td>\n",
       "      <td>NaN</td>\n",
       "      <td>NaN</td>\n",
       "      <td>Shark involvement prior to death was not confi...</td>\n",
       "      <td>Canberra Times, 1/7/1936; V.M. Coppleson, p.92-93</td>\n",
       "      <td>1</td>\n",
       "    </tr>\n",
       "  </tbody>\n",
       "</table>\n",
       "</div>"
      ],
      "text/plain": [
       "     Case Number         Date  Year     Type    Country        Area  \\\n",
       "4890  1936.01.05  05-Jan-1936  1936  Invalid  AUSTRALIA  Queensland   \n",
       "\n",
       "                   Location Activity           Name Sex Age  \\\n",
       "4890  Main Beach, Southport  Surfing  Kevin Canavan   M  17   \n",
       "\n",
       "                                             Injury Fatal (Y/N) Time  \\\n",
       "4890  Disappeared & his torn clothing washed ashore         NaN  NaN   \n",
       "\n",
       "                                                Species  \\\n",
       "4890  Shark involvement prior to death was not confi...   \n",
       "\n",
       "                                 Investigator or Source  Month  \n",
       "4890  Canberra Times, 1/7/1936; V.M. Coppleson, p.92-93      1  "
      ]
     },
     "execution_count": 52,
     "metadata": {},
     "output_type": "execute_result"
    }
   ],
   "source": [
    "sharks_clean_australia.sample()"
   ]
  },
  {
   "cell_type": "code",
   "execution_count": 53,
   "id": "99dee230",
   "metadata": {},
   "outputs": [
    {
     "data": {
      "image/png": "[encoded data removed]",
      "text/plain": [
       "<Figure size 576x864 with 5 Axes>"
      ]
     },
     "metadata": {
      "needs_background": "light"
     },
     "output_type": "display_data"
    }
   ],
   "source": [
    "# Let's check the reports by year and month in USA\n",
    "\n",
    "fig_month_year_australia, ax = plt.subplots(nrows = 5, ncols = 1, figsize=(8,12)) # preparing the environment: graphs to be filled\n",
    "\n",
    "fig_month_year_australia.suptitle('Reports by month and year in Australia', y=0.95)\n",
    "\n",
    "# conditions:\n",
    "year_2000_2018 = (sharks_clean_australia[\"Year\"] >= 2000)\n",
    "year_1980_2000 = (sharks_clean_australia[\"Year\"] >= 1980) & (sharks_clean_australia[\"Year\"] < 2000)\n",
    "year_1960_1980 = (sharks_clean_australia[\"Year\"] >= 1960) & (sharks_clean_australia[\"Year\"] < 1980)\n",
    "year_1940_1960 = (sharks_clean_australia[\"Year\"] >= 1940) & (sharks_clean_australia[\"Year\"] < 1960)\n",
    "year_1920_1940 = (sharks_clean_australia[\"Year\"] >= 1920) & (sharks_clean_australia[\"Year\"] < 1940)\n",
    "year_1900_1920 = (sharks_clean_australia[\"Year\"] >= 1900) & (sharks_clean_australia[\"Year\"] < 1920)\n",
    "\n",
    "# x axis:\n",
    "x = sharks_clean_australia.groupby(\"Month\").indices.keys()\n",
    "  \n",
    "# y axes:\n",
    "y1 = sharks_clean_australia[year_2000_2018].groupby(\"Month\").size()\n",
    "y2 = sharks_clean_australia[year_1980_2000].groupby(\"Month\").size()\n",
    "y3 = sharks_clean_australia[year_1960_1980].groupby(\"Month\").size()\n",
    "y4 = sharks_clean_australia[year_1940_1960].groupby(\"Month\").size()\n",
    "y5 = sharks_clean_australia[year_1920_1940].groupby(\"Month\").size()\n",
    "y6 = sharks_clean_australia[year_1900_1920].groupby(\"Month\").size()\n",
    "\n",
    "# 1st\n",
    "plt.sca(ax[0])\n",
    "plt.plot(x, y1, 'r')\n",
    "plt.ylabel(ylabel=\"Nº reports\")\n",
    "plt.xticks(ticks = range(1,13), labels=[\"\",\"\",\"\",\"\",\"\",\"\",\"\",\"\",\"\",\"\",\"\",\"\"])\n",
    "plt.title('2000-2018')\n",
    "\n",
    "# 2nd\n",
    "plt.sca(ax[1])\n",
    "plt.plot(x, y2, 'r')\n",
    "plt.ylabel(ylabel=\"Nº reports\")\n",
    "plt.xticks(ticks = range(1,13), labels=[\"\",\"\",\"\",\"\",\"\",\"\",\"\",\"\",\"\",\"\",\"\",\"\"])\n",
    "plt.title('1980-2000')\n",
    "\n",
    "# 3rd\n",
    "plt.sca(ax[2])\n",
    "plt.plot(x, y3, 'r')\n",
    "plt.ylabel(ylabel=\"Nº reports\")\n",
    "plt.xticks(ticks = range(1,13), labels=[\"\",\"\",\"\",\"\",\"\",\"\",\"\",\"\",\"\",\"\",\"\",\"\"])\n",
    "plt.title('1960-1980')\n",
    "\n",
    "# 4th\n",
    "plt.sca(ax[3])\n",
    "plt.plot(x, y4, 'r')\n",
    "plt.ylabel(ylabel=\"Nº reports\")\n",
    "plt.xticks(ticks = range(1,13), labels=[\"\",\"\",\"\",\"\",\"\",\"\",\"\",\"\",\"\",\"\",\"\",\"\"])\n",
    "plt.title('1940-1960')\n",
    "\n",
    "# 5th\n",
    "plt.sca(ax[4])\n",
    "plt.plot(x, y5, 'r')\n",
    "plt.ylabel(ylabel=\"Nº reports\")\n",
    "plt.xticks(ticks = range(1,13), labels=[\"Jan\",\"Feb\",\"Mar\",\"Apr\",\"May\",\"Jun\",\"Jul\",\"Aug\",\"Sep\",\"Oct\",\"Nov\",\"Dec\"])\n",
    "plt.title('1920-1940')\n",
    "\n",
    "plt.show() "
   ]
  },
  {
   "cell_type": "markdown",
   "id": "ea604134",
   "metadata": {},
   "source": [
    "## Top 5 deathliest sports: Activity vs Fatality"
   ]
  },
  {
   "cell_type": "code",
   "execution_count": 54,
   "id": "176a9996",
   "metadata": {},
   "outputs": [],
   "source": [
    "# Importing again because I deleted empty columns for analysing months\n",
    "\n",
    "sharks_clean = pd.read_csv('./data/sharks_clean.csv', encoding = \"unicode_escape\")"
   ]
  },
  {
   "cell_type": "code",
   "execution_count": 55,
   "id": "46eeaa9c",
   "metadata": {},
   "outputs": [
    {
     "data": {
      "text/plain": [
       "(6302, 16)"
      ]
     },
     "execution_count": 55,
     "metadata": {},
     "output_type": "execute_result"
    }
   ],
   "source": [
    "sharks_clean.shape"
   ]
  },
  {
   "cell_type": "markdown",
   "id": "adba9a7b",
   "metadata": {},
   "source": [
    "### Cleaning Activity"
   ]
  },
  {
   "cell_type": "code",
   "execution_count": 56,
   "id": "17143e71",
   "metadata": {},
   "outputs": [
    {
     "data": {
      "text/plain": [
       "544"
      ]
     },
     "execution_count": 56,
     "metadata": {},
     "output_type": "execute_result"
    }
   ],
   "source": [
    "sharks_clean['Activity'].isna().sum()"
   ]
  },
  {
   "cell_type": "code",
   "execution_count": 57,
   "id": "107ed424",
   "metadata": {},
   "outputs": [],
   "source": [
    "sharks_clean = sharks_clean[sharks_clean['Activity'].notna()]"
   ]
  },
  {
   "cell_type": "code",
   "execution_count": 58,
   "id": "2c662609",
   "metadata": {},
   "outputs": [
    {
     "data": {
      "text/plain": [
       "(5758, 16)"
      ]
     },
     "execution_count": 58,
     "metadata": {},
     "output_type": "execute_result"
    }
   ],
   "source": [
    "sharks_clean.shape"
   ]
  },
  {
   "cell_type": "code",
   "execution_count": 59,
   "id": "5e4133f1",
   "metadata": {},
   "outputs": [
    {
     "data": {
      "text/plain": [
       "Surfing         971\n",
       "Swimming        869\n",
       "Fishing         431\n",
       "Spearfishing    333\n",
       "Bathing         162\n",
       "Name: Activity, dtype: int64"
      ]
     },
     "execution_count": 59,
     "metadata": {},
     "output_type": "execute_result"
    }
   ],
   "source": [
    "sharks_clean['Activity'].value_counts().head()"
   ]
  },
  {
   "cell_type": "markdown",
   "id": "fed26ec4",
   "metadata": {},
   "source": [
    "Some activities could be grouped: same activity but with '-' in between words, lower cases.\n",
    "Might be a good idea to group activities by different categories. For instance:\n",
    "- Everything that involves surfing on a board together. Boogie and bodie boarding is also surfing.\n",
    "- Everything that involves kayaking together. Include canoeing. Include rowing.\n",
    "- Fishing together\n",
    "- All diving related sports together.\n",
    "- Wading and walking together.  \n",
    "\n",
    "Some I can target using regex, others will not"
   ]
  },
  {
   "cell_type": "code",
   "execution_count": 60,
   "id": "8a02b24e",
   "metadata": {},
   "outputs": [],
   "source": [
    "# Removing inconsistencies\n",
    "sharks_clean[\"Activity\"] = sharks_clean[\"Activity\"].str.replace(\"-\",\" \").str.lower().str.strip()"
   ]
  },
  {
   "cell_type": "code",
   "execution_count": 61,
   "id": "b06a9509",
   "metadata": {},
   "outputs": [
    {
     "data": {
      "text/plain": [
       "surfing         976\n",
       "swimming        916\n",
       "fishing         444\n",
       "spearfishing    340\n",
       "bathing         165\n",
       "Name: Activity, dtype: int64"
      ]
     },
     "execution_count": 61,
     "metadata": {},
     "output_type": "execute_result"
    }
   ],
   "source": [
    "sharks_clean[\"Activity\"].value_counts().head()"
   ]
  },
  {
   "cell_type": "code",
   "execution_count": 62,
   "id": "871ed837",
   "metadata": {},
   "outputs": [],
   "source": [
    "list_activity = sharks_clean[\"Activity\"].unique().tolist()"
   ]
  },
  {
   "cell_type": "code",
   "execution_count": 63,
   "id": "0ab030bc",
   "metadata": {},
   "outputs": [],
   "source": [
    "# print(list_activity)"
   ]
  },
  {
   "cell_type": "markdown",
   "id": "767ffb5e",
   "metadata": {},
   "source": [
    "Let's use regex to group the different activities"
   ]
  },
  {
   "cell_type": "code",
   "execution_count": 64,
   "id": "e029f0c6",
   "metadata": {},
   "outputs": [],
   "source": [
    "# def group_activities():\n",
    "#     str.replace(\".*(surf).*|.*(board).*\", \"board surfing\", regex = True)\n",
    "#     str.replace(\".*(kayak).*|.*(canoe).*|.*(rowing).*\", \"kayaking & related\", regex = True)\n",
    "#     str.replace(\".*(diving).*\", \"diving\", regex = True)\n",
    "#     str.replace(\".*(boat).*\", \"sailing\", regex = True)\n",
    "#     str.replace(\".*(snorkel).*\", \"snorkeling\", regex = True)\n",
    "#     str.replace(\".*(bathing).*|.*(swimming).*|.*(swim).*\", \"swimming\", regex = True)\n",
    "#     str.replace(\".*(spearfishing).*\", \"spear-fishing\", regex = True)\n",
    "#     str.replace(\"[\\w]+?(fishing).*|^(fishing).*|\\s(fishing).*\", \"fishing\", regex = True)\n",
    "#     str.replace(\".*(walking).*|.*(standing).*|.*(treading).*\", \"wading\", regex = True)"
   ]
  },
  {
   "cell_type": "code",
   "execution_count": 65,
   "id": "fd5bbf44",
   "metadata": {},
   "outputs": [],
   "source": [
    "# Write a dictionary of activities (regex pattern in value) and do a for loop to replace.\n",
    "\n",
    "dict_activity_regex = {\"Board surfing\" : \".*(surf).*|.*(board).*\",\n",
    "                      \"Kayaking & similar\" : \".*(kayak).*|.*(canoe).*|.*(rowing).*\",\n",
    "                      \"Diving\" : \".*(diving).*\",\n",
    "                      \"Sailing\" : \".*(boat).*\",\n",
    "                      \"Snorkeling\" : \".*(snorkel).*\",\n",
    "                      \"Swimming\" : \".*(bathing).*|.*(swimming).*|.*(swim).*\",\n",
    "                      \"Spear-fishing\" : \".*(spearfishing).*\",\n",
    "                      \"Fishing\" : \"[\\w]+?(fishing).*|^(fishing).*|\\s(fishing).*\",\n",
    "                      \"Wading\" : \".*(walking).*|.*(standing).*|.*(treading).*\"\n",
    "}\n",
    "\n",
    "for key, value in dict_activity_regex.items():\n",
    "    sharks_clean[\"Activity\"] = sharks_clean[\"Activity\"].str.replace(value, key, regex = True)\n"
   ]
  },
  {
   "cell_type": "code",
   "execution_count": 66,
   "id": "48c6a277",
   "metadata": {},
   "outputs": [],
   "source": [
    "# sharks_clean[\"Activity\"] = sharks_clean[\"Activity\"].str.replace(\".*(surf).*|.*(board).*\", \"board surfing\", regex = True)\n",
    "# sharks_clean[\"Activity\"] = sharks_clean[\"Activity\"].str.replace(\".*(kayak).*|.*(canoe).*|.*(rowing).*\", \"kayaking & similar\", regex = True)\n",
    "# sharks_clean[\"Activity\"] = sharks_clean[\"Activity\"].str.replace(\".*(diving).*\", \"diving\", regex = True)\n",
    "# sharks_clean[\"Activity\"] = sharks_clean[\"Activity\"].str.replace(\".*(boat).*\", \"sailing\", regex = True)\n",
    "# sharks_clean[\"Activity\"] = sharks_clean[\"Activity\"].str.replace(\".*(snorkel).*\", \"snorkeling\", regex = True)\n",
    "# sharks_clean[\"Activity\"] = sharks_clean[\"Activity\"].str.replace(\".*(bathing).*|.*(swimming).*|.*(swim).*\", \"swimming\", regex = True)\n",
    "# sharks_clean[\"Activity\"] = sharks_clean[\"Activity\"].str.replace(\".*(spearfishing).*\", \"spear-fishing\", regex = True)\n",
    "# sharks_clean[\"Activity\"] = sharks_clean[\"Activity\"].str.replace(\"[\\w]+?(fishing).*|^(fishing).*|\\s(fishing).*\", \"fishing\", regex = True)\n",
    "# sharks_clean[\"Activity\"] = sharks_clean[\"Activity\"].str.replace(\".*(walking).*|.*(standing).*|.*(treading).*\", \"wading\", regex = True)"
   ]
  },
  {
   "cell_type": "code",
   "execution_count": 67,
   "id": "9d636201",
   "metadata": {},
   "outputs": [
    {
     "data": {
      "text/plain": [
       "Board surfing    1562\n",
       "Swimming         1231\n",
       "Fishing           575\n",
       "Diving            550\n",
       "Spear-fishing     382\n",
       "Name: Activity, dtype: int64"
      ]
     },
     "execution_count": 67,
     "metadata": {},
     "output_type": "execute_result"
    }
   ],
   "source": [
    "sharks_clean[\"Activity\"].value_counts().head(5)"
   ]
  },
  {
   "cell_type": "code",
   "execution_count": 68,
   "id": "ea94ec00",
   "metadata": {},
   "outputs": [],
   "source": [
    "# How could I group all the others in one activity called 'other activity'"
   ]
  },
  {
   "cell_type": "code",
   "execution_count": 69,
   "id": "50e97bda",
   "metadata": {},
   "outputs": [],
   "source": [
    "# Getting all activities and value counts in to a dictionary\n",
    "# dict_activity = sharks_clean[\"Activity\"].value_counts().to_dict()"
   ]
  },
  {
   "cell_type": "code",
   "execution_count": 70,
   "id": "c037918a",
   "metadata": {},
   "outputs": [],
   "source": [
    "# Selecting only those that have value counts < 100 (the \"other activities\")\n",
    "# dict_other_activity = {key:val for key, val in dict_activity.items() if val < 100}"
   ]
  },
  {
   "cell_type": "code",
   "execution_count": 71,
   "id": "88e2e36a",
   "metadata": {},
   "outputs": [],
   "source": [
    "# Replacing those that are in dict_other_activity with 'other activity' using apply and lambda\n",
    "# sharks.clean[\"Activity\"] = sharks_clean[\"Activity\"].apply(lambda x: x.str.replace(x, \"other activity\") if x in dict_other_activity)"
   ]
  },
  {
   "cell_type": "markdown",
   "id": "8abd7d5e",
   "metadata": {},
   "source": [
    "### Cleaning Fatality "
   ]
  },
  {
   "cell_type": "code",
   "execution_count": 72,
   "id": "2ecb5be8",
   "metadata": {},
   "outputs": [
    {
     "data": {
      "text/plain": [
       "414"
      ]
     },
     "execution_count": 72,
     "metadata": {},
     "output_type": "execute_result"
    }
   ],
   "source": [
    "# Checking NaNs\n",
    "sharks_clean[\"Fatal (Y/N)\"].isna().sum()"
   ]
  },
  {
   "cell_type": "code",
   "execution_count": 73,
   "id": "168400a8",
   "metadata": {},
   "outputs": [
    {
     "data": {
      "text/plain": [
       "0"
      ]
     },
     "execution_count": 73,
     "metadata": {},
     "output_type": "execute_result"
    }
   ],
   "source": [
    "# Removing NaNs\n",
    "sharks_clean = sharks_clean[sharks_clean['Fatal (Y/N)'].notna()]\n",
    "sharks_clean[\"Fatal (Y/N)\"].isna().sum()"
   ]
  },
  {
   "cell_type": "code",
   "execution_count": 74,
   "id": "94e6a83f",
   "metadata": {},
   "outputs": [
    {
     "data": {
      "text/plain": [
       "N          4023\n",
       "Y          1283\n",
       "UNKNOWN      36\n",
       "M             1\n",
       "2017          1\n",
       "Name: Fatal (Y/N), dtype: int64"
      ]
     },
     "execution_count": 74,
     "metadata": {},
     "output_type": "execute_result"
    }
   ],
   "source": [
    "# Strip spaces and see if we need to remove manually\n",
    "sharks_clean[\"Fatal (Y/N)\"] = sharks_clean[\"Fatal (Y/N)\"].str.strip().str.upper()\n",
    "sharks_clean[\"Fatal (Y/N)\"].value_counts() # Remove the 'y'"
   ]
  },
  {
   "cell_type": "code",
   "execution_count": 75,
   "id": "dc94c9d6",
   "metadata": {},
   "outputs": [],
   "source": [
    "fatal_remove = (sharks_clean[\"Fatal (Y/N)\"] == \"M\") | (sharks_clean[\"Fatal (Y/N)\"] == \"UNKNOWN\") | (sharks_clean[\"Fatal (Y/N)\"] == \"2017\")\n",
    "sharks_clean = sharks_clean.drop(sharks_clean[fatal_remove].index)"
   ]
  },
  {
   "cell_type": "code",
   "execution_count": 76,
   "id": "51746cff",
   "metadata": {
    "scrolled": false
   },
   "outputs": [
    {
     "data": {
      "text/plain": [
       "N    4023\n",
       "Y    1283\n",
       "Name: Fatal (Y/N), dtype: int64"
      ]
     },
     "execution_count": 76,
     "metadata": {},
     "output_type": "execute_result"
    }
   ],
   "source": [
    "sharks_clean[\"Fatal (Y/N)\"].value_counts()"
   ]
  },
  {
   "cell_type": "markdown",
   "id": "06d4ba50",
   "metadata": {},
   "source": [
    "### Visualization"
   ]
  },
  {
   "cell_type": "code",
   "execution_count": 77,
   "id": "83f54ea0",
   "metadata": {},
   "outputs": [
    {
     "data": {
      "text/plain": [
       "[Text(0.5, 1.0, 'Top deathliest activities')]"
      ]
     },
     "execution_count": 77,
     "metadata": {},
     "output_type": "execute_result"
    },
    {
     "data": {
      "image/png": "[encoded data removed]",
      "text/plain": [
       "<Figure size 432x288 with 1 Axes>"
      ]
     },
     "metadata": {
      "needs_background": "light"
     },
     "output_type": "display_data"
    }
   ],
   "source": [
    "fig_activity = sns.countplot(y=\"Activity\", data=sharks_clean, hue=\"Fatal (Y/N)\", order=sharks_clean.Activity.value_counts().iloc[:9].index)\n",
    "fig_activity.set(title='Top deathliest activities')"
   ]
  },
  {
   "cell_type": "markdown",
   "id": "6552b2da",
   "metadata": {},
   "source": [
    "## Fatality vs Time"
   ]
  },
  {
   "cell_type": "code",
   "execution_count": 147,
   "id": "36008171",
   "metadata": {},
   "outputs": [],
   "source": [
    "# Importing\n",
    "sharks_clean = pd.read_csv('./data/sharks_clean.csv', encoding = \"unicode_escape\")"
   ]
  },
  {
   "cell_type": "code",
   "execution_count": 148,
   "id": "4f603e76",
   "metadata": {},
   "outputs": [
    {
     "name": "stdout",
     "output_type": "stream",
     "text": [
      "Fatal NaN: 0 Time NaN: 0\n"
     ]
    }
   ],
   "source": [
    "# Removing NaNs\n",
    "sharks_clean = sharks_clean[sharks_clean['Fatal (Y/N)'].notna()]\n",
    "sharks_clean = sharks_clean[sharks_clean['Time'].notna()]\n",
    "print(\"Fatal NaN:\", sharks_clean[\"Fatal (Y/N)\"].isna().sum(), \n",
    "      \"Time NaN:\", sharks_clean[\"Time\"].isna().sum())"
   ]
  },
  {
   "cell_type": "code",
   "execution_count": 149,
   "id": "d1a179b7",
   "metadata": {},
   "outputs": [
    {
     "data": {
      "text/plain": [
       "N    2296\n",
       "Y     497\n",
       "Name: Fatal (Y/N), dtype: int64"
      ]
     },
     "execution_count": 149,
     "metadata": {},
     "output_type": "execute_result"
    }
   ],
   "source": [
    "# Cleaning/grouping, Fatality:\n",
    "sharks_clean[\"Fatal (Y/N)\"] = sharks_clean[\"Fatal (Y/N)\"].str.strip().str.upper()\n",
    "fatal_remove = (sharks_clean[\"Fatal (Y/N)\"] == \"M\") | (sharks_clean[\"Fatal (Y/N)\"] == \"UNKNOWN\") | (sharks_clean[\"Fatal (Y/N)\"] == \"2017\")\n",
    "sharks_clean = sharks_clean.drop(sharks_clean[fatal_remove].index)\n",
    "sharks_clean[\"Fatal (Y/N)\"].value_counts()"
   ]
  },
  {
   "cell_type": "code",
   "execution_count": 150,
   "id": "024bc2a4",
   "metadata": {},
   "outputs": [
    {
     "data": {
      "text/plain": [
       "Afternoon      176\n",
       "11h00          117\n",
       "Morning        115\n",
       "12h00          107\n",
       "15h00          104\n",
       "              ... \n",
       "12h55            1\n",
       "16h14            1\n",
       "17h11            1\n",
       "14h37            1\n",
       "19h00-20h00      1\n",
       "Name: Time, Length: 351, dtype: int64"
      ]
     },
     "execution_count": 150,
     "metadata": {},
     "output_type": "execute_result"
    }
   ],
   "source": [
    "# Cleaning/grouping, Time:\n",
    "sharks_clean[\"Time\"].value_counts()"
   ]
  },
  {
   "cell_type": "code",
   "execution_count": 151,
   "id": "32576e5f",
   "metadata": {},
   "outputs": [],
   "source": [
    "list_time = sharks_clean[\"Time\"].tolist()"
   ]
  },
  {
   "cell_type": "code",
   "execution_count": 152,
   "id": "72b1d1ad",
   "metadata": {},
   "outputs": [
    {
     "name": "stdout",
     "output_type": "stream",
     "text": [
      "['18h00', '14h00  -15h00', '07h45', 'Late afternoon', '17h00', '14h00', 'Morning', '15h00', '08h15', '11h00', '10h30', '10h40', '16h50', '07h00', '09h30', 'Afternoon', '21h50', '09h40', '08h00', '09h30', '17h00', '18h00', '15h00', '09h30', '17h35', '15h30', '07h30', '19h00, Dusk', 'Night', '16h00', '18h00', '08h00', '15h30', '15h01', 'Late afternoon', '18h00', '12h00', '13h45', 'Late afternoon', '16h00', '23h30', '09h00', '15h00', 'Afternoon', '17h00', '08h00', 'Afternoon', '09h00', '14h30', '18h30', '12h30', 'Morning', '18h00', '14h00', 'Morning', '16h30', 'Night', '18h45', '15h00', '06h00', 'Morning', '10h00', '10h44', '10h30', '13h19', '10h00', '15h00', '13h30', '23h30', '10h45', '18h30', 'Afternoon', '17h00', 'Afternoon', '12h30', '11h20', '07h45', '18h30', '11h45', '11h00', '15h30', '15h00', 'Morning', '10h00', '12h00', '08h30', '15h45', '10h00', 'Shortly before 12h00', 'Morning', 'Morning', '17h00', '17h34', '17h10', '11h00', '11h15', '14h00', '16h00', 'Afternoon', '16h00', '09h00', '13h30', '13h45', '16h00', '17h45', '17h00', '13h00', 'Afternoon', '15h00', '10h00', '18h30', '14h30', 'Morning', 'Morning', '09h30', '10h20', '13h30', 'Afternoon', '13h20', '14h00', '12h00', '13h30', 'Morning', '07h30', '12h30', '17h00', 'Morning', '07h00', '09h30', '02h00', '09h00', '11h00', '10h30', 'Afternoon', 'Afternoon', '07h30', '17h00', '18h00', '09h50', '10h30', '16h00', '11h30', '17h30', '9h00', '13h00', '11h00', '10h43', 'After noon', '15h15', '14h30', '15h40', 'Late afternoon', 'Late afternoon', '15h00', '14h00', '17h00', '16h00', '16h30', '11h30', '12h00', '19h05', 'After noon', '1300', '11h00', '17h00', '10h00', '14h30 / 15h30', '22h00', '16h20', '14h34', '11h00', '15h25', '14h55', '06h00', '17h30', '15h00', '08h30', '11h30', 'Morning', 'Afternoon', '16h00', '16h00', '15h45', '12h00', '18h00', '17h46', 'Morning ', '13h20', '15h49', 'Afternoon', '07h00', '17h30', '08h00', '12h00', 'Morning', '10h45', '11h00', '19h00', '11h00', '13h30', 'Afternoon', 'Afternoon', 'Midnight', '19h00', '16h00', '15h00', '13h20', 'Late afternoon', '14h00', '11h30', '09h30 / 10h00', 'Morning', 'Afternoon', '11h30', 'Morning', 'Morning', '07h00', '10h30', 'Morning', '10h15', 'Afternoon', '11h00', '18h15', '11h00', '14h00', '04h00', '14h50', '15h00', '14h30', '13h50', '11h30', '11h00', '16h20', '10h25', '16h50', '13h00', '10h00', '08h30', '16h20', 'Afternoon', '10h45-11h15', '16h45', '15h52', '12h30', '07h30', '19h00', '15h00', '06h15', '17h30', '14h40', '11h30', '16h00', '08h30', '10h25', '10h00', '17h10', '12h30', '15h30', '07h30', '08h00', '06h00', '19h00', '10h00', '08h45', 'Evening', '09h00', '09h00', '12h10', '18h05', '16h00', '14h40', '16h00', '11h00', '11h41', '12h25', '09h30', 'Morning', '13h00', '17h51', '16h12', '12h45', '10h50', '15h00', '15h00', '13h45', '08h00', '10h30', '14h15', '15h00', '15h00', '13h00', '09h00', '16h30', '09h45', '11h00', '09h00', '07h30', 'Afternoon', '11h45', '10h00', 'Morning', '10h20', '18h30', '10h00', '06h45', '05h00', '03h30', 'Afternoon', '13h45', '16h00', '08h00', 'Afternoon', 'Morning', 'Morning', '11h30', 'Morning', '11h30', '07h00', 'Sometime between 06h00 & 08hoo', '13h00', '13h30', '06h30', '16h30', '11h00', '18h00', '10h00', '08h00', '11h15', '06h30', '15h30', '17h20', '11h30', 'Afternoon', '11h00', '14h00', '11h30', '17h30', '11h00', '11h30', '10h45', '13h00', '18h00', '20h00', '16h40', '15h00', '11h10', '13h30', 'Afternoon', '14h00', '13h00', '14h00', '15h00', 'Early afternoon', '17h50', '14h30', '14h00', '09h30', '07h00 - 08h00', '18h15-18h30', '13h00', '17h01', '17h00', '17h00', '09h45', 'Afternoon', 'Afternoon', '13h30', 'Morning', 'Morning', '11h30', '09h30', '11h00', '15h00', '15h00', '15h30', '09h57', 'Morning', '13h50', '13h30', '08h20', '15h00', '17h58', 'Morning', '18h00', '16h00', 'Night', '12h00', '20h30', '11h00', '08h45', '08h00', '14h30', '18h15', '09h00', '14h00', '13h00', '09h00', '10h30', '15h00', '11h00', 'Afternoon', '15h19', 'Afternoon', '16h30', '10h55', '18h15', '15h55', '11h00', 'Late afternoon', '11h30', '10h30', '08h45', '15h30', '10h00', '11h30', '10h30', '13h00', 'Morning', '15h30', '13h00', '16h00', '16h00', '13h00', '12h00', '23h00', '20h30', '17h00', '15h00', '13h00', '12h40', '16h30', '13h55', '17h30', '15h00', '08h45', '16h05', '11h00', '14h10', '16h45', '11h15', '13h20', '14h30', '14h15', '15h20', '15h30', '12h45', '12h50', '14h45', 'Morning', 'Afternoon', '16h00', 'Afternoon', 'Evening', '12h00', '08h20', '11h15', '13h40', '14h00', '10h30', '13h30', '12h00', '08h30', '09h00', '09h00', '09h00', '13h24', '18h00', '18h00', '14h00', '09h00 - 09h30', '16h30', '10h00', '14h00', '12h45', '10h45', '0830', '13h20', '16h45', '09h40', '11h40', '17h30', '08h30', '08h10', '12h00', '15h56', '11h00', '10h30', '07h30', '18h30', '12h00', '16h30', 'Afternoon', '15h00', '14h20', '12h00', 'Afternoon', 'Just before noon', '11h30', '07h56', '18h30', '12h00', '16h30', '15h30', 'Afternoon', '12h00', '1600', '17h17', '06h45', '14h40', '16h35', '15h30', '16h30', '09h05', '17h30', '08h30', '16h30', '19h00', '15h00', '09h45', '16h30', '07h15', '11h00', '14h20', 'Afternoon', 'Afternoon', 'Afternoon', '13h20', 'Morning', '14h30', '19h45', '13h30', '09h00', '15h00', 'Morning', '14h30', '11h30', '07h20', '19h28', '12h30', '12h38', '09h30', '14h00', '05h50', '17h00', '15h50', '16h00', '16h05', '19h00', '11h30', '14h30', '13h00', '14h00', '16h00', '12h00', '11h05', 'Afternoon', '16h45', '15h40', '20h00', '09h00', '18h00', '18h00', '12h30', 'Dawn', '05h45', '09h00', '06h00', '13h30', 'Afternoon', 'Morning', '13h25', '16h00', '08h10', '10h30', 'Afternoon', '12h25', '15h00', '10h00', '15h00', '15h30', '11h00', '12h20', 'Afternoon', '13h00', '13h26', '11h00', '11h00', '19h00', 'Morning', '15h30', '09h11', '17h00', 'Evening', '15h30', 'Night', '16h30', '14h00', '15h30', 'Night', '10h00', '17h30', '17h00', '20h30', '12h30', '17h00', '14h50', '10h30', '13h30', '10h00', '12h00', 'Afternoon', '13h30', 'Afternoon', '12h15', '17h30', '14h30', '12h00', '15h00', '13h15', '12h00', 'Midday', '15h30', '11h00', '06h30', '15h00', '15h30', 'Afternoon', 'Morning', 'Afternoon', '17h45', '16h00', '13h00', '10h45', 'Early afternoon', '18h30', '18h20', '10h40', 'Late afternoon', '12h00', '15h00', '12h30', '12h00', '15h35', 'AM', '13h51', '12h00', '11h00', '10h55', '14h55', '14h40', 'Morning', '13h30', 'Morning', 'Night', '12h30', '15h20', 'Afternoon', '08h50', 'A.M.', '13h30', '15h00', '14h30', '16h00', '16h30', '17h00', '12h00', '12h00', '09h00', '09h00', '08h05', '19h00', 'Late afternoon', '08h00', '15h00', '12h40', '11h00', '16h30', '10h35', '13h30', '19h15', '12h30', 'Evening', '15h15', '13h00', '17h00', '12h30', '12h00', '08h45', '18h00', '18h00', '16h30', '09h30', '10h30', 'Afternoon', '16h00', '10h00', '14h00', '11h00', 'Night', '11h00', '09h30', '13h30', '08h00', '15h30', '15h00', '15h44', '18h30', '16h30', 'Evening', '07h30', '15h15', '17h00', '06h45', '10h15', '08h30', '11h00', '16h30', '11h00', '07h30', '14h30', '07h00', '07h30', '13h00', 'Morning', '16h45', '09h30', '16h30', 'Afternoon', '10h30', 'Dusk', 'Morning', '07h00', '17h30', '06h00', '18h30', '14h45', '11h00', '12h50', '17h30', '21h00', 'Afternoon', '18h30', '15h30', '16h30', 'Lunchtime', '19h00', '08h45', '10h00', '06h15', '17h30', 'Afternoon', '15h00', '15h00', '08h30', '11h15', '16h00', '15j45', '08h45', 'Morning', '20h30', '20h30', '09h35', '10h27', '10h16', 'Afternoon', '16h45', '10h00', 'Late afternoon', '0500', '16h00', '13h15', '08h00', '07h45', '16h00', 'Afternoon', '18h45', 'Early morning', '07h45', '17h30', '20h00', '11h30', '13h30', '06h45', '10h15', '17h00', '19h30', 'Before 07h00', '11h00', '07h30', '10h30', '19h00', '16h30', '14h00', '09h20', '10h45', '15h45', '09h00', '17h30', '11h00', '07h00', '15h00', '20h00', 'Morning', 'Morning', '10h00 -- 11h00', '17h20', '11h00', '15h30', '12h00', '12h00', '11h45', '11h00', '14h30', '12h00', '16h30', '10h30', '12h00', '12h00', '12h00', '10h00', 'Morning', '12h00', '11h00', '15h00', '14h45', 'Dusk', '12h05', '14h00', '10h30', '18h00', '15h30', '09h00', '08h45', '13h00', '14h30', '13h55', '14h00', '19h30', '14h21', '11h00', '14h00', 'Afternoon', '11h15', 'Morning', '09h00', '11h10', '18h30', '15h00', '15h50', 'Early morning', 'Night', '07h30', '14h00', 'Just before noon', 'Afternoon', '11h45', '10h30', 'Morning', '09h50', '07h00', '08h45', '15h00', '08h05', '12h00', '18h50', '11h30', '15h53', 'Afternoon', '08h00', '10h00', '17h00', '07h30', '14h00', '11h00', '\"Just before 11h00\"', '14h20', '17h30', '11h115', '09h00', '08h45', '15h30', '11h30', '12h00', '20h30', '08h10', '11h30', '14h40', 'Early morning', '12h00', '08h15', '07h00', '18h20', 'Dusk', '11h15', 'Early morning', '16h00', '11h45', '13h42', '18h30', 'Morning', '09h45', '16h30', '10h45', '14h00', 'Morning', '19h45', '20h15', '12h39', '10h00', 'Night', '17h35', '18h00', '16h40', '14h00', 'Afternoon', 'Afternoon', '23h00', '10h15', '15h15', '11h00', '12h30', '13h00', '11h00', '16h00', '14h30', '10h00', '17h30', '07h05', '11h00', 'Sunset', '17h00', 'Morning', 'Afternoon', '14h30', '17h45', '16h00', '08h30', '08h30', '  ', '18h00', '12h30', '17h00', '16h00', '13h05', '14h20', '13h20', 'Morning', 'Evening', '10h00', '15h30', '13h00', '08h00', '14h00', '03h30', '10h30', 'Afternoon', '06h30', '10h15', '20h00', '11h00', '11h50', '\"Evening\"', '07h30', '14h20', '12h30', 'Afternoon', 'Just before sundown', '11h30', '12h00', 'Morning', '14h00', '13h00', '17h30', '17h55', 'Sunset', '16h00', '18h00', '11h00', '11h00', '12h00', '16h00', 'Afternoon', '16h30', '13h45', '10h00', '13h30', '17h00', '13h00', '11h00', '13h00', '11h10', 'Afternoon', '13h00', '13h00', '09h00', '11h10', '15h30', '13h45', '11h30', '13h30', 'Afternoon', '16h00', '16h30', '11h30', '15h30', '12h15', '16h30', '16h30', '15h00', 'Afternoon', '13h30', '17h30', 'Afternoon', '12h30', '11h30', '18h00', '17h00', '16h30', '11h00', '12h00', 'Late afternoon', '18h00', 'Afternoon', '14h00', '22h30', '11h00', '17h15', '16h45', '12h00', '11h45', '13h30', '11h00', '15h30', '13h00', '18h00', '11h30', '20h30', 'Afternoon', '14h30', '14h00', '13h00', '16h45', '07h15', '08h00', 'Morning', '11h00', '10h30', '17h55', '18h00', '15h00', '16h05', '15h00', '12h05', 'Morning', '16h30', '14h00', 'Dusk', '15h20', '15h00', '11h10', '16h10', '11h00', 'Morning', '20h00', '11h30', '09h45', '18h00', '11h30', '16h40', '13h00', '11h30', '11h30', '11h15', 'Afternoon', '07h00', 'Afternoon', '11h30 ', '15h45', 'Morning', '17h30', '18h30', '11h00', '11h00', '10h30', '23h00', '06h10', '19h00', '09h45', '17h30', '14h00', '15h30', '14h00', '14h30', '14h00', '12h00', '15h15', '13h00', '18h00', '07h00', '13h30', '09h00', '14h00', 'Morning', 'Afternoon', '09h30', '12h40', 'Morning', '16h15', '15h30', '14h00', '12h00', '09h00', '15h40', '17h30', '13h00', '17h30', '16h00', '20h30', '14h00', '13h00', '17h30', '17h00', '16h30', '19h30', '14h10', '16h40', '09h00', 'Late afternoon', '18h00', '15h00', '19h45', '14h30', '11h00', '12h30', 'Afternoon', '16h00', '15h00', '16h30', 'Afternoon', 'Morning', '07h08', '14h00', '09h00', '07h30', '15h00', '17h00 or 17h40', '08h30', '10h00', '12h30', '07h45', '15h00', '19h00', '11h05', '14h30', '11h00', 'Midday', '03h00', 'Morning', '13h15', 'Night', '09h30', '11h30', '11h30', '>08h00', '15h30', 'Dusk', '15h00', '17h30', '07h30', '12h20', '--', '--', '15h00', '14h30', '14h00', '12h02', '12h55', 'Night', '07h45', '11h45', '16h30', '14h00', '16h14', '09h40', '17h11', 'Afternoon', '14h30', '12h20', '08h15', '08h00', '15h45', '14h37', '14h30', '10h07', '14h45', '13h53', 'Morning', 'Afternoon', '08h00', 'Afternoon', 'Late afternoon', '11h55', '10h00', '13h23', '11h45', '11h40', '12h20', '18h30', '17h00', '14h30', '13h30', 'Afternoon', '09h00', '14h20', '13h20', '08h50', '13h00', '--', 'Dusk', '08h00', '11h45', 'Dusk', '12h10', '--', 'Morning', '13h00', 'Just after 12h00', '02h30', 'Afternoon', '09h45', '10h45', '08h40', '13h40', '13h25', '11h56', '16h00', 'Sunset', '12h00', '13h30', '14h35', '16h20', '07h30', '15h35', 'Afternoon', '15h00', ' ', 'Early Morning', '15h00', '07h50', '16h00', '15h55', '17h45', '15h45', '17h00', '14h45', '15h30', '12h30', '11h00', '19h00', '17h00', '18h45', 'Shortly after midnight', '15h00', '17h15', '10h00', '14h25', '13h345', '13h00', '10h40', '13h00', 'Â\\xa0 ', '14h15', '16h15', '17h15', '06h47', '17h00', '12h40', '10h30', '11h10', '18h30', '10h45', '15h00', '11h30', '12h00', '10h10', '17h00', '15h45', 'Morning', '10h55', '09h00 -10h00', '20h00', '19h15', '20h45 (Sunset)', '02h00', 'Sunset', '13h00', 'Morning', '17h00', '13h00', 'Late morning', 'P.M.', '16h20', '15h00', '13h20', '15h00', '13h45', '18h40', '18h00', '18h00', 'Afternoon', '18h00', '13h30', '13h30', '16h20', '16h00', '14h00', '16h20', '16h00', '13h14', '13h06', '11h20', '12h30', '12h05', '10h00', '16h00', '10h20', '16h00', '14h30', '14h30', 'Evening', 'Dusk', '18h30', '09h00', 'Shortly before 13h00', '19h00', '17h45', '19h00', '15h49', '11h00', '10h55', '16h00', '16h45', '16h05', '12h34', '11h53', '8:04 pm', '12h46', '07h00', '09h30', '14h45', '10h00', '14h40', '16h15', '14h30', '09h30', '12h00', '06h30', '06h30', '16h30', '22h00', '18h00', '11h20', '15h30', 'Morning', '14h30', '12h48', '16h30', '09h00', '13h00', '07h30', '17h00', '18h00', '12h00', '13h20', '17h42', '11h00', '11h45', '18h05', '12h35', '16h00', '11h50', '16h30', '16h45', 'After Dusk', '15h45', '18h00', '16h30', '18h00', '12h00', '17h00', '14h45', '07h50', '14h30', '16h00', '06h45', '06h45', '14h55', '11h57', '14h30', '14h00', '11h15', '14h00', 'Morning', '19h30', 'P.M.', '16h00', 'Afternoon', '14h00', '09h30', '12h30', '15h30', '17h20', '10h30', '17h30', '15h00', 'Noon', '18h30', '18h45', '18h30', 'Afternoon', '19h00', '14h30', 'Morning', '18h40', '17h40', '11h25', '17h00', '14h00', '18h25', '10h28', '11h15', 'Afternoon', 'Morning', '09h15', '13h15', '16h00', '14h30', 'Afternoon', '06h00', '10h30', '20h30', 'Morning', '10h45', 'Evening', '15h30', '12h00', '08h30', '15h30', '17h00', 'Afternoon', '14h00', '08h45', '17h00', 'Late afternoon', 'Afternoon', '14h30', '15h35', 'Dusk', '20h15', '14h16', '16h30', '13h00', '17h30', 'P.M.', 'Morning', '14h00', '09h55', '18h00', '2 hours after Opperman', 'Early afternoon', '11h10', '14h30', '15h00', '14h45', '15h05', '09h30 ', '15h30', '17h30', 'Morning', '09h35', 'Mid afternoon', 'Afternoon', '13h15', '14h00', 'Morning', 'Mid morning', '07h20', '17h15', '18h00', '08h30', '17h15', 'Evening', '15h20', '13h00', '11h20', '12h30', '14h16', '11h48', '17h15', '15h45', '09h15', '14h25', '12h45', 'Night', '23h00', '14h30', '18h00', '10h25', 'Morning', '11h00', '11h00', 'Morning', 'Midday', '11h00 / 11h30', '18h00', '16h15', '08h30', '17h00', '13h00', '08h30', '07h19', '13h37', '10h00', '12h15', '18h05', '13h25', '07h19', '16h00', '11h15', '14h00', '19h30', '18h00', '13h30', '13h45', '14h00', 'Afternoon', '17h30', '14h45', '13h40', '11h00', '11h06', '07h00', 'Night', 'Afternoon', '15h45', '10h00', '16h00', '14h30', '11h30', 'Morning', '17h30', '15h40', '15h00', '16h00', '18h30', '14h10', '\"Night\"', 'Afternoon', '19h00', '15h00', '08h30', '13h30', '14h10', '16h30', '14h45', '14h10', '13h40', '17h00', '17h30', '18h30?', '14h00', '11h50', '14h30', '13h20', '10h15', '07h30', 'Afternoon', '17h15', '18h00', '16h00', '14h45', '08h45', '09h45', '16h00', '13h00', '12h00', '16h30', '11h15', '13h45', '13h26', '13h25', '15h00', '15h30', '10h30', '08h00', 'Afternoon', '08h30', '10h30', '15h00', '11h58', '11h51', '11h00', '13h00', '17h00', '16h30', '13h30', '07h30', '16h15', '15h15', '10h55', '16h30', '10h00', '14h30', '11h30', '08h00', '17h15', '07h05', '11h30', '10h00', '14h00', '15h00', '18h12', '07h15', '19h30', '07h10', '09h30', '10h55', 'Dusk', '16h00', '15h45', '14h30', '03h00', 'Afternoon', '13h45', '09h00', '16h30', 'A.M.', '17h30', '15h30', '07h30', '13h00', '12h50', '14h00', '14h15', '09h45', '11h00', '07h40', 'Afternoon', '14h30', 'Afternoon', '17h00', '15h00', '17h50', '17h00', '12h33', '30 minutes after 1992.07.08.a', 'Morning', '14h30', '12h30', '14h00', '15h30', '13h20', '>06h45', '15h20', '10h15', '09h45', 'Late afternoon', '10h00', '16h30', '20h00', '17h30', '17h15', '15h06', '09h00', '09h00', '16h30', '12h54', '08h30', '07h30', '15h00', 'Afternoon', '13h30', '16h35', '15h30', '18h45', '17h30', '09h30', '17h30', '11h30', 'Between 06h00 & 07h20', '16h45', '13h00', 'Afternoon', '09h55', '11h00', '17h30', '09h30', '12h30', '08h10', '15h00', '09h30', '16h55', '15h30', '20h30', '10h30', '16h00', '15h00', '12h30', '13h20', '13h00', '17h00', '16h50', '13h30', 'Evening', '15h45', '14h30', '12h00', '14h00', '05h40', '<07h30', '17h45', '21h30', '12h05', '14h20', 'Evening', '14h30', 'Afternoon', '12h30', 'Afternoon', '10h45', '06h30', '10h35', '17h00 Sunset', 'Afternoon', '15h30', '16h15', '15h30', '10h45', '10h35', '20h15', '13h30', '10h25', '10h15', '18h00', '17h15', 'Early morning', 'Nightfall', '17h30', 'X', '18h30', 'Afternoon', 'Afternoon', '15h45', '15h00', '09h30', '10h30', 'Afternoon', '09h45', '16h00', '12h00', '08h57', '18h30', '11h45', '17h30', '18h45', '16h45', '18h30 (Sunset)', '17h00', '07h40', '11h15', '13h00', '17h00', '12h15', '11h00', '11h30', '07h30', '09h15', '18h30', '14h30', '13h30', 'Afternoon', '18h00', '12h00', '12h00', '07h00', '14h00', '17h00', '14h00', '10h00', '10h30', '10h40', '18h00', '11h00', '17h15', '10h55', '16h15', '12h00', '18h00', '18h30', '13h30', '06j00', '08h35', '13h00', 'Afternoon', '08h00', '16h00', '15h00', '17h00', '10h22', '16h00', '12h30', '12h45', 'Afternoon', '18h30', '18h30', '11h30', '11h00', '12h33', '13h30', '15h00', '15h30', '10h00', '14h00', 'Morning', '15h30', '08h30', '17h50', '14h30', '12h00', '18h00', '17h30', '17h00', '13h30', '17h30', 'Night', '09h00', '09h30', '15h30', '12h30', '08h15', '10h00', '10h00', 'Morning', 'Morning', '04h00', 'Night', 'Night', 'Afternoon', '12h00', '11h00', '16h00', '16h30', '11h00', '17h00', 'Dusk', '14h00', '19h30', '11h00', '11h15', '12h30', '12h30', '18h15', '13h00', '11h00', '16h00', '14h50', '13h30', 'Morning', '14h30', '12h00', '16h00', '11h00', 'Late afternoon', '14h30', '09h30', '16h30', '11h00', '14h00', '12h00', 'Prior to 10h37', '11h00', '16h30', 'Evening', 'Late afternoon', '11h30', '18h00', 'P.M.', '12h00', 'Morning', 'Daybreak', '12h00', '10h15', '18h10', '12h30', '08h30', '14h45', '09h00', '15h00', '17h30', '10h30', '17h20', '13h30', '07h00', '17h15', '15h00', '15h45', '09h30', '15h00', 'Afternoon', '08h00', 'Night', 'Early afternoon', 'Afternoon', '14h45', '05h00', '18h30', '11h00', 'AM', '16h20', '10h20', 'Morning', '14h00', '>12h00', '13h20', '10h30', '11h30', '10h00', '13h15', '16h45', '16h00', '11h00', '12h45', '03h00', '12h45', 'Night', '10h00', '16h00', '16h00', '13h30', '11h45', 'Night', 'Late afternoon', '17h00', '14h30', '09h00', '16h05', '10h55', '14h30', '11h00', '14h00', '14h00', '10h30', 'Night', '14h30', '07h30', '13h00', '12h00', '10h00', '13h30', '12h00', '13h30', 'Afternoon', '14h30', '13h30', 'Mid-morning', '16h30', '14h30', '10h00', 'Afternoon', '10h55', '18h00', 'Afternoon', '07h30', '13h45', '17h00', '17h30', '17h30', 'Morning', '15h00', '08h55', '11h30', 'Late afternoon', '15h30', '16h30', '16h30 or 18h00', '19h00', '19h00', 'Night', '14h10', '11h20', '12h00', 'Late afternoon', 'Afternoon', '14h30', '16h45', '18h00', 'Morning', 'Morning', '08h00', '14h00', '15h00', 'Afternoon', '09h00', '10h00', 'Evening', '11h30', '13h30', '17h00', '11h00', '20h00', '16h20', '14h45', 'Just before dawn', 'Afternoon', 'Evening', ' 14h00', '10h30', '13h15', 'Afternoon', '15h35', '11h30', '11h00', '10h20', '16h30', '15h00', '23h00', '10h00', '11h30', 'Night', '16h00', '14h00', '14h00', '16h00', 'Late afternoon', 'Afternoon', '12h00', 'Afternoon', 'Afternoon', 'Morning', '11h20', 'Afternoon', 'Morning', '16h30', '16h00', '13h00', 'Morning', '20h00', '19h00', '11h00', '17h30', 'Daytime', '07h30', 'Morning', '17h45', '15h00', '22h00', '10h15', '16h00', '17h00', '08h00', '10h30', '11h00', '13h30', 'Afternoon', '09h30', '12h30', 'Early morning', 'Afternoon', 'Afternoon', '13h30', 'Late afternoon', '18h30', '17h30', '14h00', '09h00', 'A.M.', 'Morning', '16h30', '14h30', '14h30', '14h30', '11h00', '16h00', '14h30', 'Early afternoon', '04h00', 'Afternoon', '13h40', '17h30', 'Morning', 'Afternoon', 'Afternoon', '06h50', '15h00', '19h45', '14h00', 'Afternoon', 'Morning', '09h00', '16h45', '12h00', '17h00', 'Midday', 'Midday', '17h30', '15h00', '18h40', '15h00', '16h00', '09h00', '17h00', 'Afternoon', 'Night', '01h00', 'Dark', '16h30', '14h00', 'Afternoon', '10h00 / 11h00', '09h00', '14h00', '15h30', '16h00', '14h00', '10h30', '23h30', '16h30', '14h00', '18h00', '17h30', '17h00', '14h00', 'Morning', '12h00', '15h00', '11h00', '15h30', '07h15', '13h30', '15h00 or 15h45', '14h30', '13h00', '16h40', '17h00', '10h30', 'Late afternoon', '14h30', '13h30', '18h00', '09h30', '14h00', '13h30', '14h30', '14h00', '11h30', '12h00', '11h00', '11h30', 'Midnight', '16h00', '10h30', '12h00', '18h30', '08h45', '06h45', '12h00', '16h00', '11h00', '11h00', '12h00', '15h00', '19h00 / 20h00', '14h00', '15h00', 'Dawn', '15h45', '18h30', '12h00', '12h40', '12h45', '13h00', '14h00', '11h00', '14h00', '11h40', '03h00', '17h30', '11h00', '13h00', '09h30', '13h30', '08h00', 'Late afternoon', '16h30', 'Morning', '13h50', '12h45', '14h00', 'Night', '11h00', 'Afternoon', '10h00', '13h30', 'Afternoon', '12h15', '16h00', '10h30', '14h30', '12h45 / 13h45', '06h00', '15h00', '08h30', '14h30', '15h00', '10h20', 'Midday', '08h30', '12h00', '15h30', '14h00 - 15h00', '17h00', 'Morning', '16h30', '17h00', '14h10', '21h00', '11h50', 'night', 'Night', 'Night', 'Midday', '16h00', '07h00', '13h30', '12h00', '03h45 - 04h00', '10h30', '11h30', 'Late afternoon', 'A.M.', '09h00', '16h20', '14h30', '16h00', '12h00', '10h30', '13h30', '12h00', '18h00', '13h00', '16h15', '16h15', '16h50', '07h00', '16h00', '06h15', '14h00', '16h30', 'Early afternoon', '07h00', '06h00', '10h30', '09h30 / 15h30', '08h00', '11h00', '17h30', '14h30', '14h00', '09h30', 'Afternoon', '08h00 / 09h30', '11h30', '12h00', '10h00', 'Night', '11h00', 'Late afternoon', '14h30', '15h30', '11h00', '18h00', 'Late afternoon', '14h50', '14h20', 'Morning', '19h35', '16h00', '15h30', '16h30', '09h00', '14h45', '15h00', '14h00', '17h15', '13h35', '16h00', '20h00', 'P.M.', '12h00', '14h00', '11h00', 'Morning', '15h45', '08h30', '15h00', '13h00', '15h35', '14h00', 'Late afternoon', '12h00', '12h00', '12h00', 'Night', '15h30', 'P.M.', '09h00', 'Morning', '11h00', 'Afternoon', 'Late night', '06h00', '12h15', '14h00', '14h45', '07h30', '11h00', '10h30 or 13h30', '15h15', '12h00', '17h00', '15h30', 'Afternoon', '14h30', '18h00', '16h00', '19h30', '13h00', 'A.M.', '17h10', '17h30', '10h00', '14h30', '17h00', '14h45', 'Night', '16h30', '09h30', '16h15', '08h00', '13h00', '11h00', '15h15', '14h00', 'Morning', '07h15', '18h00', '16h10', '16h10', 'P.M.', '10h45', '10h25', '14h30', '12h00', '17h30', '17h10', '17h00', '11h10', '13h30', '16h30', '07h30', '12h40', '10h30', '16h23', '16h00', '17h00', '17h30', '17h30', '15h15', '12h00', '13h30', '11h00', '14h00', '15h30', '13h00', '12h00', '18h15', 'P.M.', '16h30', 'Afternoon', '10h30', '18h00', '15h00j', '16h45', '11h00', '18h00', '09h00', 'A.M.', 'Early afternoon', '13h00', 'Midday.', '18h00', '11h55', '12h00', '14h35', '14h30', 'Afternoon', '15h00', '11h00', '13h20', '11h00', '15h00', '21h00', '16h30', '17h15', '13h05', 'Late afternoon', 'Morning', '12h00', '09h15', '08h00', 'Afternoon', '18h00', 'Afternoon', '\"After dark\"', '14h00', '02h00', '11h00', '10h00 or 14h00', 'Morning', 'P.M.', '16h00', '13h00', '17h15', '19h10', 'Night', 'Afternoon', '11h00', '15h00', 'Afternoon', '12h00', '12h15', '16h25', '16h15', '17h15', '12h00', 'Night', '08h30', '2 hrs before sunset', 'P.M.', '18h15 to 21h30', '09h00', '10h30', 'Midday', '18h50', '14h30', '1500', '13h00', 'Afternoon', '13h20', '13h20', '16h00', '15h00', '13h30', '15h00', '11h30', 'Dark', '16h00', 'Afternoon', 'P.M.', '11h00', 'Dusk', 'Dusk', '16h00', '16h00', 'A.M.', 'Morning', '10h30', '12h00', '17h30', '11h00', '16h10', '12h00', '15h50', '15h20', '13h30', '19h00', '16h00', '12h15', '09h15', '17h15', 'Afternoon', '12h00', 'A.M.', '\"shortly before dusk\"', 'Dusk', '16h00', '16h30', '12h00', '>17h30', '14h00', '16h30', '17h30', '10h00', '17h30', '>14h30', '13h15', '17h00', '17h50', '11h30', '14h35', 'After 04h00', '16h10', '19h00', '10h50', '09h30', '11h01 -time of ship sinking', '12h30', '16h30', 'Ship aban-doned at 03h10', '15h00', 'Late afternoon', 'Night', 'Night', '12h00', '14h00', '17h30', 'Night', '07h30', '19h55', 'Early morning', '09h00', '10h00', '11h00', '16h30', '15h30', '14h00', '10h40', 'Afternoon', '16h00', '12h15', '12h00', 'Morning', 'Afternoon', 'Afternoon', '17h30', '17h30', '11h00', 'Night', 'Night', '15h20', '03h00', '11h30', '15h30', '15h00', '10h00', '15h00', '18h00', '20h30', 'Night', '15h00', 'Afternoon', '12h30', '17h30', '17h30', '20h15', '16h30', '13h00', '13h00', 'Night', 'Night', '09h30', '15h30', '12h00', '12h30', '15h00', '12h00', '15h30', '17h30', '11h00', 'Afternoon', 'After dusk', '12h00', 'FATAL  (Wire netting installed at local beaches after this incident.)', '16h00', '14h30', '15h30', '06h00', 'Evening', '18h00', '16h30', '17h30', '13h45', '12h00', '15h30', '16h00', '17h30', '18h10', '10h00', '16h00', 'Evening', 'Morning', '18h00', '11h00', '11h00', '11h00', '12h00', '15h00', '11h45', '11h30', 'Afternoon', '01h30', '11h00', ' ', 'Night', '17h30', '15h45', '15h15', '08h00', '17h00', '15h15', 'After midnight', 'Late afternon', 'Evening', 'Afternoon', '19h00', '15h15', 'Afternoon', '16h00', '01h00', 'Midday', '09h15', '10h00', 'A.M.', '11h00', '15h30', '17h30', '18h00', 'Evening', 'Morning', 'Morning', 'Afternoon', '15h00', '15h30', '18h30', '17h30', '10h00', '05h30', 'Afternoon', '12h00', '17h15', 'Afternoon', '07h30', '10h00', '18h00', '05h00', 'Night', 'Afternoon', 'Morning', 'P.M.', '17h45', 'A.M.', '09h00', '08h58', '06h00', 'Evening', 'A.M.', 'Afternoon', '17h00', '15h30', '07h00', 'Afternoon', 'Afternoon', 'Afternoon', '16h00', '15h00', 'Morning', 'Evening', 'Early morning', '\"Early evening\"', 'Evening', 'Night', 'Afternoon', '11h00', '09h00', 'Morning', '14h10', '12h00', 'Morning', 'Afternoon', '16h30', 'Morning', '18h00', 'Afternoon', '12h00', '14h15', '15h00', 'Afternoon', 'Afternoon', '12h00', 'Early morning', 'Afternoon', 'Morning', '11h30', '09h30', '08h30', 'Afternoon', 'Afternoon', '01h00', 'Late Afternoon', 'Morning', '05h00', '10h30', 'Afternoon', '05h00', '12h00', 'Early morning', 'Morning', '16h00', 'Night', 'Night', 'Night', '15h30', '07h30', '13h00', 'Before daybreak', 'Evening', '06h00', '11h30', '03h00', '12h00', '12h00', '07h00', 'Afternoon', 'Evening', '02h00', '12h00', '05h30', 'Morning', 'Morning', 'Afternoon', 'A.M.', 'Afternoon', '11h45', '15h00', '11h00', '12h00', '10h00', '13h00', 'Afternoon', 'Afternoon', 'Afternoon', 'Morning', 'Afternoon', 'Night', 'Midnight', 'Night', 'Before 10h30', '09h00', 'Evening', '16h00', 'Evening', '20h00', 'Evening', '10h00', '06h00 -- 07h00', '18h30', '10h30', 'Night', 'Evening', '15h00', '01h50', 'Afternoon', '14h00', 'Evening', 'Evening', 'Evening', '17h00-18h00', 'Night', 'Morning', '19h00-20h00', 'Evening', 'Evening', '13h00', '22h00', '06h00', 'Night', '18h00', 'Morning', 'Afternoon', 'Afternoon', 'Afternoon', 'Late afternoon', 'Afternoon']\n"
     ]
    }
   ],
   "source": [
    "print(list_time)"
   ]
  },
  {
   "cell_type": "markdown",
   "id": "f2cf850d",
   "metadata": {},
   "source": [
    "## Age distribution"
   ]
  },
  {
   "cell_type": "code",
   "execution_count": 132,
   "id": "47bff6d1",
   "metadata": {},
   "outputs": [],
   "source": [
    "# Importing\n",
    "sharks_clean = pd.read_csv('./data/sharks_clean.csv', encoding = \"unicode_escape\")"
   ]
  },
  {
   "cell_type": "code",
   "execution_count": 133,
   "id": "04a5cd4a",
   "metadata": {},
   "outputs": [
    {
     "data": {
      "text/plain": [
       "2831"
      ]
     },
     "execution_count": 133,
     "metadata": {},
     "output_type": "execute_result"
    }
   ],
   "source": [
    "sharks_clean[\"Age\"].isna().sum()"
   ]
  },
  {
   "cell_type": "code",
   "execution_count": 134,
   "id": "0c8aea9c",
   "metadata": {},
   "outputs": [],
   "source": [
    "sharks_clean = sharks_clean[sharks_clean[\"Age\"].notna()]"
   ]
  },
  {
   "cell_type": "code",
   "execution_count": 135,
   "id": "dc1e0e99",
   "metadata": {},
   "outputs": [],
   "source": [
    "sharks_clean[\"Age\"] = sharks_clean[\"Age\"].map(str)"
   ]
  },
  {
   "cell_type": "code",
   "execution_count": 136,
   "id": "dd245393",
   "metadata": {},
   "outputs": [],
   "source": [
    "sharks_clean[\"Age\"] = sharks_clean[\"Age\"].str.strip()"
   ]
  },
  {
   "cell_type": "code",
   "execution_count": 137,
   "id": "a1fd6b26",
   "metadata": {},
   "outputs": [
    {
     "data": {
      "text/plain": [
       "17          154\n",
       "18          150\n",
       "20          142\n",
       "19          142\n",
       "15          139\n",
       "           ... \n",
       "18 to 22      1\n",
       "adult         1\n",
       "9 & 12        1\n",
       "? & 19        1\n",
       "13 or 14      1\n",
       "Name: Age, Length: 150, dtype: int64"
      ]
     },
     "execution_count": 137,
     "metadata": {},
     "output_type": "execute_result"
    }
   ],
   "source": [
    "sharks_clean[\"Age\"].value_counts()"
   ]
  },
  {
   "cell_type": "code",
   "execution_count": 138,
   "id": "fe30b4e2",
   "metadata": {},
   "outputs": [],
   "source": [
    "list_age = sharks_clean[\"Age\"].tolist()"
   ]
  },
  {
   "cell_type": "code",
   "execution_count": 139,
   "id": "db119577",
   "metadata": {},
   "outputs": [
    {
     "name": "stdout",
     "output_type": "stream",
     "text": [
      "['57', '11', '48', '18', '52', '15', '12', '32', '10', '10', '21', '34', '30', '60', '32', '33', '29', '54', '34', '41', '37', '56', '12', '19', '25', '10', '69', '18', '38', '55', '34', '35', '46', '45', '14', '18', '40s', '28', '20', '54', '35', '24', '25', '26', '49', '25', '14', '24', '25', '22', '7', '31', '17', '60', '15', '54', '40', '31', '33', '13', '28', '25', '18', '35', '42', '17', '37', '3', '11', '69', '13', '20', '34', '15', '10', '12', '37', '40', '8', '40', '50', '46', '32', '13', '16', '14', '34', '82', '48', '19', '30', '32', '20', '73', '41', '29', '33', '18', '14', '33', '28', '20s', '40', '17', '28', '17', '68', '35', '10', '21', '16', '51', '39', '17', '58', '30', '25', '58', '26', '26', '22', '37', '21', 'Teen', '55', '57', '48', '35', '47', '20', '16', '55', '61', '40s', '19', '20', '65', '73', '58', '41', '42', '36', '36', '66', '25', '29', '21', '32', '17', '16', '36', '43', '43', '60s', '51', '50', '12', '9', '22', '25', '37', '20', '49', '15', '21', '22', '40', '72', '43', '18', '29', '36', '31', '9', '11', '61', '10', '59', '42', '34', '35', '11', '59', '43', '42', '19', '6', '19', '27', '64', '60', '23', '29', '52', '13', '57', '22', '11', '48', '23', '59', '39', '24', '15', '12', '22', '26', '26', '69', '60', '34', '46', '22', 'Teen', '41', '9', '19', '45', '12', '41', '21', '31', '65', '45', '40', '41', '15', '48', '11', '31', '38', '71', '43', '32', '58', '26', '22', '55', '28', '20', '9', '54', '28', '19', '50', '10', '42', '21', '21', '35', '32', '44', '9', '25', '18', '22', '13', '14', '22', '7', '14', '27', '12', '16', '20', '42', '50', '29', '62', '37', '54', '21', '38', '15', '10', '22', '10', '57', '52', '47', '40', '25', '35', '46', '31', '40', '45', '34', '38', '39', '23', '32', '52', '32', '68', '12', '18', '19', '23', '43', '19', '47', '6', '37', '9', '36', '10', '16', '12', '13', '11', '17', '47', '14', '19', '19', '13', '18', '30', '50', '29', '65', '63', '26', '71', '48', '13', '70', '43', '23', '36', '52', '58', '9', '36', '18 months', '22', '41', '35', '57', '20', '24', '17', '38', '34', '15', '12', '17', '50', '40s', '17', '13', '39', '44', '53', '18', '34', '20', '13', '7', '29', '40', '15', '28', '23', '36', '50', '43', '20s', '52', '16', '13', '17', '33', '30s', '29', '31', '26', '10', '7', '10', '45', '50s', '8', '20', 'Teen', '51', '8', '61', '39', '63', '14', '19', '48', '42', '15', '43', '16', '39', '43', '14', '22', '37', '29', '10', '38', '35', '44', '12', '40', '23', '42', '25', 'teen', 'teen', '63', '38', '66', '9', '42', '42', '10', '21', '21', '21', '28', '28', '24', '31', '37', '19', '35', '29', '30', '26', '57', '19', '58', '35', '25', '77', '16', '46', '60', '24', '41', '45', '25', '6', '74', '55', '45', '12', '50', '27', '7', '45', '21', '13', '43', '25', '17', '3', '9', '47', '50', '11', '16', '20', '19', '10', '17', '56', '32', '40', '18', '64', '50', '18', '50', 'teen', '15', '33', '63', '48', '29', '20', '14', '28', '15', '10', '58', '32', '11', '41', '30', '29', '42', '36', '16', '34', '51', '9', '21', '40', '53', '50', '24', '58', '47', '34', '50', '30', '68', '28', '28 & 26', '39', '46', '16', '48', '18', '62', '43', '26', '23', '29', '20', '32', '60', '31', '25', '61', '20', '32', '14', '30', '43', '25', '51', '39', '35', '24', '55', '38', '42', '11', '21', '22', '52', '29', '19', '25', '30s', '37', '32', '8', '56', '53', '34', '18', '31', '56', '39', '17', '48', '44', '50', '12', '22', '24', '23', '24', '43', '42', '52', '29', '60', '6', '26', '16', '12', '62', '16', '6', '23', '18', '16', '42', '57', '30', '12', '25', '33', '46', '22', '20', '30', '47', '15', '28', '20', '27', '28', '33', '21', '20', '61', '15', '17', '34', '31', '19', '42', '29', '26', '24', '44', '25', '53', '28', '34', '23', '27', '35', '51', '14', '63', '18', '10', '35', '42', '27', '26', '32', '41', '50', '64', '51', '29', '27', '48', '43', '21', '5', '38', '17', '25', '37', '30', '21', '19', '19', '48', '39', '21', '10', '49', '16', '20s', '12', '25', '32', '27', '30', '7', '54', '36', '14', '43', '29', '6', '54', '12', '14', '16', '17', '28', '21', '22', '10', '20', '35', '15', '31', '28', '24', '28', '19', '22', '33', '28', '86', '15', '37', '43', '37', '32', '17', '49', '41', '27', '48', '46', '30', '24', '36', '21', '32', '49', '58', '37', '38', '25', '55', '7', '16', '37', '16', '46', '70', '54', '46', '70', '48', '47', '33', '21', '20', '30', '14', '19', '22', 'Teen', '29', '18', '29', '15', '27', '24', '24', '24', '34', '43', '10', '31', '45', '16', '47', '25', '35', '37', '16', '20', '10', '13', '55', '9', '21', '20', '19', '48', '20', '6', '13', '17', '18', '40', '20', '49', '58', '60', '59', '10', '29', '68', '35', '24', '34', '19', '60', '46', '18', '31', '38', '14', '29', '54', '37', '9', '32', '20', '55', '27', '18', '22', '24', '39', '58', '49', '10', '31', '22', '27', '18', '25', '21', '27', '17', '54', '10', '23', '23', '39', '34', '60', '15', '25', '22', '26', '56', '14', '14', '41', '14', '11', '26', '19', '57', '37', '12', '43', '52', '26', '14', '50', '46', '31', '49', '55', '27', '48', '20', '23', '52', '31', '49', '40', '24', '15', '59', '16', '17', '17', '61', '21', '19', '40', '15', '33', '31', '41', '49', '17', '15', '19', '25', '17', '24', '13', '31', '22', '49', '10', '29', '51', '15', '45', '39', '34', '24', '50', '15', '11', '43', '44', '40', '43', '32', '40', '51', '43', '15', '52', '29', '27', '52', '19', '26', '20', '20', '47', '7', '38', '13', '31', '33', '17', '44', '9', '8', '15', '16', '52', '24', '14', '17', '16', '53', '42', '46', '29', '37', '40', '35', '14', '40', '15', '14', '9', '49', '21', '28', '37', '40', '6', '24', '24', '18', '24', '32', '21', '66', '14', '32', '19', '30', '15', '16', '18', '39', '52', '13', '14', '8', '27', '49', '26', '25', '14', '42', '20', '20', '26', '24', '53', '31', 'teen', '34', '52', '28', '32', '14', '21', '42', '37', '32', '52', '31', '22', '16', '23', '48', '18 or 20', '23', '56', 'Teen', '14', '58', '36', '15', '12', '58', '15', '24', '54', '27', '52', '16', '7', '20', '15', '19', '30', '9', '19', '51', '20', '36', '15', '14', '48', '43', '30', '48', '18', '17', '20', '9', '40', '38', '38', '19', '21', '45', '63', '68', '20', '13', '12', '24', '26', '7', '27', '9', '11', '42', '59', '29', '16', '36', '26', '30', '41', '20', '24', '54', '24', '25', '10', '43', '25', '15', '29', '22', '15', '20', '18', '26', '36', '19', '16', '55', '52', '44', '20', '33', '12 or 13', '37', '23', '27', '17', '34', '34', '24', '59', '41', '15', '19', '14', '49', '7', '21', '40', '11', '14', '13', '28', '35', '9', '25', '22', '27', '43', '24', '7', '40', '26', '31', '15', '33', '30s', '20s', '46', '54', '13', '35', '15', '15', '35', '11', '28', '17', '21', '15', '15', '45', '18', '15', '24', '57', '46 & 34', '34', '28, 23 & 30', '52', '21', '21', '49', '30', '29', '44', 'teen', '23', '18', '26', '30s', '17', '32', '18', '25', '26', '15', '55', '20', '36', '20', '15', '22', '57', '48', '35', '52', '28', '26', '44', '68', '18', '15', '18', '40', '62', '21', '23', '37', '17', '8', '12', '16', '14', '13', '61', '25', '24', '22', '14', '19', '16', '14', '7', '49', '20', '38', '11', '17', '22', '6', '33', '32', 'Teens', '47', '25', '20', '40', '70', '52', '37', '32', '26', '45', '51', '18', '12', '19', '39', '11', '18', '38', '20', '16', '77', '38', '30s', '40', '52', '59', '34', '34', '15', '16', '40', '26', '17', '38', '24', '50', '47', '30', '20', '28', '13', '19', '11', '51', '30', 'Teen', '7', '45', '17', '8', '21', '16', '17', '44', '9', '9', '9', '24', '63', '28', '22', '57', '16', '22', '26', '20', '22', '20', '61', '51', '47', '29', '15', '31', '22', '46', '21', '40', '22', '28', '13', '45', '36', '21', '35', '35', '24', '18', '22', '13', '46', '56', '19', '18', '30', '50', '41', '40', '16', '21', '19', '17', '30', '36 & 26', '8 or 10', '18', '15', '19', '50', '31', '16', '37', '18', '15', '58', '10', '21', '39', '17', '15', '12', '60', '51', '33', '15', '22', '18', '22', '20', '34', '9', '16', '17', '7', '36', '17', '30', '23', '18', '11', '12', '20', '28', '50', '44', '37', '54', '24', '84', '14', '18', '25', '26', '11', '23', '19', '48', '34', '41', '21', '16', '52', '60', '36', '21', '14', '35', '18', '47', '32', '55', 'Â', '', '24', '35', '19', '47', '20', '36', '16', '29', '27', '15', '15', '30', '14', '13', '15', '19', '41', '22', '9', '30', '11', '28', '50', '10', '50', '24', '16', '55', '35', '14', '31', '40', '20', '23', '52', '34', '28', '45', '43', '41', '29', '17', '11', '16', '20', '39', '31', '44', '30 or 36', '15', '35', '20', '32', '16', '26', '35', '36', '49', '20', '26', '31', '21', '14', '42', '6Â½', '16', '44', '13', '28', '23', '20', '10', '44', '29', '69', '18', '18', '17', '27', '32', '17', '17', '20', '19', '19', '43', '21 & ?', '36', '48', '18', '42', '8', '35', '14', '52', '75', '29', '16', '11', '24', '26', '33 or 37', '45', '14', '16', '12', 'mid-30s', '38', '21', '12', '22', '19', '22', '16', '46', '26', '12', '40', '12', '20', '40', '35', '55', '23', '47', '30', '38', '28', '47', '73', '27', '52', '49', '27', '31', '23', '56', '69', '17', '23', '11', '24', '17', '25', '12', '31', '49', '26', '25', '8', '48', '28', '40', '27', '47', '69', '53', '27', '44', '23 & 20', '5', '45', '16', '14', '15', '18', '69', '13', '41', '5', '12', '20', '55', '13', '19', '52', '17', '55', '44', '13', '9', '34', '26', '14', '37', '35', '27', '39', '27', '12', '26', '35', '15', '13', '12', '18', '39', '35', '19', '51', '35', '39', '12', '12', '45', '13', '16', '22', '37', '61', '10', '13', '7', '39', '28', '23', '17', '10', '62', '35', '42', '43', '43', '14', '30', '29', '20', '21', '41', '5', '22', '21', '41', '52', '14', '29', '28', '18', '29', '35', '25', '47', '37', '30', '19', '21', '18', '14', '21', '9', '14', '13', '32', '52', '22', '17', '30', '17', '28', '6', '18', '28', '25', '26', '16', '28', '11', '19', '24', '13', '47', '16', '10', '26', '20', '18', '17', '15', '16', '40', '14', '24', '22', '35', '50', '16', '40', '33', '32', '31', '21', '23', '28', '39', '29', '8', '42', '32', '21', '51', '19', '23', '12', '14', '20', '12', '17', '20', '18', '22', '29', '28', '33', '12', '17', '16', '17', '10', '17', '19', '19', '25', '50', '55', '47', '18', '33', '35', '34', '12', '54', '22', '21', '30', '49', '27', '41', '18', '45', '26', '22', '21', '31', '14', '23', '19', '5', '28', '28', '29', '19', '36', '21', '8', '52', '46', '9', '18', '63', '24', '24', '17', '45', '22', '33', '27', '11', '16', '47', '7', '24', '32', '14', '7', '33', '13', '53', '25', '22', '13', '17', '15', '39', '14', '17', '25', '19', '19', '25', '29', '32', '9', '19', '44', '16', '18', '16', '23', '19', '18', '20', '15', '20', '14', '12', '18', '18', '12', '7', '47', '18', '14', '34', '32', '31', '13', '45', '10', '38', '45', '29', '44', '15', '69', '44', '12', '20', '47', '35', '22', '14', '17', '33', '26', '44', '42', '34', '9', '16', '30', '43', '7      &    31', '12', '15', '24', '22', '31', '15', '30', '24', '28', '35', '36', '26', '22', '25', '20?', '71', '19', '33', '25', '23', '15', '44', '23', '33', '30', '27', '26', '26', '34', '21', '36', '15', '17', '19', '16', '69', '51', '13', '19', '39', '28', '12', '16', '61', '42', '22', '31', '34', '42', \"60's\", '32', '25', '35', '55', '69', '15', '21', '32 & 30', '29', '30', '10', '30', '31', '19', '24', '46', '30', '40', '17', '18', '40', '28', '28', '20', '18', '34', '17', '22', '26', '42', '16', '21', '45', '35', '36', '17', '41', '21', '19', '19', '19', '36', '33', '25', '41', '14', '21', '32', '32', '19', '36', '23', '10', '40', '39', '42', '22', '30', '32', '13', '22', '18', '31', '65', '23', '22', '18', '38', '20', '35', '22', '26', '24', '50', '18', '26', '25', '43', '19', '26', '49', '44', '30', '22', '18', '53', '17', '21', '38', '30s', '30s', '22', '23', '31', '37', '29', '30', '33', '17', '17', '27', '32', '29', '10', '31', '17', '12', '49', '29', '51', '38', '31', '46', '30', '21', '21', '17', '31', '41', '35', '34', '16', '9', '45', '16', '28', '19', '27', '26', '47', '24', '24', '10', '19', '17', '17', '62', '21', '38', '15', '30', '23', '15', '23', '21', '38', '16', '27', '28', '35', '15', '37', '36', '42', '37', '12', '25', '38', '31', '29', '24', '14', '30', '17', '20', '15', '22', '22', '33', '12', '16', '16 to 18', '15', '20', '14', '21', '47', '24', '12', '40', '27', '32', '16', '35', '12', '34', '16', '8', '18', '30', '37', '21', '40', '37', '27', '22', '17', '26', '23', '6', '32', '28', '18', '16', '35', '8', '26', '26', '23', '21', '46', '29', '29', '22', '16', '24', '22', '46', '33', '24', '21', '17', '87', '11', '67', '13', '15', '10', '13', '39', '25', '33', '29', '16', '15', '18', '34', '20', '16', '13', '29', '22', '23', '77', '15', '25', '17', 'Elderly', '16', '28', '31', '13', '18', '21', '30', '27', '13', '20s', '28', '33', '27', '14', '14', '36', '17', '48', '16', '47', '15', '16', '20', '15', '29', '14', '14', '22', '21', '24', '28', '39', '13', '17', '42', '15', '21', '30', '21', '15', '22', '27', '16', '17', '16', '43', '22', '32', '26', '16', '16', '20', '36', '28', 'mid-20s', '17', '18', '20', '38', '26', '17', '43', '19', '27', '20', '19', '8', 'Ca. 33', '16', '20', '32', '18', '75', '29', '20', '24', '59', '19', '17', '24', '28', '26', '25', '24', '15', '19', '19', '53', '16', '32', '27', '27', '32', '19', '24', '19', '24', '30', '15', '25', '23', '27', '25', '22', '16', '29', '19', '22', '10', '15', '22', '44', '22', '13', '52', '61', '24', '29', '29', '25', '34', '20', '20s', '18', '19', '32', '20', '18', '21', '16', '49', '56', '36', '25', '24', '8', '27', '19', '', '23', '17', '27', '34', '27', '39', '27', '20', '17', '25', '23', '17', '49', '27', '18', '25', '17', '25', '20', '17', '21', '27', '25', '31', '32', '74', '45', '24', '29', '19', '19', '17', '25', '20', '27', '16', '15', '23', '19', '24', '10', '18', '23', '17', '46', '21 or 26', '25', '27', '35', '20', '33', '18', '20', '21', '19', '20', '44', '24', '62', '37', '24', '21', '23', '34', '14', '29', '16', '18', '15', '27', '20', '17', '10', '37', '14', '18', '16', '12', '45', '12', '17', '25', '32', '24', '17', '29', '20', '41', '48', '30', '24', '22', '19', '18', '21', '36', '17', '10', '61', '45', '22', '19', '11', '17', '21', '14', '19', '42', '26', '33', '32', '41', '20', '19', '20s', '13', '11', '20', '37', '21', '16', '17', '45', '28', '26', '57', '13', '29', '25', '17', '24', '24', '19', '17', '17', '20', '15', '45', '22', '32', '27', '25', '19', '33', '18', '20', '30', '24', '22', '16', '20', '20', '20', '18', '25', '30', '17', '34', '51', '26', '8', '21', '32', '16', '>50', '19', '14', '66', '16', '15', '18', '18 to 22', '41', '43', '20', '18', '20', '13', '25', '16', '18', '14', '19', '8', '14', '16', '12', '10', '22', '15', '28', '25', '35', '35', '15', '27', '53', '28', '15', '13', '25', '13', '22', '27', '8', '23', '18', 'adult', '65', '16', '49', '52', '21', '27', '17', '28', '30', '22', '16', '24', '9 & 12', '15', '12', '41', '18', '25', '33', '33', '43', '17', '17', '17', '63', '10', '21', '7', '47', '35', '20', '28', '17', '14', '26', '24', '13', '22', '32', '27', '59', '15', '18', '21', '19', '17', '21', '23', '24', '19', '23', '19', '? & 19', '15', '41', '20', '36', '18', '26', '30', '22', '60', '21', '32', '36', '21', '14', '31', '15', '30', '29', '19', '39', '29', '28', '9 months', '13', '8', '32', '20', '43', '14', '18', '13', '9', '33', '21', '26', '8', '16', '34', '14', '20', '25', '46', '15', '18', '18', '40', '38', '24', '25', '13', '33', '29', '30', '16', '43', '15', '15', '35', '15', '40', '43', '44', '24', '39', '32', '15', '27', '23', '15', '25', '6', '38', '35', '49', '19', '28', '8', '17', '16', '25', '18', '21', '22', '20', '30', '13', 'Teen', '25 to 35', '19', '28', '10', '25', '29', '25', '19', '24', '32', '20', '14', '19', '18', '28', '12', '21', '22', '30', '52', '29', '23', '40', '47', '35', '13', '19', '32', '38', '15', '17', '26', '25', '19', '23', '12', '39', '17', '21', '20', '20', '24', '18', '13', '15', '23', '22', '20', '18', '21', '25', '28', '35', '28', '20', '25', '30', '18', '16', '23 & 26', '26', '14', '24', '42', '30', '25', '15', '25', '15', '18', '28', '24', '41', '32', '25', '14', '27', '24', '16', '26', '24', '30', '32', '26', '43', '1', '24', '20', '29', '28', '49', '39', '40', '24', '(adult)', '23', '21', '20', '19', '41', '13', '11', '31', '32', '35', '13', '55', '31', '17', '16', '13', '10', '15', '22', '13', '35', '18', '16', '19', '40', '44', '29', '19', '24', '54', '25', '57', '18', '24', '18', '23', '20', '22', '17', '45', '45', '16', '19', '42', '22', '33 & 37', '16', '19', '22', '38', '57', '16', '21', '10', '23', '25', '19', '20', '52', '10', '37', '22', '21', '40', '38', '24', '24', '24', '21', '33', '44', '30', '27', '14', '15', '27', '13', '25 or 28', '20', '27', '25', '33', '41', '51', '17', '24', '36', '24', '26', '37', '25', '38', '14', '24', '15', '25', '46', '25', '17', '41', '18', '39', '37, 67, 35, 27,  ? & 27', '58', '24', '27', '25', '16', '16', '48', '21, 34,24 & 35', '17', '42', '44', '30 & 32', '22', '36', '26', '20', '13', '9', '16', '20', '5', '50 & 30', '13', '29', '17 & 35', '3', '19', '17', '19', '21', 'X', '30', '36', '28', '29', '30', '\"middle-age\"', '14', '10', '21', '26', '32', '13 or 18', '15', '34 & 19', '25', '22', '21', '27', '13', '33', '23', '37', '18', '19', '22', '43', '13', '20', '15', '14', '20', '57', '16', '22', '17', '18', '33 & 26', '14', '15', '22', '21', '15', '60', '26', '32', '42', '20', '12', '8', '35', '21', '31', '20', '38', '36', '59', '17', '29', '29', '28', '29', '21', '18', '17', '14', '50', '14', '20', '23', '15', '16', '22', '28', '57', '36', '28', '25', '15', '17', '22', '17', '15', '12', '2 to 3 months', '18', '30', '19', '16', '70', '29', '19', '27', '34', '13', '10', '23', '13', '38', '40', '38', '7', '23', '30', '13', '26', '21', '15', '8', '18', '33', '25', '15', '14', '8', '28', '16', '25', '32', '28', '15', '22', '13', '28', '22', '25', '19', '25', '25', '13', '16', '12', '27', '23', '16', '62', '13', '35', '20', '35', '27', '34', '28', '22', '35', '30', '23', '30', '18', '26', '12', '23', '16', '23', '15', '19', '18', '15', '26', '19', '19', '23', '25', '61', 'MAKE LINE GREEN', '25', '17', '17', '40', '18', '19', '43', '34', '34', '27', '15', '18', '21', '23', '81', '24', '42', '21', '56', '18', '16', '13', '40', '39', '16', '23', '\"young\"', '19', '31', '20', '14', '19', '19', '20', '17', '21', '18', '31', '25', '27', '19', '30', '11', '21', '16', '25', '27', '50', '20', '14', '7 or 8', '35', '36', '21', '34', '17', '18', '21', '18', '18', '16', '16', '22', '26', '13', '20', '32', '18', '17', '28', '19', '14', '41', '17', '60', '13', '15', '41', '46', '38', '30', '16', '48', '9', '17', '16', '12', '13', '78', '25', '20', '46', '20', '35', '21', '14', '17', '29', '18', '22', '17 & 16', '18', '23', '30', '15', '15', '30', '12', '12', '14', '17', '28', '21', '18', '18', '15', '12', '18', '14', '24', '20', '13', '37', '8 or 10', '15', '19', '18', '13', '19', '17', '15', '18', '23', '16', '12', '22', '14', '26', '17', '20', '68', '18', '26', 'F', '31', '22', '15', '38', '19', '18', '25', '24', '32', '20', '18', '28', '48', '10', '23', '20', '43', '53', '34', '19', '6', '14', '23', '17', '18', '25', '17', '55', '17', '13', '22', '18', '40', '20', '27', '33', '3', '38', '9', 'Both 11', '19', '18', '27', '25', '9 or 10', '13', '24', '50', '17', '17', '25', '18', '16', '38', '21', '14', '33', '16', '43', '32', '20', '18', '15', '50', '13', '16', '16', '16', 'young', '14', '13', '17', '20', '38', '38', '23', '53', '14', '22', '31', '40', '38', '27', '22', '20', '5', '13', '19', '14', '12', '38', '18', '11', '8', '34', '12', '15', '17', '15', '22', '17', '50', '15', '24', '38', '24', '27', '18', '17', '32', '36 & 23', '23', '45', 'Teen', '20', '18', '23', '19', '39', '18', '49', '17', '38', '29', '21', '17', '19', '18', '23', '17', '16', '17', '20', '50s', '42', '19', '26', '9', '12', '20', '39', '', '14', '27', '24', '17', '19', '15', '28', '78', '18', '25', '17', '17', '70', '15', '10', '17', '18', '20', '15', '26', '55', '16', '16', 'A.M.', '35', '35', '?    &   14', '20', '21', '30', '22', '16', '25', '13', '19', '16', '18', '19', '18', '14', '21', '18', '54', '26', '20', '8', '40', '22', '21', '30', '13', '20', '18', '12', '12', '29', '47', '13', '38', '22', '25', '41', '27', '12', '24', '10', '24', '10 or 12', '26', '17', '10', '17', '17', '43', '12', '19', '12', '18', '21', '7', '23', '64', '22', '50', '16', '19', '36', '16', '55', '18', '20', '17', '18', '31 or 33', '30', '21', '16', '8', '26', '40', '23', '39', '30', '16', '28', '30', '17', '16', '10', 'Teen', '29', '20', '30', '15', '9', '19', '13', '13', '24', '22', '15', '26', '35', '11', '15', '14', '26', '28', '13', '14', '19', '15', '21', '18', '11', '33', '13', '18', '21', '37', '18', '20', '23', '12', '20', '60', '11', '13', '23', '19', '22', '14', '11', '11', '15', '3', '27', '30', '40', '40', '13', '39', '40', '17', '35', '17', '13', '18', '26', '17', '28', '18', '18', '21', '22', '22', '17', '2Â½', '1', '15', '19', '15', '7 or 8', '29', '12', '52', '17', '22', 'young', '14', '19', '20', '15', '21', '19', '27', '36', '25', '6', '16', '50', '13 or 14', '16', '15']\n"
     ]
    }
   ],
   "source": [
    "print(list_age)"
   ]
  },
  {
   "cell_type": "code",
   "execution_count": 140,
   "id": "bb3f798a",
   "metadata": {},
   "outputs": [],
   "source": [
    "sharks_clean[\"Age_regex\"] = sharks_clean[\"Age\"].str.extract(r'(\\d{1,2})')"
   ]
  },
  {
   "cell_type": "code",
   "execution_count": 141,
   "id": "cfad839c",
   "metadata": {},
   "outputs": [
    {
     "data": {
      "text/plain": [
       "17    156\n",
       "18    153\n",
       "20    151\n",
       "19    143\n",
       "15    139\n",
       "     ... \n",
       "87      1\n",
       "67      1\n",
       "72      1\n",
       "81      1\n",
       "86      1\n",
       "Name: Age_regex, Length: 81, dtype: int64"
      ]
     },
     "execution_count": 141,
     "metadata": {},
     "output_type": "execute_result"
    }
   ],
   "source": [
    "sharks_clean[\"Age_regex\"].value_counts()"
   ]
  },
  {
   "cell_type": "code",
   "execution_count": 142,
   "id": "f317eeae",
   "metadata": {},
   "outputs": [
    {
     "data": {
      "text/plain": [
       "30"
      ]
     },
     "execution_count": 142,
     "metadata": {},
     "output_type": "execute_result"
    }
   ],
   "source": [
    "sharks_clean[\"Age_regex\"].isna().sum()"
   ]
  },
  {
   "cell_type": "code",
   "execution_count": 143,
   "id": "0f1700fb",
   "metadata": {},
   "outputs": [],
   "source": [
    "sharks_clean = sharks_clean[sharks_clean['Age_regex'].notna()]"
   ]
  },
  {
   "cell_type": "code",
   "execution_count": 144,
   "id": "7697e081",
   "metadata": {},
   "outputs": [
    {
     "data": {
      "text/plain": [
       "0"
      ]
     },
     "execution_count": 144,
     "metadata": {},
     "output_type": "execute_result"
    }
   ],
   "source": [
    "sharks_clean[\"Age_regex\"].isna().sum()"
   ]
  },
  {
   "cell_type": "code",
   "execution_count": 145,
   "id": "24c140ad",
   "metadata": {},
   "outputs": [],
   "source": [
    "sharks_clean[\"Age_regex\"] = sharks_clean[\"Age_regex\"].map(int)"
   ]
  },
  {
   "cell_type": "code",
   "execution_count": 146,
   "id": "82422467",
   "metadata": {},
   "outputs": [
    {
     "data": {
      "text/plain": [
       "Text(0.5, 0, 'Age')"
      ]
     },
     "execution_count": 146,
     "metadata": {},
     "output_type": "execute_result"
    },
    {
     "data": {
      "image/png": "[encoded data removed]",
      "text/plain": [
       "<Figure size 432x288 with 1 Axes>"
      ]
     },
     "metadata": {
      "needs_background": "light"
     },
     "output_type": "display_data"
    }
   ],
   "source": [
    "age_violin = sns.violinplot(x = sharks_clean.Age_regex, color = \"skyblue\")\n",
    "age_violin.set(title='Age distribution')\n",
    "age_violin.set_xlabel(\"Age\")"
   ]
  },
  {
   "cell_type": "code",
   "execution_count": null,
   "id": "52a1b575",
   "metadata": {},
   "outputs": [],
   "source": []
  }
 ],
 "metadata": {
  "kernelspec": {
   "display_name": "Python 3 (ipykernel)",
   "language": "python",
   "name": "python3"
  },
  "language_info": {
   "codemirror_mode": {
    "name": "ipython",
    "version": 3
   },
   "file_extension": ".py",
   "mimetype": "text/x-python",
   "name": "python",
   "nbconvert_exporter": "python",
   "pygments_lexer": "ipython3",
   "version": "3.9.12"
  },
  "toc": {
   "base_numbering": 1,
   "nav_menu": {},
   "number_sections": true,
   "sideBar": true,
   "skip_h1_title": false,
   "title_cell": "Table of Contents",
   "title_sidebar": "Contents",
   "toc_cell": false,
   "toc_position": {},
   "toc_section_display": true,
   "toc_window_display": false
  }
 },
 "nbformat": 4,
 "nbformat_minor": 5
}
