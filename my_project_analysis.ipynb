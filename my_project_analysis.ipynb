{
 "cells": [
  {
   "cell_type": "markdown",
   "id": "2a7a51eb",
   "metadata": {},
   "source": [
    "**Project 1 - SHARKS**"
   ]
  },
  {
   "cell_type": "markdown",
   "id": "e90f8822",
   "metadata": {},
   "source": [
    "# Libraries"
   ]
  },
  {
   "cell_type": "code",
   "execution_count": 1,
   "id": "6ec501ad",
   "metadata": {},
   "outputs": [],
   "source": [
    "# Libraries\n",
    "import pandas as pd\n",
    "import numpy as np\n",
    "import re\n",
    "import matplotlib.pyplot as plt\n",
    "import seaborn as sns"
   ]
  },
  {
   "cell_type": "code",
   "execution_count": 2,
   "id": "0a2550ac",
   "metadata": {},
   "outputs": [],
   "source": [
    "# Matplotlib inline to visualize Matplotlib graphs\n",
    "%matplotlib inline\n",
    "%config Inlinebackend.figure_format= 'retina'"
   ]
  },
  {
   "cell_type": "markdown",
   "id": "22b6986e",
   "metadata": {},
   "source": [
    "# Hypotheses"
   ]
  },
  {
   "cell_type": "markdown",
   "id": "c9096870",
   "metadata": {},
   "source": [
    "- Based on reports by activity and fatality, we could identify the *top10 most lethal activities.*\n",
    "- Based on reports by month and country, it would be possible to identify a 'Shark season' i. e. the months were most attacks occur, which might as well be related to migratory events. Has these changed over the years? -> Global warming, climate change.\n",
    "- Based on reports by fatality and time: **(will work on it if enough time)**\n",
    "    - More deaths at night due to people not seeing shark approach?\n"
   ]
  },
  {
   "cell_type": "markdown",
   "id": "4e428daa",
   "metadata": {},
   "source": [
    "# Analysis (& further cleaning of chosen variables)"
   ]
  },
  {
   "cell_type": "code",
   "execution_count": 3,
   "id": "e418e772",
   "metadata": {},
   "outputs": [],
   "source": [
    "sharks_clean = pd.read_csv('./data/sharks_clean.csv', encoding = \"unicode_escape\")"
   ]
  },
  {
   "cell_type": "code",
   "execution_count": 4,
   "id": "c50d199a",
   "metadata": {},
   "outputs": [
    {
     "data": {
      "text/html": [
       "<div>\n",
       "<style scoped>\n",
       "    .dataframe tbody tr th:only-of-type {\n",
       "        vertical-align: middle;\n",
       "    }\n",
       "\n",
       "    .dataframe tbody tr th {\n",
       "        vertical-align: top;\n",
       "    }\n",
       "\n",
       "    .dataframe thead th {\n",
       "        text-align: right;\n",
       "    }\n",
       "</style>\n",
       "<table border=\"1\" class=\"dataframe\">\n",
       "  <thead>\n",
       "    <tr style=\"text-align: right;\">\n",
       "      <th></th>\n",
       "      <th>Case Number</th>\n",
       "      <th>Date</th>\n",
       "      <th>Year</th>\n",
       "      <th>Type</th>\n",
       "      <th>Country</th>\n",
       "      <th>Area</th>\n",
       "      <th>Location</th>\n",
       "      <th>Activity</th>\n",
       "      <th>Name</th>\n",
       "      <th>Sex</th>\n",
       "      <th>Age</th>\n",
       "      <th>Injury</th>\n",
       "      <th>Fatal (Y/N)</th>\n",
       "      <th>Time</th>\n",
       "      <th>Species</th>\n",
       "      <th>Investigator or Source</th>\n",
       "    </tr>\n",
       "  </thead>\n",
       "  <tbody>\n",
       "    <tr>\n",
       "      <th>0</th>\n",
       "      <td>2018.06.25</td>\n",
       "      <td>25-Jun-2018</td>\n",
       "      <td>2018.0</td>\n",
       "      <td>Boating</td>\n",
       "      <td>USA</td>\n",
       "      <td>California</td>\n",
       "      <td>Oceanside, San Diego County</td>\n",
       "      <td>Paddling</td>\n",
       "      <td>Julie Wolfe</td>\n",
       "      <td>F</td>\n",
       "      <td>57</td>\n",
       "      <td>No injury to occupant, outrigger canoe and pad...</td>\n",
       "      <td>N</td>\n",
       "      <td>18h00</td>\n",
       "      <td>White shark</td>\n",
       "      <td>R. Collier, GSAF</td>\n",
       "    </tr>\n",
       "    <tr>\n",
       "      <th>1</th>\n",
       "      <td>2018.06.18</td>\n",
       "      <td>18-Jun-2018</td>\n",
       "      <td>2018.0</td>\n",
       "      <td>Unprovoked</td>\n",
       "      <td>USA</td>\n",
       "      <td>Georgia</td>\n",
       "      <td>St. Simon Island, Glynn County</td>\n",
       "      <td>Standing</td>\n",
       "      <td>AdysonÂ McNeely</td>\n",
       "      <td>F</td>\n",
       "      <td>11</td>\n",
       "      <td>Minor injury to left thigh</td>\n",
       "      <td>N</td>\n",
       "      <td>14h00  -15h00</td>\n",
       "      <td>NaN</td>\n",
       "      <td>K.McMurray, TrackingSharks.com</td>\n",
       "    </tr>\n",
       "    <tr>\n",
       "      <th>2</th>\n",
       "      <td>2018.06.09</td>\n",
       "      <td>09-Jun-2018</td>\n",
       "      <td>2018.0</td>\n",
       "      <td>Invalid</td>\n",
       "      <td>USA</td>\n",
       "      <td>Hawaii</td>\n",
       "      <td>Habush, Oahu</td>\n",
       "      <td>Surfing</td>\n",
       "      <td>John Denges</td>\n",
       "      <td>M</td>\n",
       "      <td>48</td>\n",
       "      <td>Injury to left lower leg from surfboard skeg</td>\n",
       "      <td>N</td>\n",
       "      <td>07h45</td>\n",
       "      <td>NaN</td>\n",
       "      <td>K.McMurray, TrackingSharks.com</td>\n",
       "    </tr>\n",
       "    <tr>\n",
       "      <th>3</th>\n",
       "      <td>2018.06.08</td>\n",
       "      <td>08-Jun-2018</td>\n",
       "      <td>2018.0</td>\n",
       "      <td>Unprovoked</td>\n",
       "      <td>AUSTRALIA</td>\n",
       "      <td>New South Wales</td>\n",
       "      <td>Arrawarra Headland</td>\n",
       "      <td>Surfing</td>\n",
       "      <td>male</td>\n",
       "      <td>M</td>\n",
       "      <td>NaN</td>\n",
       "      <td>Minor injury to lower leg</td>\n",
       "      <td>N</td>\n",
       "      <td>NaN</td>\n",
       "      <td>2 m shark</td>\n",
       "      <td>B. Myatt, GSAF</td>\n",
       "    </tr>\n",
       "    <tr>\n",
       "      <th>4</th>\n",
       "      <td>2018.06.04</td>\n",
       "      <td>04-Jun-2018</td>\n",
       "      <td>2018.0</td>\n",
       "      <td>Provoked</td>\n",
       "      <td>MEXICO</td>\n",
       "      <td>Colima</td>\n",
       "      <td>La Ticla</td>\n",
       "      <td>Free diving</td>\n",
       "      <td>Gustavo Ramos</td>\n",
       "      <td>M</td>\n",
       "      <td>NaN</td>\n",
       "      <td>Lacerations to leg &amp; hand shark PROVOKED INCIDENT</td>\n",
       "      <td>N</td>\n",
       "      <td>NaN</td>\n",
       "      <td>Tiger shark, 3m</td>\n",
       "      <td>A .Kipper</td>\n",
       "    </tr>\n",
       "  </tbody>\n",
       "</table>\n",
       "</div>"
      ],
      "text/plain": [
       "  Case Number         Date    Year        Type    Country             Area  \\\n",
       "0  2018.06.25  25-Jun-2018  2018.0     Boating        USA       California   \n",
       "1  2018.06.18  18-Jun-2018  2018.0  Unprovoked        USA          Georgia   \n",
       "2  2018.06.09  09-Jun-2018  2018.0     Invalid        USA           Hawaii   \n",
       "3  2018.06.08  08-Jun-2018  2018.0  Unprovoked  AUSTRALIA  New South Wales   \n",
       "4  2018.06.04  04-Jun-2018  2018.0    Provoked     MEXICO           Colima   \n",
       "\n",
       "                         Location     Activity              Name Sex  Age  \\\n",
       "0     Oceanside, San Diego County     Paddling       Julie Wolfe   F   57   \n",
       "1  St. Simon Island, Glynn County     Standing  AdysonÂ McNeely    F   11   \n",
       "2                    Habush, Oahu      Surfing       John Denges   M   48   \n",
       "3              Arrawarra Headland      Surfing              male   M  NaN   \n",
       "4                        La Ticla  Free diving    Gustavo Ramos    M  NaN   \n",
       "\n",
       "                                              Injury Fatal (Y/N)  \\\n",
       "0  No injury to occupant, outrigger canoe and pad...           N   \n",
       "1                         Minor injury to left thigh           N   \n",
       "2       Injury to left lower leg from surfboard skeg           N   \n",
       "3                          Minor injury to lower leg           N   \n",
       "4  Lacerations to leg & hand shark PROVOKED INCIDENT           N   \n",
       "\n",
       "            Time          Species          Investigator or Source  \n",
       "0          18h00      White shark                R. Collier, GSAF  \n",
       "1  14h00  -15h00              NaN  K.McMurray, TrackingSharks.com  \n",
       "2          07h45              NaN  K.McMurray, TrackingSharks.com  \n",
       "3            NaN        2 m shark                  B. Myatt, GSAF  \n",
       "4            NaN  Tiger shark, 3m                       A .Kipper  "
      ]
     },
     "execution_count": 4,
     "metadata": {},
     "output_type": "execute_result"
    }
   ],
   "source": [
    "sharks_clean.head()"
   ]
  },
  {
   "cell_type": "code",
   "execution_count": 5,
   "id": "7a6eedab",
   "metadata": {},
   "outputs": [
    {
     "data": {
      "text/plain": [
       "(6302, 16)"
      ]
     },
     "execution_count": 5,
     "metadata": {},
     "output_type": "execute_result"
    }
   ],
   "source": [
    "sharks_clean.shape # Based on cleaning I'm sure that these reports have at least 50% of information\n",
    "# Since they had non-NaN in 8 out of 16 columns"
   ]
  },
  {
   "cell_type": "markdown",
   "id": "807252d6",
   "metadata": {},
   "source": [
    "## 'Shark Season'"
   ]
  },
  {
   "cell_type": "markdown",
   "id": "0b5b0e12",
   "metadata": {},
   "source": [
    "Which column do I use to extract the month? Case Number and Date contain this information. Let's see which one has less NaN"
   ]
  },
  {
   "cell_type": "code",
   "execution_count": 6,
   "id": "fb5a5abd",
   "metadata": {},
   "outputs": [
    {
     "data": {
      "text/plain": [
       "1"
      ]
     },
     "execution_count": 6,
     "metadata": {},
     "output_type": "execute_result"
    }
   ],
   "source": [
    "sharks_clean[\"Case Number\"].isna().sum()"
   ]
  },
  {
   "cell_type": "code",
   "execution_count": 7,
   "id": "4951b534",
   "metadata": {},
   "outputs": [
    {
     "data": {
      "text/plain": [
       "0"
      ]
     },
     "execution_count": 7,
     "metadata": {},
     "output_type": "execute_result"
    }
   ],
   "source": [
    "sharks_clean[\"Date\"].isna().sum()"
   ]
  },
  {
   "cell_type": "markdown",
   "id": "2fd26abb",
   "metadata": {},
   "source": [
    "Basically the same, let's see which one looks cleaner"
   ]
  },
  {
   "cell_type": "code",
   "execution_count": 8,
   "id": "dda48e89",
   "metadata": {},
   "outputs": [],
   "source": [
    "list_case_number = sharks_clean[\"Case Number\"].tolist()"
   ]
  },
  {
   "cell_type": "code",
   "execution_count": 9,
   "id": "1cea5aae",
   "metadata": {},
   "outputs": [],
   "source": [
    "#print(list_case_number)"
   ]
  },
  {
   "cell_type": "code",
   "execution_count": 10,
   "id": "22630c58",
   "metadata": {},
   "outputs": [],
   "source": [
    "list_date = sharks_clean[\"Date\"].tolist() \n",
    "# I think it would be better to use this with regex selection [A-Za-z]{3} or similar\n",
    "# Find those instances in which occur and create new column with the month"
   ]
  },
  {
   "cell_type": "code",
   "execution_count": 11,
   "id": "1fa392da",
   "metadata": {},
   "outputs": [],
   "source": [
    "#print(list_date)"
   ]
  },
  {
   "cell_type": "markdown",
   "id": "b875307e",
   "metadata": {},
   "source": [
    "After checking the list, if they do not follow the regex -(\\w{3})- the date is not really clear. Extract these and replace by NaN the others."
   ]
  },
  {
   "cell_type": "code",
   "execution_count": 12,
   "id": "ce81234b",
   "metadata": {},
   "outputs": [],
   "source": [
    "# (Jan|Feb|Mar|Apr|Mar|May|Jun|Jul|Aug|Sep|Oct|Nov|Dec)"
   ]
  },
  {
   "cell_type": "code",
   "execution_count": 13,
   "id": "960b34ea",
   "metadata": {},
   "outputs": [],
   "source": [
    "sharks_clean[\"Month\"] = sharks_clean[\"Date\"].str.lower().str.extract(r'-(\\w{3})-')"
   ]
  },
  {
   "cell_type": "code",
   "execution_count": 14,
   "id": "f180e000",
   "metadata": {},
   "outputs": [
    {
     "data": {
      "text/html": [
       "<div>\n",
       "<style scoped>\n",
       "    .dataframe tbody tr th:only-of-type {\n",
       "        vertical-align: middle;\n",
       "    }\n",
       "\n",
       "    .dataframe tbody tr th {\n",
       "        vertical-align: top;\n",
       "    }\n",
       "\n",
       "    .dataframe thead th {\n",
       "        text-align: right;\n",
       "    }\n",
       "</style>\n",
       "<table border=\"1\" class=\"dataframe\">\n",
       "  <thead>\n",
       "    <tr style=\"text-align: right;\">\n",
       "      <th></th>\n",
       "      <th>Case Number</th>\n",
       "      <th>Date</th>\n",
       "      <th>Year</th>\n",
       "      <th>Type</th>\n",
       "      <th>Country</th>\n",
       "      <th>Area</th>\n",
       "      <th>Location</th>\n",
       "      <th>Activity</th>\n",
       "      <th>Name</th>\n",
       "      <th>Sex</th>\n",
       "      <th>Age</th>\n",
       "      <th>Injury</th>\n",
       "      <th>Fatal (Y/N)</th>\n",
       "      <th>Time</th>\n",
       "      <th>Species</th>\n",
       "      <th>Investigator or Source</th>\n",
       "      <th>Month</th>\n",
       "    </tr>\n",
       "  </thead>\n",
       "  <tbody>\n",
       "    <tr>\n",
       "      <th>3913</th>\n",
       "      <td>1961.03.18</td>\n",
       "      <td>18-Mar-1961</td>\n",
       "      <td>1961.0</td>\n",
       "      <td>Unprovoked</td>\n",
       "      <td>AUSTRALIA</td>\n",
       "      <td>Victoria</td>\n",
       "      <td>Lady Beach at Warrnambool</td>\n",
       "      <td>Swimming</td>\n",
       "      <td>Kenneth Smith</td>\n",
       "      <td>M</td>\n",
       "      <td>24</td>\n",
       "      <td>Abdomen &amp; arm bitten. Shark, holding him by th...</td>\n",
       "      <td>N</td>\n",
       "      <td>Late afternoon</td>\n",
       "      <td>3 m [10'] shark</td>\n",
       "      <td>Sun Herald (Sydney) 3/19/1961; Sydney Morning ...</td>\n",
       "      <td>mar</td>\n",
       "    </tr>\n",
       "  </tbody>\n",
       "</table>\n",
       "</div>"
      ],
      "text/plain": [
       "     Case Number         Date    Year        Type    Country      Area  \\\n",
       "3913  1961.03.18  18-Mar-1961  1961.0  Unprovoked  AUSTRALIA  Victoria   \n",
       "\n",
       "                       Location  Activity           Name Sex Age  \\\n",
       "3913  Lady Beach at Warrnambool  Swimming  Kenneth Smith   M  24   \n",
       "\n",
       "                                                 Injury Fatal (Y/N)  \\\n",
       "3913  Abdomen & arm bitten. Shark, holding him by th...           N   \n",
       "\n",
       "                Time          Species  \\\n",
       "3913  Late afternoon  3 m [10'] shark   \n",
       "\n",
       "                                 Investigator or Source Month  \n",
       "3913  Sun Herald (Sydney) 3/19/1961; Sydney Morning ...   mar  "
      ]
     },
     "execution_count": 14,
     "metadata": {},
     "output_type": "execute_result"
    }
   ],
   "source": [
    "sharks_clean.sample()"
   ]
  },
  {
   "cell_type": "code",
   "execution_count": 15,
   "id": "bca65ed6",
   "metadata": {},
   "outputs": [
    {
     "data": {
      "text/html": [
       "<div>\n",
       "<style scoped>\n",
       "    .dataframe tbody tr th:only-of-type {\n",
       "        vertical-align: middle;\n",
       "    }\n",
       "\n",
       "    .dataframe tbody tr th {\n",
       "        vertical-align: top;\n",
       "    }\n",
       "\n",
       "    .dataframe thead th {\n",
       "        text-align: right;\n",
       "    }\n",
       "</style>\n",
       "<table border=\"1\" class=\"dataframe\">\n",
       "  <thead>\n",
       "    <tr style=\"text-align: right;\">\n",
       "      <th></th>\n",
       "      <th>Case Number</th>\n",
       "      <th>Date</th>\n",
       "      <th>Year</th>\n",
       "      <th>Type</th>\n",
       "      <th>Country</th>\n",
       "      <th>Area</th>\n",
       "      <th>Location</th>\n",
       "      <th>Activity</th>\n",
       "      <th>Name</th>\n",
       "      <th>Sex</th>\n",
       "      <th>Age</th>\n",
       "      <th>Injury</th>\n",
       "      <th>Fatal (Y/N)</th>\n",
       "      <th>Time</th>\n",
       "      <th>Species</th>\n",
       "      <th>Investigator or Source</th>\n",
       "      <th>Month</th>\n",
       "    </tr>\n",
       "  </thead>\n",
       "  <tbody>\n",
       "    <tr>\n",
       "      <th>6301</th>\n",
       "      <td>ND.0001</td>\n",
       "      <td>1845-1853</td>\n",
       "      <td>0.0</td>\n",
       "      <td>Unprovoked</td>\n",
       "      <td>CEYLON (SRI LANKA)</td>\n",
       "      <td>Eastern Province</td>\n",
       "      <td>Below the English fort, Trincomalee</td>\n",
       "      <td>Swimming</td>\n",
       "      <td>male</td>\n",
       "      <td>M</td>\n",
       "      <td>15</td>\n",
       "      <td>FATAL. \"Shark bit him in half, carrying away t...</td>\n",
       "      <td>Y</td>\n",
       "      <td>NaN</td>\n",
       "      <td>NaN</td>\n",
       "      <td>S.W. Baker</td>\n",
       "      <td>NaN</td>\n",
       "    </tr>\n",
       "  </tbody>\n",
       "</table>\n",
       "</div>"
      ],
      "text/plain": [
       "     Case Number       Date  Year        Type             Country  \\\n",
       "6301     ND.0001  1845-1853   0.0  Unprovoked  CEYLON (SRI LANKA)   \n",
       "\n",
       "                  Area                             Location  Activity  Name  \\\n",
       "6301  Eastern Province  Below the English fort, Trincomalee  Swimming  male   \n",
       "\n",
       "     Sex Age                                             Injury Fatal (Y/N)  \\\n",
       "6301   M  15  FATAL. \"Shark bit him in half, carrying away t...           Y   \n",
       "\n",
       "     Time Species Investigator or Source Month  \n",
       "6301  NaN     NaN             S.W. Baker   NaN  "
      ]
     },
     "execution_count": 15,
     "metadata": {},
     "output_type": "execute_result"
    }
   ],
   "source": [
    "sharks_clean.tail(1)"
   ]
  },
  {
   "cell_type": "code",
   "execution_count": 16,
   "id": "3cf8c39e",
   "metadata": {},
   "outputs": [],
   "source": [
    "list_month = sharks_clean[\"Month\"].tolist()"
   ]
  },
  {
   "cell_type": "code",
   "execution_count": 17,
   "id": "9edd93e4",
   "metadata": {},
   "outputs": [
    {
     "data": {
      "text/plain": [
       "6302"
      ]
     },
     "execution_count": 17,
     "metadata": {},
     "output_type": "execute_result"
    }
   ],
   "source": [
    "len(list_month)"
   ]
  },
  {
   "cell_type": "code",
   "execution_count": 18,
   "id": "4ce50640",
   "metadata": {},
   "outputs": [
    {
     "data": {
      "text/plain": [
       "910"
      ]
     },
     "execution_count": 18,
     "metadata": {},
     "output_type": "execute_result"
    }
   ],
   "source": [
    "sharks_clean[\"Month\"].isna().sum() # 910 out of 6302, not bad - let's remove them"
   ]
  },
  {
   "cell_type": "code",
   "execution_count": 19,
   "id": "30059a94",
   "metadata": {},
   "outputs": [],
   "source": [
    "sharks_clean = sharks_clean[sharks_clean['Month'].notna()]"
   ]
  },
  {
   "cell_type": "code",
   "execution_count": 20,
   "id": "c36f0982",
   "metadata": {},
   "outputs": [
    {
     "data": {
      "text/plain": [
       "(5392, 17)"
      ]
     },
     "execution_count": 20,
     "metadata": {},
     "output_type": "execute_result"
    }
   ],
   "source": [
    "sharks_clean.shape"
   ]
  },
  {
   "cell_type": "code",
   "execution_count": 22,
   "id": "87d4f019",
   "metadata": {},
   "outputs": [
    {
     "data": {
      "text/plain": [
       "dict_keys(['apr', 'aug', 'dec', 'feb', 'jan', 'jul', 'jun', 'mar', 'may', 'nov', 'oct', 'sep'])"
      ]
     },
     "execution_count": 22,
     "metadata": {},
     "output_type": "execute_result"
    }
   ],
   "source": [
    "sharks_clean.groupby(\"Month\").indices.keys() # Month: x-axis but would need to recode to order them"
   ]
  },
  {
   "cell_type": "markdown",
   "id": "d2364d76",
   "metadata": {},
   "source": [
    "We need the Month to be codified (1-12) so that the months are then properly ordered: create new column where if jan->1, if feb->2..."
   ]
  },
  {
   "cell_type": "code",
   "execution_count": 30,
   "id": "1763dfaf",
   "metadata": {},
   "outputs": [],
   "source": [
    "# Creating a dictionary to store the old and new names for months:\n",
    "\n",
    "dic_months = {\"jan\" : 1,\n",
    "              \"feb\" : 2,\n",
    "              \"mar\" : 3,\n",
    "              \"apr\" : 4,\n",
    "              \"may\" : 5,\n",
    "              \"jun\" : 6,\n",
    "              \"jul\" : 7,\n",
    "              \"aug\" : 8,\n",
    "              \"sep\" : 9,\n",
    "              \"oct\" : 10,\n",
    "              \"nov\" : 11,\n",
    "              \"dec\" : 12              \n",
    "}\n",
    "\n",
    "# Replacing the name by value\n",
    "\n",
    "sharks_clean.replace({\"Month\" : dic_months}, inplace = True)"
   ]
  },
  {
   "cell_type": "code",
   "execution_count": 33,
   "id": "bbc8b68e",
   "metadata": {},
   "outputs": [
    {
     "data": {
      "text/html": [
       "<div>\n",
       "<style scoped>\n",
       "    .dataframe tbody tr th:only-of-type {\n",
       "        vertical-align: middle;\n",
       "    }\n",
       "\n",
       "    .dataframe tbody tr th {\n",
       "        vertical-align: top;\n",
       "    }\n",
       "\n",
       "    .dataframe thead th {\n",
       "        text-align: right;\n",
       "    }\n",
       "</style>\n",
       "<table border=\"1\" class=\"dataframe\">\n",
       "  <thead>\n",
       "    <tr style=\"text-align: right;\">\n",
       "      <th></th>\n",
       "      <th>Case Number</th>\n",
       "      <th>Date</th>\n",
       "      <th>Year</th>\n",
       "      <th>Type</th>\n",
       "      <th>Country</th>\n",
       "      <th>Area</th>\n",
       "      <th>Location</th>\n",
       "      <th>Activity</th>\n",
       "      <th>Name</th>\n",
       "      <th>Sex</th>\n",
       "      <th>Age</th>\n",
       "      <th>Injury</th>\n",
       "      <th>Fatal (Y/N)</th>\n",
       "      <th>Time</th>\n",
       "      <th>Species</th>\n",
       "      <th>Investigator or Source</th>\n",
       "      <th>Month</th>\n",
       "    </tr>\n",
       "  </thead>\n",
       "  <tbody>\n",
       "    <tr>\n",
       "      <th>61</th>\n",
       "      <td>2017.11.18</td>\n",
       "      <td>18-Nov-2017</td>\n",
       "      <td>2017.0</td>\n",
       "      <td>Unprovoked</td>\n",
       "      <td>USA</td>\n",
       "      <td>Florida</td>\n",
       "      <td>Floridana Beach, Brevard County</td>\n",
       "      <td>Surfing</td>\n",
       "      <td>Kaia Anderson</td>\n",
       "      <td>F</td>\n",
       "      <td>14</td>\n",
       "      <td>Heel bitten</td>\n",
       "      <td>N</td>\n",
       "      <td>Late afternoon</td>\n",
       "      <td>NaN</td>\n",
       "      <td>Florida Today, 11/21/2017</td>\n",
       "      <td>11</td>\n",
       "    </tr>\n",
       "  </tbody>\n",
       "</table>\n",
       "</div>"
      ],
      "text/plain": [
       "   Case Number         Date    Year        Type Country     Area  \\\n",
       "61  2017.11.18  18-Nov-2017  2017.0  Unprovoked     USA  Florida   \n",
       "\n",
       "                           Location Activity           Name Sex Age  \\\n",
       "61  Floridana Beach, Brevard County  Surfing  Kaia Anderson   F  14   \n",
       "\n",
       "         Injury Fatal (Y/N)            Time Species  \\\n",
       "61  Heel bitten           N  Late afternoon     NaN   \n",
       "\n",
       "       Investigator or Source  Month  \n",
       "61  Florida Today, 11/21/2017     11  "
      ]
     },
     "execution_count": 33,
     "metadata": {},
     "output_type": "execute_result"
    }
   ],
   "source": [
    "sharks_clean.sample() # It worked"
   ]
  },
  {
   "cell_type": "code",
   "execution_count": 51,
   "id": "289e7ed7",
   "metadata": {},
   "outputs": [
    {
     "data": {
      "text/plain": [
       "dict_keys([1, 2, 3, 4, 5, 6, 7, 8, 9, 10, 11, 12])"
      ]
     },
     "execution_count": 51,
     "metadata": {},
     "output_type": "execute_result"
    }
   ],
   "source": [
    "sharks_clean.groupby(\"Month\").indices.keys() # Now they will be automatically ordered in the graph"
   ]
  },
  {
   "cell_type": "code",
   "execution_count": 34,
   "id": "73d1df33",
   "metadata": {},
   "outputs": [
    {
     "data": {
      "text/plain": [
       "Month\n",
       "1     494\n",
       "2     356\n",
       "3     381\n",
       "4     420\n",
       "5     358\n",
       "6     475\n",
       "7     621\n",
       "8     556\n",
       "9     521\n",
       "10    417\n",
       "11    378\n",
       "12    415\n",
       "dtype: int64"
      ]
     },
     "execution_count": 34,
     "metadata": {},
     "output_type": "execute_result"
    }
   ],
   "source": [
    "sharks_clean.groupby(\"Month\").size() # Number of reports each month: y-axis"
   ]
  },
  {
   "cell_type": "code",
   "execution_count": 36,
   "id": "359e4a5f",
   "metadata": {},
   "outputs": [],
   "source": [
    "sharks_clean[\"Country\"] = sharks_clean[\"Country\"].str.strip().str.upper() # Just in case"
   ]
  },
  {
   "cell_type": "code",
   "execution_count": 37,
   "id": "0bd16f37",
   "metadata": {},
   "outputs": [
    {
     "data": {
      "text/plain": [
       "USA                         2051\n",
       "AUSTRALIA                   1227\n",
       "SOUTH AFRICA                 523\n",
       "NEW ZEALAND                  111\n",
       "BRAZIL                       106\n",
       "                            ... \n",
       "ARGENTINA                      1\n",
       "GUATEMALA                      1\n",
       "NETHERLANDS ANTILLES           1\n",
       "MALDIVES                       1\n",
       "BETWEEN PORTUGAL & INDIA       1\n",
       "Name: Country, Length: 168, dtype: int64"
      ]
     },
     "execution_count": 37,
     "metadata": {},
     "output_type": "execute_result"
    }
   ],
   "source": [
    "sharks_clean[\"Country\"].value_counts() # Looks messy let's see if we can group something here"
   ]
  },
  {
   "cell_type": "code",
   "execution_count": 38,
   "id": "561d83fa",
   "metadata": {},
   "outputs": [],
   "source": [
    "list_country = sharks_clean[\"Country\"].tolist() # If I take top 3 looks good\n",
    "#print(list_country)"
   ]
  },
  {
   "cell_type": "markdown",
   "id": "bc573820",
   "metadata": {},
   "source": [
    "Let's plot the counts of reports by year and country"
   ]
  },
  {
   "cell_type": "code",
   "execution_count": 39,
   "id": "4461a742",
   "metadata": {},
   "outputs": [],
   "source": [
    "# Defining filtering conditions for top 3 countries:\n",
    "\n",
    "usa = (sharks_clean[\"Country\"] == \"USA\")\n",
    "australia = (sharks_clean[\"Country\"] == \"AUSTRALIA\")\n",
    "south_africa = (sharks_clean[\"Country\"] == \"SOUTH AFRICA\")"
   ]
  },
  {
   "cell_type": "code",
   "execution_count": 40,
   "id": "4d2095d7",
   "metadata": {
    "scrolled": true
   },
   "outputs": [
    {
     "data": {
      "text/html": [
       "<div>\n",
       "<style scoped>\n",
       "    .dataframe tbody tr th:only-of-type {\n",
       "        vertical-align: middle;\n",
       "    }\n",
       "\n",
       "    .dataframe tbody tr th {\n",
       "        vertical-align: top;\n",
       "    }\n",
       "\n",
       "    .dataframe thead th {\n",
       "        text-align: right;\n",
       "    }\n",
       "</style>\n",
       "<table border=\"1\" class=\"dataframe\">\n",
       "  <thead>\n",
       "    <tr style=\"text-align: right;\">\n",
       "      <th></th>\n",
       "      <th>Case Number</th>\n",
       "      <th>Date</th>\n",
       "      <th>Year</th>\n",
       "      <th>Type</th>\n",
       "      <th>Country</th>\n",
       "      <th>Area</th>\n",
       "      <th>Location</th>\n",
       "      <th>Activity</th>\n",
       "      <th>Name</th>\n",
       "      <th>Sex</th>\n",
       "      <th>Age</th>\n",
       "      <th>Injury</th>\n",
       "      <th>Fatal (Y/N)</th>\n",
       "      <th>Time</th>\n",
       "      <th>Species</th>\n",
       "      <th>Investigator or Source</th>\n",
       "      <th>Month</th>\n",
       "    </tr>\n",
       "  </thead>\n",
       "  <tbody>\n",
       "    <tr>\n",
       "      <th>4171</th>\n",
       "      <td>1958.01.09</td>\n",
       "      <td>09-Jan-1958</td>\n",
       "      <td>1958.0</td>\n",
       "      <td>Unprovoked</td>\n",
       "      <td>SOUTH AFRICA</td>\n",
       "      <td>KwaZulu-Natal</td>\n",
       "      <td>Scotburgh</td>\n",
       "      <td>Swimming</td>\n",
       "      <td>Derek Garth Prinsloo</td>\n",
       "      <td>M</td>\n",
       "      <td>NaN</td>\n",
       "      <td>FATAL</td>\n",
       "      <td>Y</td>\n",
       "      <td>07h30</td>\n",
       "      <td>White shark</td>\n",
       "      <td>M. Levine, GSAF</td>\n",
       "      <td>1</td>\n",
       "    </tr>\n",
       "  </tbody>\n",
       "</table>\n",
       "</div>"
      ],
      "text/plain": [
       "     Case Number         Date    Year        Type       Country  \\\n",
       "4171  1958.01.09  09-Jan-1958  1958.0  Unprovoked  SOUTH AFRICA   \n",
       "\n",
       "               Area   Location  Activity                  Name Sex  Age  \\\n",
       "4171  KwaZulu-Natal  Scotburgh  Swimming  Derek Garth Prinsloo   M  NaN   \n",
       "\n",
       "     Injury Fatal (Y/N)   Time      Species Investigator or Source  Month  \n",
       "4171  FATAL           Y  07h30  White shark        M. Levine, GSAF      1  "
      ]
     },
     "execution_count": 40,
     "metadata": {},
     "output_type": "execute_result"
    }
   ],
   "source": [
    "# Checking that filters work:\n",
    "\n",
    "sharks_clean[south_africa].sample() # ok works"
   ]
  },
  {
   "cell_type": "markdown",
   "id": "4f6c4266",
   "metadata": {},
   "source": [
    "### Visualization"
   ]
  },
  {
   "cell_type": "code",
   "execution_count": 113,
   "id": "8f6de0a5",
   "metadata": {},
   "outputs": [
    {
     "name": "stderr",
     "output_type": "stream",
     "text": [
      "C:\\Users\\mplan\\AppData\\Local\\Temp\\ipykernel_18864\\868283851.py:9: UserWarning: Boolean Series key will be reindexed to match DataFrame index.\n",
      "  y1 = sharks_clean[usa].groupby(\"Month\").size()\n",
      "C:\\Users\\mplan\\AppData\\Local\\Temp\\ipykernel_18864\\868283851.py:10: UserWarning: Boolean Series key will be reindexed to match DataFrame index.\n",
      "  y2 = sharks_clean[australia].groupby(\"Month\").size()\n",
      "C:\\Users\\mplan\\AppData\\Local\\Temp\\ipykernel_18864\\868283851.py:11: UserWarning: Boolean Series key will be reindexed to match DataFrame index.\n",
      "  y3 = sharks_clean[south_africa].groupby(\"Month\").size()\n"
     ]
    },
    {
     "data": {
      "image/png": "[encoded data removed]",
      "text/plain": [
       "<Figure size 720x576 with 3 Axes>"
      ]
     },
     "metadata": {
      "needs_background": "light"
     },
     "output_type": "display_data"
    }
   ],
   "source": [
    "fig_month_country, ax = plt.subplots(nrows = 3, ncols = 1, figsize=(10,8)) # preparing the environment: graphs to be filled\n",
    "\n",
    "fig_month_country.suptitle('Shark Season in TOP 3 countries')\n",
    "\n",
    "# x axis:\n",
    "x = sharks_clean.groupby(\"Month\").indices.keys()\n",
    "  \n",
    "# y axes: y1 (top graph - USA), y2 (middle graph - AUSTRALIA), y3 (bottom graph - SOUTH AFRICA):\n",
    "y1 = sharks_clean[usa].groupby(\"Month\").size()\n",
    "y2 = sharks_clean[australia].groupby(\"Month\").size()\n",
    "y3 = sharks_clean[south_africa].groupby(\"Month\").size()\n",
    "\n",
    "# first graph, USA\n",
    "plt.sca(ax[0])\n",
    "plt.plot(x, y1, 'b')\n",
    "plt.ylabel(ylabel=\"Nº reports\")\n",
    "plt.xticks(ticks = range(1,13), labels=[\"\",\"\",\"\",\"\",\"\",\"\",\"\",\"\",\"\",\"\",\"\",\"\"])\n",
    "plt.title('USA')\n",
    "\n",
    "# second graph, AUSTRALIA  \n",
    "plt.sca(ax[1])\n",
    "plt.plot(x, y2, 'r')\n",
    "plt.ylabel(ylabel=\"Nº reports\")\n",
    "plt.xticks(ticks = range(1,13), labels=[\"\",\"\",\"\",\"\",\"\",\"\",\"\",\"\",\"\",\"\",\"\",\"\"])\n",
    "plt.title('Australia')\n",
    "\n",
    "# third graph, SOUTH AFRICA  \n",
    "plt.sca(ax[2])\n",
    "plt.plot(x, y3, 'g')\n",
    "plt.ylabel(ylabel=\"Nº reports\")\n",
    "plt.xticks(ticks = range(1,13), labels=[\"Jan\",\"Feb\",\"Mar\",\"Apr\",\"May\",\"Jun\",\"Jul\",\"Aug\",\"Sep\",\"Oct\",\"Nov\",\"Dec\"])\n",
    "plt.title('South Africa')\n",
    "\n",
    "plt.show() "
   ]
  },
  {
   "cell_type": "markdown",
   "id": "98f3f4f5",
   "metadata": {},
   "source": [
    "Conclusions: \n",
    "- Shark season is Jun-Oct in USA\n",
    "- Shark season is Dec-Feb in Australia and South Africa\n",
    "  \n",
    "We could use this approach to check Shark season in different countries/regions (for instance: East vs West-coast of USA).  \n",
    "\n",
    "Now, Shark Season might look different in the past, since global warming is affecting their habitats.\n",
    "Let's see if it changes by year.  \n",
    "Start of industrialization: year 1760 - but we migt not have many reports on those years."
   ]
  },
  {
   "cell_type": "markdown",
   "id": "bb69cfac",
   "metadata": {},
   "source": [
    "## 'Shark season' by year - Climate change"
   ]
  },
  {
   "cell_type": "code",
   "execution_count": 52,
   "id": "795bae4c",
   "metadata": {},
   "outputs": [
    {
     "data": {
      "text/plain": [
       "array([2018., 2017.,   nan, 2016., 2015., 2014., 2013., 2012., 2011.,\n",
       "       2010., 2009., 2008., 2007., 2006., 2005., 2004., 2003., 2002.,\n",
       "       2001., 2000., 1999., 1998., 1997., 1996., 1995., 1984., 1994.,\n",
       "       1993., 1992., 1991., 1990., 1989., 1969., 1988., 1987., 1986.,\n",
       "       1985., 1983., 1982., 1981., 1980., 1979., 1978., 1977., 1976.,\n",
       "       1975., 1974., 1973., 1972., 1971., 1970., 1968., 1967., 1966.,\n",
       "       1965., 1964., 1963., 1962., 1961., 1960., 1959., 1958., 1957.,\n",
       "       1956., 1955., 1954., 1953., 1952., 1951., 1950., 1949., 1948.,\n",
       "       1848., 1947., 1946., 1945., 1944., 1943., 1942., 1941., 1940.,\n",
       "       1939., 1938., 1937., 1936., 1935., 1934., 1933., 1932., 1931.,\n",
       "       1930., 1929., 1928., 1927., 1926., 1925., 1924., 1923., 1922.,\n",
       "       1921., 1920., 1919., 1918., 1917., 1916., 1915., 1914., 1913.,\n",
       "       1912., 1911., 1910., 1909., 1908., 1907., 1906., 1905., 1904.,\n",
       "       1903., 1902., 1901., 1900., 1899., 1898., 1897., 1896., 1895.,\n",
       "       1894., 1893., 1892., 1891., 1890., 1889., 1888., 1887., 1886.,\n",
       "       1885., 1884., 1883., 1882., 1881., 1880., 1879., 1878., 1877.,\n",
       "       1876., 1875., 1874., 1873., 1872., 1871., 1870., 1869., 1868.,\n",
       "       1867., 1866., 1865., 1864., 1863., 1862., 1861., 1860., 1859.,\n",
       "       1858., 1857., 1856., 1855., 1853., 1852., 1851., 1850., 1849.,\n",
       "       1847., 1846., 1845., 1844., 1842., 1841., 1840., 1839., 1837.,\n",
       "       1835., 1834., 1832., 1831., 1830., 1829., 1828., 1826., 1823.,\n",
       "       1822., 1819., 1818., 1817., 1811., 1810., 1808., 1807., 1804.,\n",
       "       1801., 1792., 1788., 1787., 1786., 1785., 1784., 1783., 1780.,\n",
       "       1771., 1753., 1751., 1742., 1738., 1703., 1580.,    0.])"
      ]
     },
     "execution_count": 52,
     "metadata": {},
     "output_type": "execute_result"
    }
   ],
   "source": [
    "sharks_clean[\"Year\"].unique() # We might need to focus on USA & Australia since they have the most reports by month"
   ]
  },
  {
   "cell_type": "code",
   "execution_count": 53,
   "id": "cba97a1f",
   "metadata": {},
   "outputs": [
    {
     "data": {
      "text/plain": [
       "2015.0    141\n",
       "2017.0    134\n",
       "2016.0    129\n",
       "2011.0    127\n",
       "2014.0    122\n",
       "         ... \n",
       "1841.0      1\n",
       "1850.0      1\n",
       "1851.0      1\n",
       "1857.0      1\n",
       "1823.0      1\n",
       "Name: Year, Length: 214, dtype: int64"
      ]
     },
     "execution_count": 53,
     "metadata": {},
     "output_type": "execute_result"
    }
   ],
   "source": [
    "sharks_clean[\"Year\"].value_counts()"
   ]
  },
  {
   "cell_type": "markdown",
   "id": "883416e2",
   "metadata": {},
   "source": [
    "Let's clean the Year column, just remove the zeros and delete those for which I have no year.  \n",
    "Also I could bin them in spans of 20 years?"
   ]
  },
  {
   "cell_type": "code",
   "execution_count": 54,
   "id": "5f4bb9cc",
   "metadata": {},
   "outputs": [],
   "source": [
    "# Convert to int and fill NaN with 0 \n",
    "\n",
    "try:\n",
    "    sharks_clean[\"Year\"] = sharks_clean[\"Year\"].astype(int)\n",
    "except Exception:\n",
    "    sharks_clean['Year'] = sharks_clean['Year'].fillna(0).astype(int)"
   ]
  },
  {
   "cell_type": "code",
   "execution_count": 55,
   "id": "fd1e5117",
   "metadata": {},
   "outputs": [
    {
     "name": "stdout",
     "output_type": "stream",
     "text": [
      "Case Number               object\n",
      "Date                      object\n",
      "Year                       int32\n",
      "Type                      object\n",
      "Country                   object\n",
      "Area                      object\n",
      "Location                  object\n",
      "Activity                  object\n",
      "Name                      object\n",
      "Sex                       object\n",
      "Age                       object\n",
      "Injury                    object\n",
      "Fatal (Y/N)               object\n",
      "Time                      object\n",
      "Species                   object\n",
      "Investigator or Source    object\n",
      "Month                      int64\n",
      "dtype: object\n"
     ]
    }
   ],
   "source": [
    "print(sharks_clean.dtypes) # Converted to int"
   ]
  },
  {
   "cell_type": "code",
   "execution_count": 56,
   "id": "58db5197",
   "metadata": {},
   "outputs": [
    {
     "data": {
      "text/plain": [
       "array([2018, 2017,    0, 2016, 2015, 2014, 2013, 2012, 2011, 2010, 2009,\n",
       "       2008, 2007, 2006, 2005, 2004, 2003, 2002, 2001, 2000, 1999, 1998,\n",
       "       1997, 1996, 1995, 1984, 1994, 1993, 1992, 1991, 1990, 1989, 1969,\n",
       "       1988, 1987, 1986, 1985, 1983, 1982, 1981, 1980, 1979, 1978, 1977,\n",
       "       1976, 1975, 1974, 1973, 1972, 1971, 1970, 1968, 1967, 1966, 1965,\n",
       "       1964, 1963, 1962, 1961, 1960, 1959, 1958, 1957, 1956, 1955, 1954,\n",
       "       1953, 1952, 1951, 1950, 1949, 1948, 1848, 1947, 1946, 1945, 1944,\n",
       "       1943, 1942, 1941, 1940, 1939, 1938, 1937, 1936, 1935, 1934, 1933,\n",
       "       1932, 1931, 1930, 1929, 1928, 1927, 1926, 1925, 1924, 1923, 1922,\n",
       "       1921, 1920, 1919, 1918, 1917, 1916, 1915, 1914, 1913, 1912, 1911,\n",
       "       1910, 1909, 1908, 1907, 1906, 1905, 1904, 1903, 1902, 1901, 1900,\n",
       "       1899, 1898, 1897, 1896, 1895, 1894, 1893, 1892, 1891, 1890, 1889,\n",
       "       1888, 1887, 1886, 1885, 1884, 1883, 1882, 1881, 1880, 1879, 1878,\n",
       "       1877, 1876, 1875, 1874, 1873, 1872, 1871, 1870, 1869, 1868, 1867,\n",
       "       1866, 1865, 1864, 1863, 1862, 1861, 1860, 1859, 1858, 1857, 1856,\n",
       "       1855, 1853, 1852, 1851, 1850, 1849, 1847, 1846, 1845, 1844, 1842,\n",
       "       1841, 1840, 1839, 1837, 1835, 1834, 1832, 1831, 1830, 1829, 1828,\n",
       "       1826, 1823, 1822, 1819, 1818, 1817, 1811, 1810, 1808, 1807, 1804,\n",
       "       1801, 1792, 1788, 1787, 1786, 1785, 1784, 1783, 1780, 1771, 1753,\n",
       "       1751, 1742, 1738, 1703, 1580])"
      ]
     },
     "execution_count": 56,
     "metadata": {},
     "output_type": "execute_result"
    }
   ],
   "source": [
    "sharks_clean[\"Year\"].unique() # Filled NaN with 0"
   ]
  },
  {
   "cell_type": "code",
   "execution_count": 57,
   "id": "c452cab9",
   "metadata": {},
   "outputs": [],
   "source": [
    "# Let's remove the rows in which year = 0\n",
    "\n",
    "year_zero = sharks_clean['Year'] == 0\n",
    "sharks_clean = sharks_clean.drop(sharks_clean[year_zero].index)"
   ]
  },
  {
   "cell_type": "code",
   "execution_count": 59,
   "id": "cf51499f",
   "metadata": {},
   "outputs": [
    {
     "data": {
      "text/html": [
       "<div>\n",
       "<style scoped>\n",
       "    .dataframe tbody tr th:only-of-type {\n",
       "        vertical-align: middle;\n",
       "    }\n",
       "\n",
       "    .dataframe tbody tr th {\n",
       "        vertical-align: top;\n",
       "    }\n",
       "\n",
       "    .dataframe thead th {\n",
       "        text-align: right;\n",
       "    }\n",
       "</style>\n",
       "<table border=\"1\" class=\"dataframe\">\n",
       "  <thead>\n",
       "    <tr style=\"text-align: right;\">\n",
       "      <th></th>\n",
       "      <th>Case Number</th>\n",
       "      <th>Date</th>\n",
       "      <th>Year</th>\n",
       "      <th>Type</th>\n",
       "      <th>Country</th>\n",
       "      <th>Area</th>\n",
       "      <th>Location</th>\n",
       "      <th>Activity</th>\n",
       "      <th>Name</th>\n",
       "      <th>Sex</th>\n",
       "      <th>Age</th>\n",
       "      <th>Injury</th>\n",
       "      <th>Fatal (Y/N)</th>\n",
       "      <th>Time</th>\n",
       "      <th>Species</th>\n",
       "      <th>Investigator or Source</th>\n",
       "      <th>Month</th>\n",
       "    </tr>\n",
       "  </thead>\n",
       "  <tbody>\n",
       "    <tr>\n",
       "      <th>6156</th>\n",
       "      <td>1738.04.06.R</td>\n",
       "      <td>Reported 06-Apr-1738</td>\n",
       "      <td>1738</td>\n",
       "      <td>Unprovoked</td>\n",
       "      <td>ITALY</td>\n",
       "      <td>Sicily</td>\n",
       "      <td>Strait of Messina</td>\n",
       "      <td>Swimming</td>\n",
       "      <td>male</td>\n",
       "      <td>M</td>\n",
       "      <td>NaN</td>\n",
       "      <td>FATAL</td>\n",
       "      <td>Y</td>\n",
       "      <td>NaN</td>\n",
       "      <td>NaN</td>\n",
       "      <td>C. Moore, GSAF</td>\n",
       "      <td>4</td>\n",
       "    </tr>\n",
       "    <tr>\n",
       "      <th>6160</th>\n",
       "      <td>1703.03.26</td>\n",
       "      <td>26-Mar-1703</td>\n",
       "      <td>1703</td>\n",
       "      <td>Unprovoked</td>\n",
       "      <td>BARBADOS</td>\n",
       "      <td>Southwest coast</td>\n",
       "      <td>Carlisle Bay</td>\n",
       "      <td>Swimming</td>\n",
       "      <td>Samuel Jennings, a deserter from the British f...</td>\n",
       "      <td>M</td>\n",
       "      <td>19</td>\n",
       "      <td>Hand and foot severely bitten, surgically ampu...</td>\n",
       "      <td>N</td>\n",
       "      <td>Night</td>\n",
       "      <td>NaN</td>\n",
       "      <td>W.R.Cutter, Vol.1, p.252</td>\n",
       "      <td>3</td>\n",
       "    </tr>\n",
       "    <tr>\n",
       "      <th>6170</th>\n",
       "      <td>1580.01.10.R</td>\n",
       "      <td>Letter dated 10-Jan-1580</td>\n",
       "      <td>1580</td>\n",
       "      <td>Unprovoked</td>\n",
       "      <td>BETWEEN PORTUGAL &amp; INDIA</td>\n",
       "      <td>NaN</td>\n",
       "      <td>NaN</td>\n",
       "      <td>Man fell overboard from ship. Those on board t...</td>\n",
       "      <td>male</td>\n",
       "      <td>M</td>\n",
       "      <td>NaN</td>\n",
       "      <td>FATAL. \"Shark tore him to pieces.</td>\n",
       "      <td>Y</td>\n",
       "      <td>NaN</td>\n",
       "      <td>NaN</td>\n",
       "      <td>G.P. Whitley, p. 10</td>\n",
       "      <td>1</td>\n",
       "    </tr>\n",
       "  </tbody>\n",
       "</table>\n",
       "</div>"
      ],
      "text/plain": [
       "       Case Number                      Date  Year        Type  \\\n",
       "6156  1738.04.06.R      Reported 06-Apr-1738  1738  Unprovoked   \n",
       "6160    1703.03.26               26-Mar-1703  1703  Unprovoked   \n",
       "6170  1580.01.10.R  Letter dated 10-Jan-1580  1580  Unprovoked   \n",
       "\n",
       "                       Country             Area           Location  \\\n",
       "6156                     ITALY           Sicily  Strait of Messina   \n",
       "6160                  BARBADOS  Southwest coast       Carlisle Bay   \n",
       "6170  BETWEEN PORTUGAL & INDIA              NaN                NaN   \n",
       "\n",
       "                                               Activity  \\\n",
       "6156                                           Swimming   \n",
       "6160                                           Swimming   \n",
       "6170  Man fell overboard from ship. Those on board t...   \n",
       "\n",
       "                                                   Name Sex  Age  \\\n",
       "6156                                               male   M  NaN   \n",
       "6160  Samuel Jennings, a deserter from the British f...   M   19   \n",
       "6170                                               male   M  NaN   \n",
       "\n",
       "                                                 Injury Fatal (Y/N)   Time  \\\n",
       "6156                                              FATAL           Y    NaN   \n",
       "6160  Hand and foot severely bitten, surgically ampu...           N  Night   \n",
       "6170                  FATAL. \"Shark tore him to pieces.           Y    NaN   \n",
       "\n",
       "     Species    Investigator or Source  Month  \n",
       "6156     NaN            C. Moore, GSAF      4  \n",
       "6160     NaN  W.R.Cutter, Vol.1, p.252      3  \n",
       "6170     NaN       G.P. Whitley, p. 10      1  "
      ]
     },
     "execution_count": 59,
     "metadata": {},
     "output_type": "execute_result"
    }
   ],
   "source": [
    "sharks_clean.tail(3)"
   ]
  },
  {
   "cell_type": "code",
   "execution_count": 60,
   "id": "db1a9152",
   "metadata": {},
   "outputs": [
    {
     "data": {
      "text/plain": [
       "(5383, 17)"
      ]
     },
     "execution_count": 60,
     "metadata": {},
     "output_type": "execute_result"
    }
   ],
   "source": [
    "sharks_clean.shape # Removed"
   ]
  },
  {
   "cell_type": "code",
   "execution_count": 102,
   "id": "20f28da4",
   "metadata": {},
   "outputs": [
    {
     "data": {
      "text/plain": [
       "[Text(0.5, 1.0, 'Reports around the world by year')]"
      ]
     },
     "execution_count": 102,
     "metadata": {},
     "output_type": "execute_result"
    },
    {
     "data": {
      "image/png": "[encoded data removed]",
      "text/plain": [
       "<Figure size 432x288 with 1 Axes>"
      ]
     },
     "metadata": {
      "needs_background": "light"
     },
     "output_type": "display_data"
    }
   ],
   "source": [
    "# Let's check the reports by year in the world\n",
    "\n",
    "sns.histplot(x = sharks_clean[\"Year\"], bins = 30).set(title='Reports around the world by year')"
   ]
  },
  {
   "cell_type": "code",
   "execution_count": 63,
   "id": "53b6bfec",
   "metadata": {},
   "outputs": [
    {
     "data": {
      "text/plain": [
       "Index(['Case Number', 'Date', 'Year', 'Type', 'Country', 'Area', 'Location',\n",
       "       'Activity', 'Name', 'Sex', 'Age', 'Injury', 'Fatal (Y/N)', 'Time',\n",
       "       'Species', 'Investigator or Source', 'Month'],\n",
       "      dtype='object')"
      ]
     },
     "execution_count": 63,
     "metadata": {},
     "output_type": "execute_result"
    }
   ],
   "source": [
    "sharks_clean.columns"
   ]
  },
  {
   "cell_type": "code",
   "execution_count": 64,
   "id": "b2017f81",
   "metadata": {},
   "outputs": [],
   "source": [
    "# Let's create a new dataframe and will just keep those rows were Country == USA\n",
    "\n",
    "country_USA = sharks_clean['Country'] != \"USA\"\n",
    "sharks_clean_USA = sharks_clean.drop(sharks_clean[country_USA].index)"
   ]
  },
  {
   "cell_type": "code",
   "execution_count": 65,
   "id": "89d10b2f",
   "metadata": {},
   "outputs": [
    {
     "data": {
      "text/plain": [
       "(2049, 17)"
      ]
     },
     "execution_count": 65,
     "metadata": {},
     "output_type": "execute_result"
    }
   ],
   "source": [
    "sharks_clean_USA.shape"
   ]
  },
  {
   "cell_type": "code",
   "execution_count": 84,
   "id": "ed1c929a",
   "metadata": {},
   "outputs": [
    {
     "data": {
      "text/html": [
       "<div>\n",
       "<style scoped>\n",
       "    .dataframe tbody tr th:only-of-type {\n",
       "        vertical-align: middle;\n",
       "    }\n",
       "\n",
       "    .dataframe tbody tr th {\n",
       "        vertical-align: top;\n",
       "    }\n",
       "\n",
       "    .dataframe thead th {\n",
       "        text-align: right;\n",
       "    }\n",
       "</style>\n",
       "<table border=\"1\" class=\"dataframe\">\n",
       "  <thead>\n",
       "    <tr style=\"text-align: right;\">\n",
       "      <th></th>\n",
       "      <th>Case Number</th>\n",
       "      <th>Date</th>\n",
       "      <th>Year</th>\n",
       "      <th>Type</th>\n",
       "      <th>Country</th>\n",
       "      <th>Area</th>\n",
       "      <th>Location</th>\n",
       "      <th>Activity</th>\n",
       "      <th>Name</th>\n",
       "      <th>Sex</th>\n",
       "      <th>Age</th>\n",
       "      <th>Injury</th>\n",
       "      <th>Fatal (Y/N)</th>\n",
       "      <th>Time</th>\n",
       "      <th>Species</th>\n",
       "      <th>Investigator or Source</th>\n",
       "      <th>Month</th>\n",
       "    </tr>\n",
       "  </thead>\n",
       "  <tbody>\n",
       "    <tr>\n",
       "      <th>208</th>\n",
       "      <td>2016.10.10</td>\n",
       "      <td>10-Oct-2016</td>\n",
       "      <td>2016</td>\n",
       "      <td>Unprovoked</td>\n",
       "      <td>USA</td>\n",
       "      <td>Oregon</td>\n",
       "      <td>Indian Beach, Ecola State Park, Clatsop County</td>\n",
       "      <td>Surfing</td>\n",
       "      <td>Joseph Tanner</td>\n",
       "      <td>M</td>\n",
       "      <td>29</td>\n",
       "      <td>Wounds to upper thigh and lower leg</td>\n",
       "      <td>N</td>\n",
       "      <td>16h00</td>\n",
       "      <td>NaN</td>\n",
       "      <td>UP Beacon, 10/12/2016</td>\n",
       "      <td>10</td>\n",
       "    </tr>\n",
       "  </tbody>\n",
       "</table>\n",
       "</div>"
      ],
      "text/plain": [
       "    Case Number         Date  Year        Type Country    Area  \\\n",
       "208  2016.10.10  10-Oct-2016  2016  Unprovoked     USA  Oregon   \n",
       "\n",
       "                                           Location Activity           Name  \\\n",
       "208  Indian Beach, Ecola State Park, Clatsop County  Surfing  Joseph Tanner   \n",
       "\n",
       "    Sex Age                               Injury Fatal (Y/N)   Time Species  \\\n",
       "208   M  29  Wounds to upper thigh and lower leg           N  16h00     NaN   \n",
       "\n",
       "    Investigator or Source  Month  \n",
       "208  UP Beacon, 10/12/2016     10  "
      ]
     },
     "execution_count": 84,
     "metadata": {},
     "output_type": "execute_result"
    }
   ],
   "source": [
    "sharks_clean_USA.sample()"
   ]
  },
  {
   "cell_type": "code",
   "execution_count": 86,
   "id": "630d7ad2",
   "metadata": {},
   "outputs": [],
   "source": [
    "# Check visually how many reports by year\n",
    "list_year_USA = sharks_clean_USA[\"Year\"].tolist()\n",
    "#print(list_year_USA)"
   ]
  },
  {
   "cell_type": "code",
   "execution_count": 97,
   "id": "09379bb6",
   "metadata": {},
   "outputs": [
    {
     "name": "stdout",
     "output_type": "stream",
     "text": [
      "Cases 2000-2018: 997 . Cases 1980-2000: 450 . Cases 1960-1980: 235 . Cases 1940-1960: 124 . Cases 1920-1940: 78 . Cases 1900-1920: 72\n"
     ]
    }
   ],
   "source": [
    "# Grouping reports by binning years, just to have an idea\n",
    "\n",
    "count_2018 = 0\n",
    "count_2000 = 0\n",
    "count_1980 = 0\n",
    "count_1960 = 0\n",
    "count_1940 = 0\n",
    "count_1920 = 0\n",
    "\n",
    "for i in list_year_USA:\n",
    "    if i >= 2000:\n",
    "        count_2018 +=1\n",
    "    if i >= 1980 and i < 2000:\n",
    "        count_2000 +=1\n",
    "    if i >= 1960 and i < 1980:\n",
    "        count_1980 +=1\n",
    "    if i >= 1940 and i < 1960:\n",
    "        count_1960 +=1\n",
    "    if i >= 1920 and i < 1940:\n",
    "        count_1940 +=1\n",
    "    if i >= 1900 and i < 1920:\n",
    "        count_1920 +=1\n",
    "\n",
    "print(\"Cases 2000-2018:\", count_2018, \n",
    "      \". Cases 1980-2000:\", count_2000, \n",
    "      \". Cases 1960-1980:\", count_1980, \n",
    "      \". Cases 1940-1960:\", count_1960, \n",
    "      \". Cases 1920-1940:\", count_1940, \n",
    "      \". Cases 1900-1920:\", count_1920,\n",
    ")"
   ]
  },
  {
   "cell_type": "code",
   "execution_count": 112,
   "id": "7115978c",
   "metadata": {},
   "outputs": [
    {
     "data": {
      "image/png": "[encoded data removed]",
      "text/plain": [
       "<Figure size 576x864 with 5 Axes>"
      ]
     },
     "metadata": {
      "needs_background": "light"
     },
     "output_type": "display_data"
    }
   ],
   "source": [
    "# Let's check the reports by year and month in USA\n",
    "\n",
    "fig_month_year, ax = plt.subplots(nrows = 5, ncols = 1, figsize=(8,12)) # preparing the environment: graphs to be filled\n",
    "\n",
    "fig_month_year.suptitle('Reports by month and year in USA', y=0.95)\n",
    "\n",
    "# conditions:\n",
    "year_2000_2018 = (sharks_clean_USA[\"Year\"] >= 2000)\n",
    "year_1980_2000 = (sharks_clean_USA[\"Year\"] >= 1980) & (sharks_clean_USA[\"Year\"] < 2000)\n",
    "year_1960_1980 = (sharks_clean_USA[\"Year\"] >= 1960) & (sharks_clean_USA[\"Year\"] < 1980)\n",
    "year_1940_1960 = (sharks_clean_USA[\"Year\"] >= 1940) & (sharks_clean_USA[\"Year\"] < 1960)\n",
    "year_1920_1940 = (sharks_clean_USA[\"Year\"] >= 1920) & (sharks_clean_USA[\"Year\"] < 1940)\n",
    "year_1900_1920 = (sharks_clean_USA[\"Year\"] >= 1900) & (sharks_clean_USA[\"Year\"] < 1920)\n",
    "\n",
    "# x axis:\n",
    "x = sharks_clean.groupby(\"Month\").indices.keys()\n",
    "  \n",
    "# y axes:\n",
    "y1 = sharks_clean_USA[year_2000_2018].groupby(\"Month\").size()\n",
    "y2 = sharks_clean_USA[year_1980_2000].groupby(\"Month\").size()\n",
    "y3 = sharks_clean_USA[year_1960_1980].groupby(\"Month\").size()\n",
    "y4 = sharks_clean_USA[year_1940_1960].groupby(\"Month\").size()\n",
    "y5 = sharks_clean_USA[year_1920_1940].groupby(\"Month\").size()\n",
    "y6 = sharks_clean_USA[year_1900_1920].groupby(\"Month\").size()\n",
    "\n",
    "# 1st\n",
    "plt.sca(ax[0])\n",
    "plt.plot(x, y1, 'b')\n",
    "plt.ylabel(ylabel=\"Nº reports\")\n",
    "plt.xticks(ticks = range(1,13), labels=[\"\",\"\",\"\",\"\",\"\",\"\",\"\",\"\",\"\",\"\",\"\",\"\"])\n",
    "plt.title('2000-2018')\n",
    "\n",
    "# 2nd\n",
    "plt.sca(ax[1])\n",
    "plt.plot(x, y2, 'b')\n",
    "plt.ylabel(ylabel=\"Nº reports\")\n",
    "plt.xticks(ticks = range(1,13), labels=[\"\",\"\",\"\",\"\",\"\",\"\",\"\",\"\",\"\",\"\",\"\",\"\"])\n",
    "plt.title('1980-2000')\n",
    "\n",
    "# 3rd\n",
    "plt.sca(ax[2])\n",
    "plt.plot(x, y3, 'b')\n",
    "plt.ylabel(ylabel=\"Nº reports\")\n",
    "plt.xticks(ticks = range(1,13), labels=[\"\",\"\",\"\",\"\",\"\",\"\",\"\",\"\",\"\",\"\",\"\",\"\"])\n",
    "plt.title('1960-1980')\n",
    "\n",
    "# 4th\n",
    "plt.sca(ax[3])\n",
    "plt.plot(x, y4, 'b')\n",
    "plt.ylabel(ylabel=\"Nº reports\")\n",
    "plt.xticks(ticks = range(1,13), labels=[\"\",\"\",\"\",\"\",\"\",\"\",\"\",\"\",\"\",\"\",\"\",\"\"])\n",
    "plt.title('1940-1960')\n",
    "\n",
    "# 5th\n",
    "plt.sca(ax[4])\n",
    "plt.plot(x, y5, 'b')\n",
    "plt.ylabel(ylabel=\"Nº reports\")\n",
    "plt.xticks(ticks = range(1,13), labels=[\"Jan\",\"Feb\",\"Mar\",\"Apr\",\"May\",\"Jun\",\"Jul\",\"Aug\",\"Sep\",\"Oct\",\"Nov\",\"Dec\"])\n",
    "plt.title('1920-1940')\n",
    "\n",
    "plt.show() "
   ]
  },
  {
   "cell_type": "markdown",
   "id": "4442d7bd",
   "metadata": {},
   "source": [
    "Are attacks starting earlier since year 2000? More cases reported in April when compared to other years!"
   ]
  },
  {
   "cell_type": "markdown",
   "id": "ea604134",
   "metadata": {},
   "source": [
    "## Activity vs Fatality"
   ]
  },
  {
   "cell_type": "code",
   "execution_count": null,
   "id": "5e4133f1",
   "metadata": {},
   "outputs": [],
   "source": [
    "sharks_clean['Activity'].value_counts().head(50)"
   ]
  },
  {
   "cell_type": "markdown",
   "id": "fed26ec4",
   "metadata": {},
   "source": [
    "Some activities could be grouped: same activity but with '-' in between words, lower cases.\n",
    "Might be a good idea to group activities by different categories. For instance:\n",
    "- Everything that involves surfing on a board together. Boogie boarding is also surfing. Though surf fishing is not.\n",
    "- Everything that involves kayaking together. Include canoeing. Include rowing.\n",
    "- Fishing together <- here include surf fishing, spearfishing. (you are looking for trouble...).\n",
    "- All diving related sports together.\n",
    "- Wading and walking together.  \n",
    "\n",
    "Some I can target using regex, others will not"
   ]
  },
  {
   "cell_type": "code",
   "execution_count": null,
   "id": "7904a4ab",
   "metadata": {},
   "outputs": [],
   "source": []
  },
  {
   "cell_type": "code",
   "execution_count": null,
   "id": "8a02b24e",
   "metadata": {},
   "outputs": [],
   "source": [
    "#sharks_activity[\"Activity\"] = sharks_activity[\"Activity\"].str.replace(\"-\",\" \").str.lower()"
   ]
  },
  {
   "cell_type": "code",
   "execution_count": null,
   "id": "b06a9509",
   "metadata": {},
   "outputs": [],
   "source": [
    "#sharks_activity[\"Activity\"].value_counts().head(50)"
   ]
  },
  {
   "cell_type": "code",
   "execution_count": null,
   "id": "ed5e8f1f",
   "metadata": {},
   "outputs": [],
   "source": [
    "#Let's create regex for grouping\n",
    "\n",
    "def group_activity (string):\n",
    "    str.replace(\".*surf.*\", \"surfing\", regex = True)\n",
    "    str.replace(\".*kayak.*\", \"kayaking\", regex = True)\n",
    "    return"
   ]
  },
  {
   "cell_type": "code",
   "execution_count": null,
   "id": "0cb06800",
   "metadata": {},
   "outputs": [],
   "source": [
    "sharks_activity[\"Activity\"] = sharks_activity[\"Activity\"].str.replace(\".*surf.*\", \"surfing\", regex=True)"
   ]
  },
  {
   "cell_type": "code",
   "execution_count": null,
   "id": "9d636201",
   "metadata": {},
   "outputs": [],
   "source": [
    "sharks_activity[\"Activity\"].value_counts().head(50)"
   ]
  }
 ],
 "metadata": {
  "kernelspec": {
   "display_name": "Python 3 (ipykernel)",
   "language": "python",
   "name": "python3"
  },
  "language_info": {
   "codemirror_mode": {
    "name": "ipython",
    "version": 3
   },
   "file_extension": ".py",
   "mimetype": "text/x-python",
   "name": "python",
   "nbconvert_exporter": "python",
   "pygments_lexer": "ipython3",
   "version": "3.9.12"
  },
  "toc": {
   "base_numbering": 1,
   "nav_menu": {},
   "number_sections": true,
   "sideBar": true,
   "skip_h1_title": false,
   "title_cell": "Table of Contents",
   "title_sidebar": "Contents",
   "toc_cell": false,
   "toc_position": {},
   "toc_section_display": true,
   "toc_window_display": false
  }
 },
 "nbformat": 4,
 "nbformat_minor": 5
}
