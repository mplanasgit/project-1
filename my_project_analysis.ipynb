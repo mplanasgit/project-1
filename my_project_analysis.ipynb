{
 "cells": [
  {
   "cell_type": "markdown",
   "id": "2a7a51eb",
   "metadata": {},
   "source": [
    "**Project 1 - SHARKS - ANALYSIS jupyter notebook**"
   ]
  },
  {
   "cell_type": "markdown",
   "id": "e90f8822",
   "metadata": {},
   "source": [
    "# Libraries"
   ]
  },
  {
   "cell_type": "code",
   "execution_count": 1,
   "id": "6ec501ad",
   "metadata": {},
   "outputs": [],
   "source": [
    "# Libraries\n",
    "import pandas as pd\n",
    "import numpy as np\n",
    "import re\n",
    "import matplotlib.pyplot as plt\n",
    "import seaborn as sns"
   ]
  },
  {
   "cell_type": "code",
   "execution_count": 2,
   "id": "0a2550ac",
   "metadata": {},
   "outputs": [],
   "source": [
    "# Matplotlib inline to visualize Matplotlib graphs\n",
    "%matplotlib inline\n",
    "%config Inlinebackend.figure_format= 'retina'"
   ]
  },
  {
   "cell_type": "markdown",
   "id": "22b6986e",
   "metadata": {},
   "source": [
    "# Hypotheses"
   ]
  },
  {
   "cell_type": "markdown",
   "id": "c9096870",
   "metadata": {},
   "source": [
    "- Based on reports by activity and fatality, we could identify the *top10 most lethal activities.*\n",
    "- Based on reports by month and country, it would be possible to identify a 'Shark season' i. e. the months were most attacks occur, which might as well be related to migratory events. Has these changed over the years? -> Global warming, climate change."
   ]
  },
  {
   "cell_type": "markdown",
   "id": "4e428daa",
   "metadata": {},
   "source": [
    "# Analysis (& further cleaning of chosen variables)"
   ]
  },
  {
   "cell_type": "code",
   "execution_count": 3,
   "id": "e418e772",
   "metadata": {},
   "outputs": [],
   "source": [
    "# Importing first cleaned version of the dataset\n",
    "sharks_clean = pd.read_csv('./data/sharks_clean.csv', encoding = \"unicode_escape\")"
   ]
  },
  {
   "cell_type": "code",
   "execution_count": 4,
   "id": "c50d199a",
   "metadata": {},
   "outputs": [
    {
     "data": {
      "text/html": [
       "<div>\n",
       "<style scoped>\n",
       "    .dataframe tbody tr th:only-of-type {\n",
       "        vertical-align: middle;\n",
       "    }\n",
       "\n",
       "    .dataframe tbody tr th {\n",
       "        vertical-align: top;\n",
       "    }\n",
       "\n",
       "    .dataframe thead th {\n",
       "        text-align: right;\n",
       "    }\n",
       "</style>\n",
       "<table border=\"1\" class=\"dataframe\">\n",
       "  <thead>\n",
       "    <tr style=\"text-align: right;\">\n",
       "      <th></th>\n",
       "      <th>Case Number</th>\n",
       "      <th>Date</th>\n",
       "      <th>Year</th>\n",
       "      <th>Type</th>\n",
       "      <th>Country</th>\n",
       "      <th>Area</th>\n",
       "      <th>Location</th>\n",
       "      <th>Activity</th>\n",
       "      <th>Name</th>\n",
       "      <th>Sex</th>\n",
       "      <th>Age</th>\n",
       "      <th>Injury</th>\n",
       "      <th>Fatal (Y/N)</th>\n",
       "      <th>Time</th>\n",
       "      <th>Species</th>\n",
       "      <th>Investigator or Source</th>\n",
       "    </tr>\n",
       "  </thead>\n",
       "  <tbody>\n",
       "    <tr>\n",
       "      <th>0</th>\n",
       "      <td>2018.06.25</td>\n",
       "      <td>25-Jun-2018</td>\n",
       "      <td>2018.0</td>\n",
       "      <td>Boating</td>\n",
       "      <td>USA</td>\n",
       "      <td>California</td>\n",
       "      <td>Oceanside, San Diego County</td>\n",
       "      <td>Paddling</td>\n",
       "      <td>Julie Wolfe</td>\n",
       "      <td>F</td>\n",
       "      <td>57</td>\n",
       "      <td>No injury to occupant, outrigger canoe and pad...</td>\n",
       "      <td>N</td>\n",
       "      <td>18h00</td>\n",
       "      <td>White shark</td>\n",
       "      <td>R. Collier, GSAF</td>\n",
       "    </tr>\n",
       "    <tr>\n",
       "      <th>1</th>\n",
       "      <td>2018.06.18</td>\n",
       "      <td>18-Jun-2018</td>\n",
       "      <td>2018.0</td>\n",
       "      <td>Unprovoked</td>\n",
       "      <td>USA</td>\n",
       "      <td>Georgia</td>\n",
       "      <td>St. Simon Island, Glynn County</td>\n",
       "      <td>Standing</td>\n",
       "      <td>AdysonÂ McNeely</td>\n",
       "      <td>F</td>\n",
       "      <td>11</td>\n",
       "      <td>Minor injury to left thigh</td>\n",
       "      <td>N</td>\n",
       "      <td>14h00  -15h00</td>\n",
       "      <td>NaN</td>\n",
       "      <td>K.McMurray, TrackingSharks.com</td>\n",
       "    </tr>\n",
       "    <tr>\n",
       "      <th>2</th>\n",
       "      <td>2018.06.09</td>\n",
       "      <td>09-Jun-2018</td>\n",
       "      <td>2018.0</td>\n",
       "      <td>Invalid</td>\n",
       "      <td>USA</td>\n",
       "      <td>Hawaii</td>\n",
       "      <td>Habush, Oahu</td>\n",
       "      <td>Surfing</td>\n",
       "      <td>John Denges</td>\n",
       "      <td>M</td>\n",
       "      <td>48</td>\n",
       "      <td>Injury to left lower leg from surfboard skeg</td>\n",
       "      <td>N</td>\n",
       "      <td>07h45</td>\n",
       "      <td>NaN</td>\n",
       "      <td>K.McMurray, TrackingSharks.com</td>\n",
       "    </tr>\n",
       "    <tr>\n",
       "      <th>3</th>\n",
       "      <td>2018.06.08</td>\n",
       "      <td>08-Jun-2018</td>\n",
       "      <td>2018.0</td>\n",
       "      <td>Unprovoked</td>\n",
       "      <td>AUSTRALIA</td>\n",
       "      <td>New South Wales</td>\n",
       "      <td>Arrawarra Headland</td>\n",
       "      <td>Surfing</td>\n",
       "      <td>male</td>\n",
       "      <td>M</td>\n",
       "      <td>NaN</td>\n",
       "      <td>Minor injury to lower leg</td>\n",
       "      <td>N</td>\n",
       "      <td>NaN</td>\n",
       "      <td>2 m shark</td>\n",
       "      <td>B. Myatt, GSAF</td>\n",
       "    </tr>\n",
       "    <tr>\n",
       "      <th>4</th>\n",
       "      <td>2018.06.04</td>\n",
       "      <td>04-Jun-2018</td>\n",
       "      <td>2018.0</td>\n",
       "      <td>Provoked</td>\n",
       "      <td>MEXICO</td>\n",
       "      <td>Colima</td>\n",
       "      <td>La Ticla</td>\n",
       "      <td>Free diving</td>\n",
       "      <td>Gustavo Ramos</td>\n",
       "      <td>M</td>\n",
       "      <td>NaN</td>\n",
       "      <td>Lacerations to leg &amp; hand shark PROVOKED INCIDENT</td>\n",
       "      <td>N</td>\n",
       "      <td>NaN</td>\n",
       "      <td>Tiger shark, 3m</td>\n",
       "      <td>A .Kipper</td>\n",
       "    </tr>\n",
       "  </tbody>\n",
       "</table>\n",
       "</div>"
      ],
      "text/plain": [
       "  Case Number         Date    Year        Type    Country             Area  \\\n",
       "0  2018.06.25  25-Jun-2018  2018.0     Boating        USA       California   \n",
       "1  2018.06.18  18-Jun-2018  2018.0  Unprovoked        USA          Georgia   \n",
       "2  2018.06.09  09-Jun-2018  2018.0     Invalid        USA           Hawaii   \n",
       "3  2018.06.08  08-Jun-2018  2018.0  Unprovoked  AUSTRALIA  New South Wales   \n",
       "4  2018.06.04  04-Jun-2018  2018.0    Provoked     MEXICO           Colima   \n",
       "\n",
       "                         Location     Activity              Name Sex  Age  \\\n",
       "0     Oceanside, San Diego County     Paddling       Julie Wolfe   F   57   \n",
       "1  St. Simon Island, Glynn County     Standing  AdysonÂ McNeely    F   11   \n",
       "2                    Habush, Oahu      Surfing       John Denges   M   48   \n",
       "3              Arrawarra Headland      Surfing              male   M  NaN   \n",
       "4                        La Ticla  Free diving    Gustavo Ramos    M  NaN   \n",
       "\n",
       "                                              Injury Fatal (Y/N)  \\\n",
       "0  No injury to occupant, outrigger canoe and pad...           N   \n",
       "1                         Minor injury to left thigh           N   \n",
       "2       Injury to left lower leg from surfboard skeg           N   \n",
       "3                          Minor injury to lower leg           N   \n",
       "4  Lacerations to leg & hand shark PROVOKED INCIDENT           N   \n",
       "\n",
       "            Time          Species          Investigator or Source  \n",
       "0          18h00      White shark                R. Collier, GSAF  \n",
       "1  14h00  -15h00              NaN  K.McMurray, TrackingSharks.com  \n",
       "2          07h45              NaN  K.McMurray, TrackingSharks.com  \n",
       "3            NaN        2 m shark                  B. Myatt, GSAF  \n",
       "4            NaN  Tiger shark, 3m                       A .Kipper  "
      ]
     },
     "execution_count": 4,
     "metadata": {},
     "output_type": "execute_result"
    }
   ],
   "source": [
    "sharks_clean.head()"
   ]
  },
  {
   "cell_type": "code",
   "execution_count": 5,
   "id": "7a6eedab",
   "metadata": {},
   "outputs": [
    {
     "data": {
      "text/plain": [
       "(6302, 16)"
      ]
     },
     "execution_count": 5,
     "metadata": {},
     "output_type": "execute_result"
    }
   ],
   "source": [
    "sharks_clean.shape \n",
    "# Based on previous cleaning, I'm sure that these reports have at least 50% of information\n",
    "# Since they had non-NaN in 8 out of 16 columns"
   ]
  },
  {
   "cell_type": "markdown",
   "id": "ea604134",
   "metadata": {},
   "source": [
    "## Top 10 deathliest sports: Activity vs Fatality"
   ]
  },
  {
   "cell_type": "markdown",
   "id": "adba9a7b",
   "metadata": {},
   "source": [
    "### Cleaning Activity"
   ]
  },
  {
   "cell_type": "code",
   "execution_count": 6,
   "id": "17143e71",
   "metadata": {},
   "outputs": [
    {
     "data": {
      "text/plain": [
       "544"
      ]
     },
     "execution_count": 6,
     "metadata": {},
     "output_type": "execute_result"
    }
   ],
   "source": [
    "# Checking Nan\n",
    "sharks_clean['Activity'].isna().sum()"
   ]
  },
  {
   "cell_type": "code",
   "execution_count": 7,
   "id": "107ed424",
   "metadata": {},
   "outputs": [
    {
     "data": {
      "text/plain": [
       "(5758, 16)"
      ]
     },
     "execution_count": 7,
     "metadata": {},
     "output_type": "execute_result"
    }
   ],
   "source": [
    "# Removing Nan\n",
    "sharks_clean = sharks_clean[sharks_clean['Activity'].notna()]\n",
    "sharks_clean.shape"
   ]
  },
  {
   "cell_type": "code",
   "execution_count": 8,
   "id": "5e4133f1",
   "metadata": {},
   "outputs": [
    {
     "data": {
      "text/plain": [
       "Surfing         971\n",
       "Swimming        869\n",
       "Fishing         431\n",
       "Spearfishing    333\n",
       "Bathing         162\n",
       "Wading          149\n",
       "Diving          127\n",
       "Standing         99\n",
       "Snorkeling       89\n",
       "Scuba diving     76\n",
       "Name: Activity, dtype: int64"
      ]
     },
     "execution_count": 8,
     "metadata": {},
     "output_type": "execute_result"
    }
   ],
   "source": [
    "# Having a look\n",
    "sharks_clean['Activity'].value_counts().head(10)"
   ]
  },
  {
   "cell_type": "markdown",
   "id": "fed26ec4",
   "metadata": {},
   "source": [
    "Some activities could be grouped: same activity but with '-' in between words, lower cases.\n",
    "Might be a good idea to group activities by different categories. For instance:\n",
    "- Everything that involves surfing on a board together. Boogie and bodie boarding is also surfing.\n",
    "- Everything that involves kayaking together. Include canoeing. Include rowing.\n",
    "- Fishing together\n",
    "- All diving related sports together.\n",
    "- Wading and walking together.  \n"
   ]
  },
  {
   "cell_type": "code",
   "execution_count": 9,
   "id": "8a02b24e",
   "metadata": {},
   "outputs": [],
   "source": [
    "# Cleaning inconsistencies\n",
    "sharks_clean[\"Activity\"] = sharks_clean[\"Activity\"].str.replace(\"-\",\" \").str.lower().str.strip()"
   ]
  },
  {
   "cell_type": "code",
   "execution_count": 10,
   "id": "871ed837",
   "metadata": {},
   "outputs": [],
   "source": [
    "# Cast to list to do group using regex\n",
    "list_activity = sharks_clean[\"Activity\"].unique().tolist()"
   ]
  },
  {
   "cell_type": "code",
   "execution_count": 11,
   "id": "0ab030bc",
   "metadata": {},
   "outputs": [],
   "source": [
    "# print(list_activity)"
   ]
  },
  {
   "cell_type": "markdown",
   "id": "767ffb5e",
   "metadata": {},
   "source": [
    "Let's use regex to group the different activities"
   ]
  },
  {
   "cell_type": "code",
   "execution_count": 12,
   "id": "fd5bbf44",
   "metadata": {},
   "outputs": [],
   "source": [
    "# 1. Write a dictionary of activities (regex pattern in value) \n",
    "# 2. Do a for loop to replace by the key when pattern identified.\n",
    "\n",
    "dict_activity_regex = {\"Board surfing\" : \".*(surf).*|.*(boogie board).*|.*(body board).*\",\n",
    "                      \"Kayaking & similar\" : \".*(kayak).*|.*(canoe).*|.*(rowing).*\",\n",
    "                      \"Diving\" : \".*(diving).*\",\n",
    "                       \"Paddle boarding\" : \".*(paddle).*\",\n",
    "                      \"Sailing\" : \".*(boat).*|.*(sail).*|.*(ship).*|.*(overboard).*\",\n",
    "                      \"Snorkeling\" : \".*(snorkel).*\",\n",
    "                      \"Swimming\" : \".*(bathing).*|.*(swimming).*|.*(float).*\",\n",
    "                      \"Spear-fishing\" : \".*(spearfishing).*\",\n",
    "                      \"Fishing\" : \"[\\w\\s]+?(fishing).*|^(fishing).*\",\n",
    "                      \"Wading\" : \".*wad.*|.*(walking).*|.*(standing).*|.*(treading).*\"\n",
    "}\n",
    "\n",
    "for key, value in dict_activity_regex.items():\n",
    "    sharks_clean[\"Activity\"] = sharks_clean[\"Activity\"].str.replace(value, key, regex = True)\n"
   ]
  },
  {
   "cell_type": "code",
   "execution_count": 13,
   "id": "9d636201",
   "metadata": {},
   "outputs": [
    {
     "data": {
      "text/plain": [
       "Board surfing         1383\n",
       "Swimming              1269\n",
       "Fishing                630\n",
       "Diving                 550\n",
       "Spear-fishing          380\n",
       "Sailing                354\n",
       "Wading                 346\n",
       "Kayaking & similar     123\n",
       "Snorkeling             100\n",
       "Paddle boarding         25\n",
       "Name: Activity, dtype: int64"
      ]
     },
     "execution_count": 13,
     "metadata": {},
     "output_type": "execute_result"
    }
   ],
   "source": [
    "# Having a look - nice top 10\n",
    "sharks_clean[\"Activity\"].value_counts().head(10)"
   ]
  },
  {
   "cell_type": "code",
   "execution_count": 14,
   "id": "ea94ec00",
   "metadata": {},
   "outputs": [],
   "source": [
    "# How could I group all the others in one activity called 'other activity'"
   ]
  },
  {
   "cell_type": "code",
   "execution_count": 15,
   "id": "50e97bda",
   "metadata": {},
   "outputs": [],
   "source": [
    "# Getting all activities and value counts in to a dictionary\n",
    "# dict_activity = sharks_clean[\"Activity\"].value_counts().to_dict()"
   ]
  },
  {
   "cell_type": "code",
   "execution_count": 16,
   "id": "c037918a",
   "metadata": {},
   "outputs": [],
   "source": [
    "# Selecting only those that have value counts < 100 (the \"other activities\")\n",
    "# dict_other_activity = {key:val for key, val in dict_activity.items() if val < 100}"
   ]
  },
  {
   "cell_type": "code",
   "execution_count": 17,
   "id": "88e2e36a",
   "metadata": {},
   "outputs": [],
   "source": [
    "# Replacing those that are in dict_other_activity with 'other activity' using apply and lambda\n",
    "# sharks.clean[\"Activity\"] = sharks_clean[\"Activity\"].apply(lambda x: x.str.replace(x, \"other activity\") if x in dict_other_activity)"
   ]
  },
  {
   "cell_type": "markdown",
   "id": "8abd7d5e",
   "metadata": {},
   "source": [
    "### Cleaning Fatality "
   ]
  },
  {
   "cell_type": "code",
   "execution_count": 18,
   "id": "2ecb5be8",
   "metadata": {},
   "outputs": [
    {
     "data": {
      "text/plain": [
       "414"
      ]
     },
     "execution_count": 18,
     "metadata": {},
     "output_type": "execute_result"
    }
   ],
   "source": [
    "# Checking NaNs\n",
    "sharks_clean[\"Fatal (Y/N)\"].isna().sum()"
   ]
  },
  {
   "cell_type": "code",
   "execution_count": 19,
   "id": "168400a8",
   "metadata": {},
   "outputs": [
    {
     "data": {
      "text/plain": [
       "0"
      ]
     },
     "execution_count": 19,
     "metadata": {},
     "output_type": "execute_result"
    }
   ],
   "source": [
    "# Removing NaNs\n",
    "sharks_clean = sharks_clean[sharks_clean['Fatal (Y/N)'].notna()]\n",
    "sharks_clean[\"Fatal (Y/N)\"].isna().sum()"
   ]
  },
  {
   "cell_type": "code",
   "execution_count": 20,
   "id": "94e6a83f",
   "metadata": {},
   "outputs": [
    {
     "data": {
      "text/plain": [
       "N          4023\n",
       "Y          1283\n",
       "UNKNOWN      36\n",
       "M             1\n",
       "2017          1\n",
       "Name: Fatal (Y/N), dtype: int64"
      ]
     },
     "execution_count": 20,
     "metadata": {},
     "output_type": "execute_result"
    }
   ],
   "source": [
    "# Strip spaces and see if we need to remove manually\n",
    "sharks_clean[\"Fatal (Y/N)\"] = sharks_clean[\"Fatal (Y/N)\"].str.strip().str.upper()\n",
    "sharks_clean[\"Fatal (Y/N)\"].value_counts()"
   ]
  },
  {
   "cell_type": "code",
   "execution_count": 21,
   "id": "dc94c9d6",
   "metadata": {},
   "outputs": [
    {
     "data": {
      "text/plain": [
       "N    4023\n",
       "Y    1283\n",
       "Name: Fatal (Y/N), dtype: int64"
      ]
     },
     "execution_count": 21,
     "metadata": {},
     "output_type": "execute_result"
    }
   ],
   "source": [
    "# Removing if not N or Y\n",
    "fatal_keep = (sharks_clean[\"Fatal (Y/N)\"] == \"N\") | (sharks_clean[\"Fatal (Y/N)\"] == \"Y\")\n",
    "sharks_clean = sharks_clean[fatal_keep]\n",
    "sharks_clean[\"Fatal (Y/N)\"].value_counts()"
   ]
  },
  {
   "cell_type": "markdown",
   "id": "06d4ba50",
   "metadata": {},
   "source": [
    "### Visualization"
   ]
  },
  {
   "cell_type": "code",
   "execution_count": 22,
   "id": "83f54ea0",
   "metadata": {},
   "outputs": [
    {
     "data": {
      "image/png": "[encoded data removed]",
      "text/plain": [
       "<Figure size 432x288 with 1 Axes>"
      ]
     },
     "metadata": {},
     "output_type": "display_data"
    }
   ],
   "source": [
    "# Plotting\n",
    "\n",
    "sns.set_style('darkgrid')\n",
    "sns.set_palette('Set2')\n",
    "\n",
    "fig_activity = sns.countplot(y=\"Activity\", data=sharks_clean, hue=\"Fatal (Y/N)\", order=sharks_clean.Activity.value_counts().iloc[:10].index)\n",
    "fig_activity.set(title='Top deathliest activities')\n",
    "\n",
    "plt.savefig('./images/activity_fatality.jpg', dpi=1000, bbox_inches='tight')"
   ]
  },
  {
   "cell_type": "code",
   "execution_count": 23,
   "id": "b4c113ee",
   "metadata": {},
   "outputs": [],
   "source": [
    "# Exporting clean dataset\n",
    "sharks_clean.to_csv('./data/sharks_clean_activity_fatal.csv', index = False)"
   ]
  },
  {
   "cell_type": "markdown",
   "id": "807252d6",
   "metadata": {},
   "source": [
    "## 'Shark Season' by Month and Country"
   ]
  },
  {
   "cell_type": "code",
   "execution_count": 24,
   "id": "bc3c7c9a",
   "metadata": {},
   "outputs": [],
   "source": [
    "# Importing again because I deleted empty columns for analysing activities and fatality\n",
    "\n",
    "sharks_clean = pd.read_csv('./data/sharks_clean.csv', encoding = \"unicode_escape\")"
   ]
  },
  {
   "cell_type": "code",
   "execution_count": 25,
   "id": "b688a1d1",
   "metadata": {},
   "outputs": [
    {
     "data": {
      "text/plain": [
       "(6302, 16)"
      ]
     },
     "execution_count": 25,
     "metadata": {},
     "output_type": "execute_result"
    }
   ],
   "source": [
    "# Looking at shape\n",
    "sharks_clean.shape"
   ]
  },
  {
   "cell_type": "markdown",
   "id": "ff13e481",
   "metadata": {},
   "source": [
    "### Extracting and cleaning Month"
   ]
  },
  {
   "cell_type": "markdown",
   "id": "0b5b0e12",
   "metadata": {},
   "source": [
    "Which column do I use to extract the month? Case Number and Date contain this information. Let's see which one has less NaN"
   ]
  },
  {
   "cell_type": "code",
   "execution_count": 26,
   "id": "fb5a5abd",
   "metadata": {},
   "outputs": [
    {
     "data": {
      "text/plain": [
       "1"
      ]
     },
     "execution_count": 26,
     "metadata": {},
     "output_type": "execute_result"
    }
   ],
   "source": [
    "sharks_clean[\"Case Number\"].isna().sum()"
   ]
  },
  {
   "cell_type": "code",
   "execution_count": 27,
   "id": "4951b534",
   "metadata": {},
   "outputs": [
    {
     "data": {
      "text/plain": [
       "0"
      ]
     },
     "execution_count": 27,
     "metadata": {},
     "output_type": "execute_result"
    }
   ],
   "source": [
    "sharks_clean[\"Date\"].isna().sum()"
   ]
  },
  {
   "cell_type": "markdown",
   "id": "2fd26abb",
   "metadata": {},
   "source": [
    "Basically the same, let's see which one looks cleaner"
   ]
  },
  {
   "cell_type": "code",
   "execution_count": 28,
   "id": "dda48e89",
   "metadata": {},
   "outputs": [],
   "source": [
    "list_case_number = sharks_clean[\"Case Number\"].tolist()"
   ]
  },
  {
   "cell_type": "code",
   "execution_count": 29,
   "id": "1cea5aae",
   "metadata": {},
   "outputs": [],
   "source": [
    "# print(list_case_number)"
   ]
  },
  {
   "cell_type": "code",
   "execution_count": 30,
   "id": "22630c58",
   "metadata": {},
   "outputs": [],
   "source": [
    "list_date = sharks_clean[\"Date\"].tolist() \n",
    "# I think it would be better to use this with regex selection [A-Za-z]{3} or similar\n",
    "# Find those instances in which occur and create new column with the month"
   ]
  },
  {
   "cell_type": "code",
   "execution_count": 31,
   "id": "1fa392da",
   "metadata": {},
   "outputs": [],
   "source": [
    "# print(list_date)"
   ]
  },
  {
   "cell_type": "markdown",
   "id": "b875307e",
   "metadata": {},
   "source": [
    "After checking the list, if they do not follow the regex -(\\w{3})- the date is not really clear. Extract these and replace by NaN the others."
   ]
  },
  {
   "cell_type": "code",
   "execution_count": 32,
   "id": "ce81234b",
   "metadata": {},
   "outputs": [],
   "source": [
    "# (Jan|Feb|Mar|Apr|Mar|May|Jun|Jul|Aug|Sep|Oct|Nov|Dec)"
   ]
  },
  {
   "cell_type": "code",
   "execution_count": 33,
   "id": "960b34ea",
   "metadata": {},
   "outputs": [],
   "source": [
    "# Extracting month into new column using regex\n",
    "sharks_clean[\"Month\"] = sharks_clean[\"Date\"].str.lower().str.extract(r'-(\\w{3})-')"
   ]
  },
  {
   "cell_type": "code",
   "execution_count": 34,
   "id": "f180e000",
   "metadata": {},
   "outputs": [
    {
     "data": {
      "text/html": [
       "<div>\n",
       "<style scoped>\n",
       "    .dataframe tbody tr th:only-of-type {\n",
       "        vertical-align: middle;\n",
       "    }\n",
       "\n",
       "    .dataframe tbody tr th {\n",
       "        vertical-align: top;\n",
       "    }\n",
       "\n",
       "    .dataframe thead th {\n",
       "        text-align: right;\n",
       "    }\n",
       "</style>\n",
       "<table border=\"1\" class=\"dataframe\">\n",
       "  <thead>\n",
       "    <tr style=\"text-align: right;\">\n",
       "      <th></th>\n",
       "      <th>Case Number</th>\n",
       "      <th>Date</th>\n",
       "      <th>Year</th>\n",
       "      <th>Type</th>\n",
       "      <th>Country</th>\n",
       "      <th>Area</th>\n",
       "      <th>Location</th>\n",
       "      <th>Activity</th>\n",
       "      <th>Name</th>\n",
       "      <th>Sex</th>\n",
       "      <th>Age</th>\n",
       "      <th>Injury</th>\n",
       "      <th>Fatal (Y/N)</th>\n",
       "      <th>Time</th>\n",
       "      <th>Species</th>\n",
       "      <th>Investigator or Source</th>\n",
       "      <th>Month</th>\n",
       "    </tr>\n",
       "  </thead>\n",
       "  <tbody>\n",
       "    <tr>\n",
       "      <th>2731</th>\n",
       "      <td>1988.06.05</td>\n",
       "      <td>05-Jun-1988</td>\n",
       "      <td>1988.0</td>\n",
       "      <td>Unprovoked</td>\n",
       "      <td>USA</td>\n",
       "      <td>Florida</td>\n",
       "      <td>Daytona Beach, Volusia County</td>\n",
       "      <td>Swimming</td>\n",
       "      <td>Jason Jones</td>\n",
       "      <td>M</td>\n",
       "      <td>12</td>\n",
       "      <td>Four lacerations to his ankle</td>\n",
       "      <td>N</td>\n",
       "      <td>12h00</td>\n",
       "      <td>NaN</td>\n",
       "      <td>Orlando Sentinel, 6/7/1988, p.D2</td>\n",
       "      <td>jun</td>\n",
       "    </tr>\n",
       "  </tbody>\n",
       "</table>\n",
       "</div>"
      ],
      "text/plain": [
       "     Case Number         Date    Year        Type Country     Area  \\\n",
       "2731  1988.06.05  05-Jun-1988  1988.0  Unprovoked     USA  Florida   \n",
       "\n",
       "                           Location  Activity         Name Sex Age  \\\n",
       "2731  Daytona Beach, Volusia County  Swimming  Jason Jones   M  12   \n",
       "\n",
       "                             Injury Fatal (Y/N)   Time Species  \\\n",
       "2731  Four lacerations to his ankle           N  12h00     NaN   \n",
       "\n",
       "                Investigator or Source Month  \n",
       "2731  Orlando Sentinel, 6/7/1988, p.D2   jun  "
      ]
     },
     "execution_count": 34,
     "metadata": {},
     "output_type": "execute_result"
    }
   ],
   "source": [
    "# Checking new column\n",
    "sharks_clean.sample()"
   ]
  },
  {
   "cell_type": "code",
   "execution_count": 35,
   "id": "bca65ed6",
   "metadata": {},
   "outputs": [
    {
     "data": {
      "text/html": [
       "<div>\n",
       "<style scoped>\n",
       "    .dataframe tbody tr th:only-of-type {\n",
       "        vertical-align: middle;\n",
       "    }\n",
       "\n",
       "    .dataframe tbody tr th {\n",
       "        vertical-align: top;\n",
       "    }\n",
       "\n",
       "    .dataframe thead th {\n",
       "        text-align: right;\n",
       "    }\n",
       "</style>\n",
       "<table border=\"1\" class=\"dataframe\">\n",
       "  <thead>\n",
       "    <tr style=\"text-align: right;\">\n",
       "      <th></th>\n",
       "      <th>Case Number</th>\n",
       "      <th>Date</th>\n",
       "      <th>Year</th>\n",
       "      <th>Type</th>\n",
       "      <th>Country</th>\n",
       "      <th>Area</th>\n",
       "      <th>Location</th>\n",
       "      <th>Activity</th>\n",
       "      <th>Name</th>\n",
       "      <th>Sex</th>\n",
       "      <th>Age</th>\n",
       "      <th>Injury</th>\n",
       "      <th>Fatal (Y/N)</th>\n",
       "      <th>Time</th>\n",
       "      <th>Species</th>\n",
       "      <th>Investigator or Source</th>\n",
       "      <th>Month</th>\n",
       "    </tr>\n",
       "  </thead>\n",
       "  <tbody>\n",
       "    <tr>\n",
       "      <th>6301</th>\n",
       "      <td>ND.0001</td>\n",
       "      <td>1845-1853</td>\n",
       "      <td>0.0</td>\n",
       "      <td>Unprovoked</td>\n",
       "      <td>CEYLON (SRI LANKA)</td>\n",
       "      <td>Eastern Province</td>\n",
       "      <td>Below the English fort, Trincomalee</td>\n",
       "      <td>Swimming</td>\n",
       "      <td>male</td>\n",
       "      <td>M</td>\n",
       "      <td>15</td>\n",
       "      <td>FATAL. \"Shark bit him in half, carrying away t...</td>\n",
       "      <td>Y</td>\n",
       "      <td>NaN</td>\n",
       "      <td>NaN</td>\n",
       "      <td>S.W. Baker</td>\n",
       "      <td>NaN</td>\n",
       "    </tr>\n",
       "  </tbody>\n",
       "</table>\n",
       "</div>"
      ],
      "text/plain": [
       "     Case Number       Date  Year        Type             Country  \\\n",
       "6301     ND.0001  1845-1853   0.0  Unprovoked  CEYLON (SRI LANKA)   \n",
       "\n",
       "                  Area                             Location  Activity  Name  \\\n",
       "6301  Eastern Province  Below the English fort, Trincomalee  Swimming  male   \n",
       "\n",
       "     Sex Age                                             Injury Fatal (Y/N)  \\\n",
       "6301   M  15  FATAL. \"Shark bit him in half, carrying away t...           Y   \n",
       "\n",
       "     Time Species Investigator or Source Month  \n",
       "6301  NaN     NaN             S.W. Baker   NaN  "
      ]
     },
     "execution_count": 35,
     "metadata": {},
     "output_type": "execute_result"
    }
   ],
   "source": [
    "# Non identified column (month probably missing) filled with Nan\n",
    "sharks_clean.tail(1)"
   ]
  },
  {
   "cell_type": "code",
   "execution_count": 36,
   "id": "3cf8c39e",
   "metadata": {},
   "outputs": [
    {
     "data": {
      "text/plain": [
       "6302"
      ]
     },
     "execution_count": 36,
     "metadata": {},
     "output_type": "execute_result"
    }
   ],
   "source": [
    "# Checking how many values we have\n",
    "list_month = sharks_clean[\"Month\"].tolist()\n",
    "len(list_month)"
   ]
  },
  {
   "cell_type": "code",
   "execution_count": 37,
   "id": "4ce50640",
   "metadata": {},
   "outputs": [
    {
     "data": {
      "text/plain": [
       "910"
      ]
     },
     "execution_count": 37,
     "metadata": {},
     "output_type": "execute_result"
    }
   ],
   "source": [
    "# Checking Nan\n",
    "sharks_clean[\"Month\"].isna().sum() \n",
    "# 910 out of 6302, not that bad - let's remove them"
   ]
  },
  {
   "cell_type": "code",
   "execution_count": 38,
   "id": "30059a94",
   "metadata": {},
   "outputs": [
    {
     "data": {
      "text/plain": [
       "(5392, 17)"
      ]
     },
     "execution_count": 38,
     "metadata": {},
     "output_type": "execute_result"
    }
   ],
   "source": [
    "# Keeping not Nan\n",
    "sharks_clean = sharks_clean[sharks_clean['Month'].notna()]\n",
    "sharks_clean.shape"
   ]
  },
  {
   "cell_type": "code",
   "execution_count": 39,
   "id": "87d4f019",
   "metadata": {},
   "outputs": [
    {
     "data": {
      "text/plain": [
       "dict_keys(['apr', 'aug', 'dec', 'feb', 'jan', 'jul', 'jun', 'mar', 'may', 'nov', 'oct', 'sep'])"
      ]
     },
     "execution_count": 39,
     "metadata": {},
     "output_type": "execute_result"
    }
   ],
   "source": [
    "# Checking grouping using new column Month\n",
    "sharks_clean.groupby(\"Month\").indices.keys() \n",
    "# Month: x-axis but would need to recode to order them"
   ]
  },
  {
   "cell_type": "markdown",
   "id": "d2364d76",
   "metadata": {},
   "source": [
    "We need the Month to be codified (1-12) so that the months are then properly ordered: create new column where if jan->1, if feb->2..."
   ]
  },
  {
   "cell_type": "code",
   "execution_count": 40,
   "id": "1763dfaf",
   "metadata": {},
   "outputs": [],
   "source": [
    "# Creating a dictionary to store the old and new names for months:\n",
    "\n",
    "dict_months = {\"jan\" : 1,\n",
    "              \"feb\" : 2,\n",
    "              \"mar\" : 3,\n",
    "              \"apr\" : 4,\n",
    "              \"may\" : 5,\n",
    "              \"jun\" : 6,\n",
    "              \"jul\" : 7,\n",
    "              \"aug\" : 8,\n",
    "              \"sep\" : 9,\n",
    "              \"oct\" : 10,\n",
    "              \"nov\" : 11,\n",
    "              \"dec\" : 12              \n",
    "}\n",
    "\n",
    "# Replacing the name by value\n",
    "\n",
    "sharks_clean.replace({\"Month\" : dict_months}, inplace = True)"
   ]
  },
  {
   "cell_type": "code",
   "execution_count": 41,
   "id": "605c2d6c",
   "metadata": {},
   "outputs": [
    {
     "data": {
      "text/html": [
       "<div>\n",
       "<style scoped>\n",
       "    .dataframe tbody tr th:only-of-type {\n",
       "        vertical-align: middle;\n",
       "    }\n",
       "\n",
       "    .dataframe tbody tr th {\n",
       "        vertical-align: top;\n",
       "    }\n",
       "\n",
       "    .dataframe thead th {\n",
       "        text-align: right;\n",
       "    }\n",
       "</style>\n",
       "<table border=\"1\" class=\"dataframe\">\n",
       "  <thead>\n",
       "    <tr style=\"text-align: right;\">\n",
       "      <th></th>\n",
       "      <th>Case Number</th>\n",
       "      <th>Date</th>\n",
       "      <th>Year</th>\n",
       "      <th>Type</th>\n",
       "      <th>Country</th>\n",
       "      <th>Area</th>\n",
       "      <th>Location</th>\n",
       "      <th>Activity</th>\n",
       "      <th>Name</th>\n",
       "      <th>Sex</th>\n",
       "      <th>Age</th>\n",
       "      <th>Injury</th>\n",
       "      <th>Fatal (Y/N)</th>\n",
       "      <th>Time</th>\n",
       "      <th>Species</th>\n",
       "      <th>Investigator or Source</th>\n",
       "      <th>Month</th>\n",
       "    </tr>\n",
       "  </thead>\n",
       "  <tbody>\n",
       "    <tr>\n",
       "      <th>446</th>\n",
       "      <td>2015.02.15</td>\n",
       "      <td>15-Feb-2015</td>\n",
       "      <td>2015.0</td>\n",
       "      <td>Boating</td>\n",
       "      <td>ATLANTIC OCEAN</td>\n",
       "      <td>NaN</td>\n",
       "      <td>NaN</td>\n",
       "      <td>Transatlantic Rowing</td>\n",
       "      <td>Avalon, a carbon kevlar monohull: 8 occupants</td>\n",
       "      <td>NaN</td>\n",
       "      <td>NaN</td>\n",
       "      <td>No injury, shark bit rudder</td>\n",
       "      <td>N</td>\n",
       "      <td>NaN</td>\n",
       "      <td>White shark</td>\n",
       "      <td>Yorkshire Post, 3/16/2014</td>\n",
       "      <td>2</td>\n",
       "    </tr>\n",
       "  </tbody>\n",
       "</table>\n",
       "</div>"
      ],
      "text/plain": [
       "    Case Number         Date    Year     Type         Country Area Location  \\\n",
       "446  2015.02.15  15-Feb-2015  2015.0  Boating  ATLANTIC OCEAN  NaN      NaN   \n",
       "\n",
       "                 Activity                                           Name  Sex  \\\n",
       "446  Transatlantic Rowing  Avalon, a carbon kevlar monohull: 8 occupants  NaN   \n",
       "\n",
       "     Age                       Injury Fatal (Y/N) Time      Species  \\\n",
       "446  NaN  No injury, shark bit rudder           N  NaN  White shark   \n",
       "\n",
       "        Investigator or Source  Month  \n",
       "446  Yorkshire Post, 3/16/2014      2  "
      ]
     },
     "execution_count": 41,
     "metadata": {},
     "output_type": "execute_result"
    }
   ],
   "source": [
    "sharks_clean.sample() # It worked"
   ]
  },
  {
   "cell_type": "code",
   "execution_count": 42,
   "id": "289e7ed7",
   "metadata": {},
   "outputs": [
    {
     "data": {
      "text/plain": [
       "dict_keys([1, 2, 3, 4, 5, 6, 7, 8, 9, 10, 11, 12])"
      ]
     },
     "execution_count": 42,
     "metadata": {},
     "output_type": "execute_result"
    }
   ],
   "source": [
    "sharks_clean.groupby(\"Month\").indices.keys() \n",
    "# Now they will be automatically ordered in the graph"
   ]
  },
  {
   "cell_type": "code",
   "execution_count": 43,
   "id": "73d1df33",
   "metadata": {},
   "outputs": [
    {
     "data": {
      "text/plain": [
       "Month\n",
       "1     494\n",
       "2     356\n",
       "3     381\n",
       "4     420\n",
       "5     358\n",
       "6     475\n",
       "7     621\n",
       "8     556\n",
       "9     521\n",
       "10    417\n",
       "11    378\n",
       "12    415\n",
       "dtype: int64"
      ]
     },
     "execution_count": 43,
     "metadata": {},
     "output_type": "execute_result"
    }
   ],
   "source": [
    "sharks_clean.groupby(\"Month\").size() \n",
    "# Number of reports each month: y-axis"
   ]
  },
  {
   "cell_type": "markdown",
   "id": "2a0f4be7",
   "metadata": {},
   "source": [
    "### Cleaning Country"
   ]
  },
  {
   "cell_type": "code",
   "execution_count": 44,
   "id": "359e4a5f",
   "metadata": {},
   "outputs": [],
   "source": [
    "# Cleaning inconsistencies just in case\n",
    "sharks_clean[\"Country\"] = sharks_clean[\"Country\"].str.strip().str.upper()"
   ]
  },
  {
   "cell_type": "code",
   "execution_count": 45,
   "id": "d943ed48",
   "metadata": {},
   "outputs": [
    {
     "data": {
      "text/plain": [
       "31"
      ]
     },
     "execution_count": 45,
     "metadata": {},
     "output_type": "execute_result"
    }
   ],
   "source": [
    "# Checking Nan\n",
    "sharks_clean[\"Country\"].isna().sum()"
   ]
  },
  {
   "cell_type": "code",
   "execution_count": 46,
   "id": "b68de6ac",
   "metadata": {},
   "outputs": [],
   "source": [
    "# Keeping not Nan\n",
    "sharks_clean = sharks_clean[sharks_clean['Country'].notna()]"
   ]
  },
  {
   "cell_type": "code",
   "execution_count": 47,
   "id": "083fdd2e",
   "metadata": {},
   "outputs": [
    {
     "data": {
      "text/plain": [
       "(5361, 17)"
      ]
     },
     "execution_count": 47,
     "metadata": {},
     "output_type": "execute_result"
    }
   ],
   "source": [
    "# Checking shape\n",
    "sharks_clean.shape"
   ]
  },
  {
   "cell_type": "code",
   "execution_count": 48,
   "id": "0bd16f37",
   "metadata": {},
   "outputs": [
    {
     "data": {
      "text/plain": [
       "USA                         2051\n",
       "AUSTRALIA                   1227\n",
       "SOUTH AFRICA                 523\n",
       "NEW ZEALAND                  111\n",
       "BRAZIL                       106\n",
       "                            ... \n",
       "ARGENTINA                      1\n",
       "GUATEMALA                      1\n",
       "NETHERLANDS ANTILLES           1\n",
       "MALDIVES                       1\n",
       "BETWEEN PORTUGAL & INDIA       1\n",
       "Name: Country, Length: 168, dtype: int64"
      ]
     },
     "execution_count": 48,
     "metadata": {},
     "output_type": "execute_result"
    }
   ],
   "source": [
    "# Having a look\n",
    "sharks_clean[\"Country\"].value_counts() # Looks messy let's see if we can group something here"
   ]
  },
  {
   "cell_type": "code",
   "execution_count": 49,
   "id": "5838605b",
   "metadata": {},
   "outputs": [],
   "source": [
    "# sharks_clean[\"Country\"].unique()"
   ]
  },
  {
   "cell_type": "code",
   "execution_count": 50,
   "id": "561d83fa",
   "metadata": {},
   "outputs": [],
   "source": [
    "# Checking unique country values\n",
    "list_country = sharks_clean[\"Country\"].unique().tolist() # If I take top 3 looks good\n",
    "# print(list_country)"
   ]
  },
  {
   "cell_type": "markdown",
   "id": "4f6c4266",
   "metadata": {},
   "source": [
    "### Visualization"
   ]
  },
  {
   "cell_type": "markdown",
   "id": "bc573820",
   "metadata": {},
   "source": [
    "Let's plot the counts of reports by month and country"
   ]
  },
  {
   "cell_type": "code",
   "execution_count": 51,
   "id": "4461a742",
   "metadata": {},
   "outputs": [],
   "source": [
    "# Defining filtering conditions for top 3 countries:\n",
    "\n",
    "usa = (sharks_clean[\"Country\"] == \"USA\")\n",
    "australia = (sharks_clean[\"Country\"] == \"AUSTRALIA\")\n",
    "south_africa = (sharks_clean[\"Country\"] == \"SOUTH AFRICA\")"
   ]
  },
  {
   "cell_type": "code",
   "execution_count": 52,
   "id": "4d2095d7",
   "metadata": {
    "scrolled": true
   },
   "outputs": [
    {
     "data": {
      "text/html": [
       "<div>\n",
       "<style scoped>\n",
       "    .dataframe tbody tr th:only-of-type {\n",
       "        vertical-align: middle;\n",
       "    }\n",
       "\n",
       "    .dataframe tbody tr th {\n",
       "        vertical-align: top;\n",
       "    }\n",
       "\n",
       "    .dataframe thead th {\n",
       "        text-align: right;\n",
       "    }\n",
       "</style>\n",
       "<table border=\"1\" class=\"dataframe\">\n",
       "  <thead>\n",
       "    <tr style=\"text-align: right;\">\n",
       "      <th></th>\n",
       "      <th>Case Number</th>\n",
       "      <th>Date</th>\n",
       "      <th>Year</th>\n",
       "      <th>Type</th>\n",
       "      <th>Country</th>\n",
       "      <th>Area</th>\n",
       "      <th>Location</th>\n",
       "      <th>Activity</th>\n",
       "      <th>Name</th>\n",
       "      <th>Sex</th>\n",
       "      <th>Age</th>\n",
       "      <th>Injury</th>\n",
       "      <th>Fatal (Y/N)</th>\n",
       "      <th>Time</th>\n",
       "      <th>Species</th>\n",
       "      <th>Investigator or Source</th>\n",
       "      <th>Month</th>\n",
       "    </tr>\n",
       "  </thead>\n",
       "  <tbody>\n",
       "    <tr>\n",
       "      <th>3003</th>\n",
       "      <td>1981.10.19.b</td>\n",
       "      <td>19-Oct-1981</td>\n",
       "      <td>1981.0</td>\n",
       "      <td>Provoked</td>\n",
       "      <td>SOUTH AFRICA</td>\n",
       "      <td>Western Cape Province</td>\n",
       "      <td>Mossel Bay</td>\n",
       "      <td>Inspecting teeth of supposedly dead (hooked &amp; ...</td>\n",
       "      <td>Callie Van Aswegan</td>\n",
       "      <td>M</td>\n",
       "      <td>NaN</td>\n",
       "      <td>Hand lacerated  PROVOKED INCIDENT</td>\n",
       "      <td>N</td>\n",
       "      <td>NaN</td>\n",
       "      <td>3.5 m [11.5'], 510-kg [1125-lb] hooked &amp; shot ...</td>\n",
       "      <td>M. Levine, GSAF</td>\n",
       "      <td>10</td>\n",
       "    </tr>\n",
       "  </tbody>\n",
       "</table>\n",
       "</div>"
      ],
      "text/plain": [
       "       Case Number         Date    Year      Type       Country  \\\n",
       "3003  1981.10.19.b  19-Oct-1981  1981.0  Provoked  SOUTH AFRICA   \n",
       "\n",
       "                       Area    Location  \\\n",
       "3003  Western Cape Province  Mossel Bay   \n",
       "\n",
       "                                               Activity                Name  \\\n",
       "3003  Inspecting teeth of supposedly dead (hooked & ...  Callie Van Aswegan   \n",
       "\n",
       "     Sex  Age                             Injury Fatal (Y/N) Time  \\\n",
       "3003   M  NaN  Hand lacerated  PROVOKED INCIDENT           N  NaN   \n",
       "\n",
       "                                                Species  \\\n",
       "3003  3.5 m [11.5'], 510-kg [1125-lb] hooked & shot ...   \n",
       "\n",
       "     Investigator or Source  Month  \n",
       "3003        M. Levine, GSAF     10  "
      ]
     },
     "execution_count": 52,
     "metadata": {},
     "output_type": "execute_result"
    }
   ],
   "source": [
    "# Checking that filters work:\n",
    "\n",
    "sharks_clean[south_africa].sample() # ok works"
   ]
  },
  {
   "cell_type": "code",
   "execution_count": 53,
   "id": "5fe688e4",
   "metadata": {},
   "outputs": [],
   "source": [
    "# sharks_clean[usa].groupby(\"Month\").size()"
   ]
  },
  {
   "cell_type": "code",
   "execution_count": 54,
   "id": "8f6de0a5",
   "metadata": {},
   "outputs": [
    {
     "data": {
      "image/png": "[encoded data removed]",
      "text/plain": [
       "<Figure size 720x576 with 3 Axes>"
      ]
     },
     "metadata": {},
     "output_type": "display_data"
    }
   ],
   "source": [
    "# Plotting\n",
    "fig_month_country, ax = plt.subplots(nrows = 3, ncols = 1, figsize=(10,8)) # preparing the environment: graphs to be filled\n",
    "\n",
    "fig_month_country.suptitle('Shark Season in TOP 3 countries')\n",
    "\n",
    "# x axis:\n",
    "x = sharks_clean.groupby(\"Month\").indices.keys()\n",
    "  \n",
    "# y axes: y1 (top graph - USA), y2 (middle graph - AUSTRALIA), y3 (bottom graph - SOUTH AFRICA):\n",
    "y1 = sharks_clean[usa].groupby(\"Month\").size()\n",
    "y2 = sharks_clean[australia].groupby(\"Month\").size()\n",
    "y3 = sharks_clean[south_africa].groupby(\"Month\").size()\n",
    "\n",
    "# first graph, USA\n",
    "plt.sca(ax[0])\n",
    "plt.plot(x, y1, 'b')\n",
    "plt.ylabel(ylabel=\"Nº reports\")\n",
    "plt.xticks(ticks = range(1,13), labels=[\"\",\"\",\"\",\"\",\"\",\"\",\"\",\"\",\"\",\"\",\"\",\"\"])\n",
    "plt.title('USA')\n",
    "plt.fill_between(x, y1, alpha = 0.3, color = 'b')\n",
    "\n",
    "# second graph, AUSTRALIA  \n",
    "plt.sca(ax[1])\n",
    "plt.plot(x, y2, 'r')\n",
    "plt.ylabel(ylabel=\"Nº reports\")\n",
    "plt.xticks(ticks = range(1,13), labels=[\"\",\"\",\"\",\"\",\"\",\"\",\"\",\"\",\"\",\"\",\"\",\"\"])\n",
    "plt.title('Australia')\n",
    "plt.fill_between(x, y2, alpha = 0.3, color = 'r')\n",
    "\n",
    "# third graph, SOUTH AFRICA  \n",
    "plt.sca(ax[2])\n",
    "plt.plot(x, y3, 'g')\n",
    "plt.ylabel(ylabel=\"Nº reports\")\n",
    "plt.xticks(ticks = range(1,13), labels=[\"Jan\",\"Feb\",\"Mar\",\"Apr\",\"May\",\"Jun\",\"Jul\",\"Aug\",\"Sep\",\"Oct\",\"Nov\",\"Dec\"])\n",
    "plt.title('South Africa')\n",
    "plt.fill_between(x, y3, alpha = 0.3, color = 'g')\n",
    "\n",
    "plt.show()\n",
    "fig_month_country.figure.savefig('./images/shark_season_countries.jpg', dpi=1000, bbox_inches='tight')"
   ]
  },
  {
   "cell_type": "code",
   "execution_count": 55,
   "id": "b9bf6c98",
   "metadata": {
    "scrolled": true
   },
   "outputs": [
    {
     "data": {
      "image/png": "[encoded data removed]",
      "text/plain": [
       "<Figure size 720x288 with 1 Axes>"
      ]
     },
     "metadata": {},
     "output_type": "display_data"
    }
   ],
   "source": [
    "# Other way of showing the graph: all together\n",
    "\n",
    "season_countries_2, ax = plt.subplots(figsize=(10,4))\n",
    "\n",
    "# conditions:\n",
    "usa = (sharks_clean[\"Country\"] == \"USA\")\n",
    "australia = (sharks_clean[\"Country\"] == \"AUSTRALIA\")\n",
    "south_africa = (sharks_clean[\"Country\"] == \"SOUTH AFRICA\")\n",
    "  \n",
    "# y axes: y1 (top graph - USA), y2 (middle graph - AUSTRALIA), y3 (bottom graph - SOUTH AFRICA):\n",
    "y1 = sharks_clean[usa].groupby(\"Month\").size()\n",
    "y2 = sharks_clean[australia].groupby(\"Month\").size()\n",
    "y3 = sharks_clean[south_africa].groupby(\"Month\").size()\n",
    "\n",
    "# pretty\n",
    "ax.plot(y1, color = 'blue', label = 'USA')\n",
    "ax.plot(y2, color = 'red', label = 'Australia')\n",
    "ax.plot(y3, color = 'green', label = 'South Africa')\n",
    "\n",
    "ax.legend(loc = 'upper left')\n",
    "plt.ylabel(ylabel = \"Nº reports\")\n",
    "plt.xticks(ticks = range(1,13), labels=[\"Jan\",\"Feb\",\"Mar\",\"Apr\",\"May\",\"Jun\",\"Jul\",\"Aug\",\"Sep\",\"Oct\",\"Nov\",\"Dec\"])\n",
    "plt.title('Evolution of reports in the Top 3 countries', y = 1.02)\n",
    "\n",
    "plt.show()"
   ]
  },
  {
   "cell_type": "markdown",
   "id": "98f3f4f5",
   "metadata": {},
   "source": [
    "**Conclusions:** \n",
    "- Shark season is Jun-Oct in USA\n",
    "- Shark season is Dec-Feb in Australia and South Africa\n",
    "  \n",
    "We could use this approach to check Shark season in different countries/regions (for instance: East vs West-coast of USA).  \n",
    "\n",
    "Now, Shark Season might look different in the past, since global warming is affecting their habitats.\n",
    "Let's see if it changes by year.  \n",
    "Start of industrialization: year 1760 - but we migt not have many reports on those years."
   ]
  },
  {
   "cell_type": "code",
   "execution_count": 56,
   "id": "73fedcdc",
   "metadata": {},
   "outputs": [],
   "source": [
    "# Exporting cleaned month-country dataset\n",
    "sharks_clean.to_csv('./data/sharks_clean_month_country.csv', index = False)"
   ]
  },
  {
   "cell_type": "markdown",
   "id": "bb69cfac",
   "metadata": {},
   "source": [
    "## 'Shark season' by year - Climate change"
   ]
  },
  {
   "cell_type": "markdown",
   "id": "7755c549",
   "metadata": {},
   "source": [
    "### Cleaning Year"
   ]
  },
  {
   "cell_type": "code",
   "execution_count": 57,
   "id": "795bae4c",
   "metadata": {},
   "outputs": [
    {
     "data": {
      "text/plain": [
       "array([2018., 2017.,   nan, 2016., 2015., 2014., 2013., 2012., 2011.,\n",
       "       2010., 2009., 2008., 2007., 2006., 2005., 2004., 2003., 2002.,\n",
       "       2001., 2000., 1999., 1998., 1997., 1996., 1995., 1984., 1994.,\n",
       "       1993., 1992., 1991., 1990., 1989., 1969., 1988., 1987., 1986.,\n",
       "       1985., 1983., 1982., 1981., 1980., 1979., 1978., 1977., 1976.,\n",
       "       1975., 1974., 1973., 1972., 1971., 1970., 1968., 1967., 1966.,\n",
       "       1965., 1964., 1963., 1962., 1961., 1960., 1959., 1958., 1957.,\n",
       "       1956., 1955., 1954., 1953., 1952., 1951., 1950., 1949., 1948.,\n",
       "       1848., 1947., 1946., 1945., 1944., 1943., 1942., 1941., 1940.,\n",
       "       1939., 1938., 1937., 1936., 1935., 1934., 1933., 1932., 1931.,\n",
       "       1930., 1929., 1928., 1927., 1926., 1925., 1924., 1923., 1922.,\n",
       "       1921., 1920., 1919., 1918., 1917., 1916., 1915., 1914., 1913.,\n",
       "       1912., 1911., 1910., 1909., 1908., 1907., 1906., 1905., 1904.,\n",
       "       1903., 1902., 1901., 1900., 1899., 1898., 1897., 1896., 1895.,\n",
       "       1894., 1893., 1892., 1891., 1890., 1889., 1888., 1887., 1886.,\n",
       "       1885., 1884., 1883., 1882., 1881., 1880., 1879., 1878., 1877.,\n",
       "       1876., 1875., 1874., 1873., 1872., 1871., 1870., 1869., 1868.,\n",
       "       1867., 1866., 1865., 1864., 1863., 1862., 1861., 1860., 1859.,\n",
       "       1858., 1857., 1856., 1855., 1853., 1852., 1851., 1850., 1849.,\n",
       "       1847., 1846., 1845., 1844., 1842., 1841., 1840., 1839., 1837.,\n",
       "       1835., 1834., 1832., 1831., 1830., 1829., 1828., 1826., 1823.,\n",
       "       1822., 1819., 1818., 1817., 1810., 1808., 1807., 1804., 1792.,\n",
       "       1788., 1786., 1785., 1784., 1783., 1780., 1771., 1753., 1751.,\n",
       "       1738., 1703., 1580.,    0.])"
      ]
     },
     "execution_count": 57,
     "metadata": {},
     "output_type": "execute_result"
    }
   ],
   "source": [
    "# Having a look at unique year values\n",
    "sharks_clean[\"Year\"].unique() \n",
    "# We might need to focus on USA & Australia since they have the most reports by month"
   ]
  },
  {
   "cell_type": "code",
   "execution_count": 58,
   "id": "cba97a1f",
   "metadata": {},
   "outputs": [],
   "source": [
    "# sharks_clean[\"Year\"].value_counts()"
   ]
  },
  {
   "cell_type": "markdown",
   "id": "883416e2",
   "metadata": {},
   "source": [
    "Let's clean the Year column, just remove the zeros and delete those for which I have no year.  \n",
    "Also I could bin them in spans of 20 years?"
   ]
  },
  {
   "cell_type": "code",
   "execution_count": 59,
   "id": "5f4bb9cc",
   "metadata": {},
   "outputs": [],
   "source": [
    "# Convert to int and fill NaN with 0 \n",
    "\n",
    "try:\n",
    "    sharks_clean[\"Year\"] = sharks_clean[\"Year\"].astype(int)\n",
    "except Exception:\n",
    "    sharks_clean['Year'] = sharks_clean['Year'].fillna(0).astype(int)"
   ]
  },
  {
   "cell_type": "code",
   "execution_count": 60,
   "id": "fd1e5117",
   "metadata": {},
   "outputs": [],
   "source": [
    "# print(sharks_clean.dtypes) # Converted to int"
   ]
  },
  {
   "cell_type": "code",
   "execution_count": 61,
   "id": "58db5197",
   "metadata": {},
   "outputs": [],
   "source": [
    "# sharks_clean[\"Year\"].unique() # Filled NaN with 0"
   ]
  },
  {
   "cell_type": "code",
   "execution_count": 62,
   "id": "c452cab9",
   "metadata": {},
   "outputs": [],
   "source": [
    "# Let's remove the rows in which year = 0\n",
    "\n",
    "year_zero = sharks_clean['Year'] == 0\n",
    "sharks_clean = sharks_clean.drop(sharks_clean[year_zero].index)"
   ]
  },
  {
   "cell_type": "code",
   "execution_count": 63,
   "id": "cf51499f",
   "metadata": {},
   "outputs": [],
   "source": [
    "# sharks_clean.tail(3) # Removed the rows with zeros in year"
   ]
  },
  {
   "cell_type": "code",
   "execution_count": 64,
   "id": "db1a9152",
   "metadata": {},
   "outputs": [
    {
     "data": {
      "text/plain": [
       "(5352, 17)"
      ]
     },
     "execution_count": 64,
     "metadata": {},
     "output_type": "execute_result"
    }
   ],
   "source": [
    "sharks_clean.shape # Removed"
   ]
  },
  {
   "cell_type": "markdown",
   "id": "4006e6d7",
   "metadata": {},
   "source": [
    "### Reports by year (worldwide)"
   ]
  },
  {
   "cell_type": "code",
   "execution_count": 65,
   "id": "20f28da4",
   "metadata": {},
   "outputs": [
    {
     "data": {
      "image/png": "[encoded data removed]",
      "text/plain": [
       "<Figure size 432x288 with 1 Axes>"
      ]
     },
     "metadata": {},
     "output_type": "display_data"
    }
   ],
   "source": [
    "# Let's check the reports by year in the world\n",
    "\n",
    "fig_reports_year = sns.histplot(x = sharks_clean[\"Year\"], bins = 30, color = \"coral\").set(title='Reports around the world by year')\n",
    "\n",
    "plt.savefig('./images/shark_reports_year.jpg', dpi=1000, bbox_inches='tight')"
   ]
  },
  {
   "cell_type": "code",
   "execution_count": 66,
   "id": "07c4518b",
   "metadata": {},
   "outputs": [],
   "source": [
    "# Exporting cleaned month-year dataset\n",
    "sharks_clean.to_csv('./data/sharks_clean_month_country_year.csv', index = False)"
   ]
  },
  {
   "cell_type": "markdown",
   "id": "427707ca",
   "metadata": {},
   "source": [
    "### Visualization: USA"
   ]
  },
  {
   "cell_type": "code",
   "execution_count": 67,
   "id": "b2017f81",
   "metadata": {},
   "outputs": [],
   "source": [
    "# Let's create a new dataframe and will just keep those rows where Country == USA\n",
    "\n",
    "country_USA = sharks_clean['Country'] != \"USA\"\n",
    "sharks_clean_USA = sharks_clean.drop(sharks_clean[country_USA].index)"
   ]
  },
  {
   "cell_type": "code",
   "execution_count": 68,
   "id": "89d10b2f",
   "metadata": {},
   "outputs": [
    {
     "data": {
      "text/plain": [
       "(2049, 17)"
      ]
     },
     "execution_count": 68,
     "metadata": {},
     "output_type": "execute_result"
    }
   ],
   "source": [
    "# Looking at shape\n",
    "sharks_clean_USA.shape"
   ]
  },
  {
   "cell_type": "code",
   "execution_count": 69,
   "id": "ed1c929a",
   "metadata": {},
   "outputs": [
    {
     "data": {
      "text/html": [
       "<div>\n",
       "<style scoped>\n",
       "    .dataframe tbody tr th:only-of-type {\n",
       "        vertical-align: middle;\n",
       "    }\n",
       "\n",
       "    .dataframe tbody tr th {\n",
       "        vertical-align: top;\n",
       "    }\n",
       "\n",
       "    .dataframe thead th {\n",
       "        text-align: right;\n",
       "    }\n",
       "</style>\n",
       "<table border=\"1\" class=\"dataframe\">\n",
       "  <thead>\n",
       "    <tr style=\"text-align: right;\">\n",
       "      <th></th>\n",
       "      <th>Case Number</th>\n",
       "      <th>Date</th>\n",
       "      <th>Year</th>\n",
       "      <th>Type</th>\n",
       "      <th>Country</th>\n",
       "      <th>Area</th>\n",
       "      <th>Location</th>\n",
       "      <th>Activity</th>\n",
       "      <th>Name</th>\n",
       "      <th>Sex</th>\n",
       "      <th>Age</th>\n",
       "      <th>Injury</th>\n",
       "      <th>Fatal (Y/N)</th>\n",
       "      <th>Time</th>\n",
       "      <th>Species</th>\n",
       "      <th>Investigator or Source</th>\n",
       "      <th>Month</th>\n",
       "    </tr>\n",
       "  </thead>\n",
       "  <tbody>\n",
       "    <tr>\n",
       "      <th>2340</th>\n",
       "      <td>1995.09.19.</td>\n",
       "      <td>19-Sep-1995</td>\n",
       "      <td>1995</td>\n",
       "      <td>Unprovoked</td>\n",
       "      <td>USA</td>\n",
       "      <td>Florida</td>\n",
       "      <td>Matanzas Bay Inlet, St. Johns County</td>\n",
       "      <td>Surfing</td>\n",
       "      <td>Gavin Korth</td>\n",
       "      <td>M</td>\n",
       "      <td>19</td>\n",
       "      <td>Left arm &amp; hand lacerated</td>\n",
       "      <td>N</td>\n",
       "      <td>NaN</td>\n",
       "      <td>1.8 m [6'] shark</td>\n",
       "      <td>Orlando Sentinel, 9/20/1995, p.C.3</td>\n",
       "      <td>9</td>\n",
       "    </tr>\n",
       "  </tbody>\n",
       "</table>\n",
       "</div>"
      ],
      "text/plain": [
       "      Case Number         Date  Year        Type Country     Area  \\\n",
       "2340  1995.09.19.  19-Sep-1995  1995  Unprovoked     USA  Florida   \n",
       "\n",
       "                                  Location Activity         Name Sex Age  \\\n",
       "2340  Matanzas Bay Inlet, St. Johns County  Surfing  Gavin Korth   M  19   \n",
       "\n",
       "                         Injury Fatal (Y/N) Time           Species  \\\n",
       "2340  Left arm & hand lacerated           N  NaN  1.8 m [6'] shark   \n",
       "\n",
       "                  Investigator or Source  Month  \n",
       "2340  Orlando Sentinel, 9/20/1995, p.C.3      9  "
      ]
     },
     "execution_count": 69,
     "metadata": {},
     "output_type": "execute_result"
    }
   ],
   "source": [
    "# Checking it worked -ok\n",
    "sharks_clean_USA.sample()"
   ]
  },
  {
   "cell_type": "code",
   "execution_count": 70,
   "id": "630d7ad2",
   "metadata": {},
   "outputs": [],
   "source": [
    "# Check how many reports by year\n",
    "list_year_USA = sharks_clean_USA[\"Year\"].tolist()\n",
    "# print(list_year_USA)"
   ]
  },
  {
   "cell_type": "code",
   "execution_count": 71,
   "id": "09379bb6",
   "metadata": {},
   "outputs": [
    {
     "name": "stdout",
     "output_type": "stream",
     "text": [
      "Cases 2000-2018: 997 . Cases 1980-2000: 450 . Cases 1960-1980: 235 . Cases 1940-1960: 124 . Cases 1920-1940: 78 . Cases 1900-1920: 72\n"
     ]
    }
   ],
   "source": [
    "# Grouping reports by years, just to have an idea\n",
    "\n",
    "count_2018 = 0\n",
    "count_2000 = 0\n",
    "count_1980 = 0\n",
    "count_1960 = 0\n",
    "count_1940 = 0\n",
    "count_1920 = 0\n",
    "\n",
    "for i in list_year_USA:\n",
    "    if i >= 2000:\n",
    "        count_2018 +=1\n",
    "    if i >= 1980 and i < 2000:\n",
    "        count_2000 +=1\n",
    "    if i >= 1960 and i < 1980:\n",
    "        count_1980 +=1\n",
    "    if i >= 1940 and i < 1960:\n",
    "        count_1960 +=1\n",
    "    if i >= 1920 and i < 1940:\n",
    "        count_1940 +=1\n",
    "    if i >= 1900 and i < 1920:\n",
    "        count_1920 +=1\n",
    "\n",
    "print(\"Cases 2000-2018:\", count_2018, \n",
    "      \". Cases 1980-2000:\", count_2000, \n",
    "      \". Cases 1960-1980:\", count_1980, \n",
    "      \". Cases 1940-1960:\", count_1960, \n",
    "      \". Cases 1920-1940:\", count_1940, \n",
    "      \". Cases 1900-1920:\", count_1920,\n",
    ")"
   ]
  },
  {
   "cell_type": "code",
   "execution_count": 72,
   "id": "7115978c",
   "metadata": {},
   "outputs": [
    {
     "data": {
      "image/png": "[encoded data removed]",
      "text/plain": [
       "<Figure size 576x720 with 4 Axes>"
      ]
     },
     "metadata": {},
     "output_type": "display_data"
    }
   ],
   "source": [
    "# Plotting\n",
    "# Let's check the reports by year and month in USA\n",
    "\n",
    "fig_month_year_USA, ax = plt.subplots(nrows = 4, ncols = 1, figsize=(8,10)) # preparing the environment: graphs to be filled\n",
    "\n",
    "fig_month_year_USA.suptitle('Evolution of reports in USA', y=0.93)\n",
    "\n",
    "# conditions:\n",
    "year_2000_2018 = (sharks_clean_USA[\"Year\"] >= 2000)\n",
    "year_1980_2000 = (sharks_clean_USA[\"Year\"] >= 1980) & (sharks_clean_USA[\"Year\"] < 2000)\n",
    "year_1960_1980 = (sharks_clean_USA[\"Year\"] >= 1960) & (sharks_clean_USA[\"Year\"] < 1980)\n",
    "year_1940_1960 = (sharks_clean_USA[\"Year\"] >= 1940) & (sharks_clean_USA[\"Year\"] < 1960)\n",
    "year_1920_1940 = (sharks_clean_USA[\"Year\"] >= 1920) & (sharks_clean_USA[\"Year\"] < 1940)\n",
    "year_1900_1920 = (sharks_clean_USA[\"Year\"] >= 1900) & (sharks_clean_USA[\"Year\"] < 1920)\n",
    "\n",
    "# x axis:\n",
    "x = sharks_clean_USA.groupby(\"Month\").indices.keys()\n",
    "  \n",
    "# y axes:\n",
    "y1 = sharks_clean_USA[year_2000_2018].groupby(\"Month\").size()\n",
    "y2 = sharks_clean_USA[year_1980_2000].groupby(\"Month\").size()\n",
    "y3 = sharks_clean_USA[year_1960_1980].groupby(\"Month\").size()\n",
    "y4 = sharks_clean_USA[year_1940_1960].groupby(\"Month\").size()\n",
    "y5 = sharks_clean_USA[year_1920_1940].groupby(\"Month\").size()\n",
    "y6 = sharks_clean_USA[year_1900_1920].groupby(\"Month\").size()\n",
    "\n",
    "# 1st\n",
    "plt.sca(ax[0])\n",
    "plt.plot(x, y1, 'b')\n",
    "plt.ylabel(ylabel=\"Nº reports\")\n",
    "plt.xticks(ticks = range(1,13), labels=[\"\",\"\",\"\",\"\",\"\",\"\",\"\",\"\",\"\",\"\",\"\",\"\"])\n",
    "plt.title('2000-2018')\n",
    "plt.axvline(x=6, color='grey', ls='--', lw=1)\n",
    "plt.axvline(x=8, color='grey', ls='--', lw=1)\n",
    "\n",
    "# 2nd\n",
    "plt.sca(ax[1])\n",
    "plt.plot(x, y2, 'b')\n",
    "plt.ylabel(ylabel=\"Nº reports\")\n",
    "plt.xticks(ticks = range(1,13), labels=[\"\",\"\",\"\",\"\",\"\",\"\",\"\",\"\",\"\",\"\",\"\",\"\"])\n",
    "plt.title('1980-2000')\n",
    "plt.axvline(x=6, color='grey', ls='--', lw=1)\n",
    "plt.axvline(x=8, color='grey', ls='--', lw=1)\n",
    "\n",
    "# 3rd\n",
    "plt.sca(ax[2])\n",
    "plt.plot(x, y3, 'b')\n",
    "plt.ylabel(ylabel=\"Nº reports\")\n",
    "plt.xticks(ticks = range(1,13), labels=[\"\",\"\",\"\",\"\",\"\",\"\",\"\",\"\",\"\",\"\",\"\",\"\"])\n",
    "plt.title('1960-1980')\n",
    "plt.axvline(x=6, color='grey', ls='--', lw=1)\n",
    "plt.axvline(x=8, color='grey', ls='--', lw=1)\n",
    "\n",
    "# 4th\n",
    "plt.sca(ax[3])\n",
    "plt.plot(x, y4, 'b')\n",
    "plt.ylabel(ylabel=\"Nº reports\")\n",
    "plt.xticks(ticks = range(1,13), labels=[\"Jan\",\"Feb\",\"Mar\",\"Apr\",\"May\",\"Jun\",\"Jul\",\"Aug\",\"Sep\",\"Oct\",\"Nov\",\"Dec\"])\n",
    "plt.title('1940-1960')\n",
    "plt.axvline(x=6, color='grey', ls='--', lw=1)\n",
    "plt.axvline(x=8, color='grey', ls='--', lw=1)\n",
    "\n",
    "# 5th\n",
    "# plt.sca(ax[4])\n",
    "# plt.plot(x, y5, 'b')\n",
    "# plt.ylabel(ylabel=\"Nº reports\")\n",
    "# plt.xticks(ticks = range(1,13), labels=[\"Jan\",\"Feb\",\"Mar\",\"Apr\",\"May\",\"Jun\",\"Jul\",\"Aug\",\"Sep\",\"Oct\",\"Nov\",\"Dec\"])\n",
    "# plt.title('1920-1940')\n",
    "\n",
    "plt.show()\n",
    "fig_month_year_USA.figure.savefig('./images/month_year_USA.jpg', dpi=1000, bbox_inches='tight')"
   ]
  },
  {
   "cell_type": "markdown",
   "id": "110221ec",
   "metadata": {},
   "source": [
    "Are attacks starting earlier and stopping later since year 2000? More cases reported in April and October when compared to other years"
   ]
  },
  {
   "cell_type": "code",
   "execution_count": 73,
   "id": "9c6f0782",
   "metadata": {},
   "outputs": [],
   "source": [
    "# Exportin cleaned dataset for USA\n",
    "sharks_clean.to_csv('./data/sharks_clean_month_year_usa.csv', index = False)"
   ]
  },
  {
   "cell_type": "markdown",
   "id": "2f106d28",
   "metadata": {},
   "source": [
    "### Visualization: Australia"
   ]
  },
  {
   "cell_type": "code",
   "execution_count": 74,
   "id": "e6d1c116",
   "metadata": {},
   "outputs": [],
   "source": [
    "# As we did for USA, let's create a dataframe with only the data of Australia\n",
    "country_australia = sharks_clean['Country'] != \"AUSTRALIA\"\n",
    "sharks_clean_australia = sharks_clean.drop(sharks_clean[country_australia].index)"
   ]
  },
  {
   "cell_type": "code",
   "execution_count": 75,
   "id": "327f5b87",
   "metadata": {},
   "outputs": [
    {
     "data": {
      "text/plain": [
       "(1226, 17)"
      ]
     },
     "execution_count": 75,
     "metadata": {},
     "output_type": "execute_result"
    }
   ],
   "source": [
    "# Checking shape\n",
    "sharks_clean_australia.shape"
   ]
  },
  {
   "cell_type": "code",
   "execution_count": 76,
   "id": "3be53554",
   "metadata": {},
   "outputs": [
    {
     "data": {
      "text/html": [
       "<div>\n",
       "<style scoped>\n",
       "    .dataframe tbody tr th:only-of-type {\n",
       "        vertical-align: middle;\n",
       "    }\n",
       "\n",
       "    .dataframe tbody tr th {\n",
       "        vertical-align: top;\n",
       "    }\n",
       "\n",
       "    .dataframe thead th {\n",
       "        text-align: right;\n",
       "    }\n",
       "</style>\n",
       "<table border=\"1\" class=\"dataframe\">\n",
       "  <thead>\n",
       "    <tr style=\"text-align: right;\">\n",
       "      <th></th>\n",
       "      <th>Case Number</th>\n",
       "      <th>Date</th>\n",
       "      <th>Year</th>\n",
       "      <th>Type</th>\n",
       "      <th>Country</th>\n",
       "      <th>Area</th>\n",
       "      <th>Location</th>\n",
       "      <th>Activity</th>\n",
       "      <th>Name</th>\n",
       "      <th>Sex</th>\n",
       "      <th>Age</th>\n",
       "      <th>Injury</th>\n",
       "      <th>Fatal (Y/N)</th>\n",
       "      <th>Time</th>\n",
       "      <th>Species</th>\n",
       "      <th>Investigator or Source</th>\n",
       "      <th>Month</th>\n",
       "    </tr>\n",
       "  </thead>\n",
       "  <tbody>\n",
       "    <tr>\n",
       "      <th>1989</th>\n",
       "      <td>2000.11.20</td>\n",
       "      <td>20-Nov-2000</td>\n",
       "      <td>2000</td>\n",
       "      <td>Invalid</td>\n",
       "      <td>AUSTRALIA</td>\n",
       "      <td>South Australia</td>\n",
       "      <td>Ceduna</td>\n",
       "      <td>Shipwrecked</td>\n",
       "      <td>Danny Thorpe</td>\n",
       "      <td>M</td>\n",
       "      <td>47</td>\n",
       "      <td>Missing, thought to have been taken by a shark</td>\n",
       "      <td>NaN</td>\n",
       "      <td>NaN</td>\n",
       "      <td>Shark involvement not confirmed</td>\n",
       "      <td>T. Peake, GSAF</td>\n",
       "      <td>11</td>\n",
       "    </tr>\n",
       "  </tbody>\n",
       "</table>\n",
       "</div>"
      ],
      "text/plain": [
       "     Case Number         Date  Year     Type    Country             Area  \\\n",
       "1989  2000.11.20  20-Nov-2000  2000  Invalid  AUSTRALIA  South Australia   \n",
       "\n",
       "     Location     Activity          Name Sex Age  \\\n",
       "1989   Ceduna  Shipwrecked  Danny Thorpe   M  47   \n",
       "\n",
       "                                              Injury Fatal (Y/N) Time  \\\n",
       "1989  Missing, thought to have been taken by a shark         NaN  NaN   \n",
       "\n",
       "                              Species Investigator or Source  Month  \n",
       "1989  Shark involvement not confirmed         T. Peake, GSAF     11  "
      ]
     },
     "execution_count": 76,
     "metadata": {},
     "output_type": "execute_result"
    }
   ],
   "source": [
    "# Checking that it worked - ok\n",
    "sharks_clean_australia.sample()"
   ]
  },
  {
   "cell_type": "code",
   "execution_count": 77,
   "id": "99dee230",
   "metadata": {},
   "outputs": [
    {
     "data": {
      "image/png": "[encoded data removed]",
      "text/plain": [
       "<Figure size 576x720 with 4 Axes>"
      ]
     },
     "metadata": {},
     "output_type": "display_data"
    }
   ],
   "source": [
    "# Plotting\n",
    "# Let's check the reports by year and month in Australia\n",
    "\n",
    "fig_month_year_australia, ax = plt.subplots(nrows = 4, ncols = 1, figsize=(8,10)) # preparing the environment: graphs to be filled\n",
    "\n",
    "fig_month_year_australia.suptitle('Evolution of reports in Australia', y=0.93)\n",
    "\n",
    "# conditions:\n",
    "year_2000_2018 = (sharks_clean_australia[\"Year\"] >= 2000)\n",
    "year_1980_2000 = (sharks_clean_australia[\"Year\"] >= 1980) & (sharks_clean_australia[\"Year\"] < 2000)\n",
    "year_1960_1980 = (sharks_clean_australia[\"Year\"] >= 1960) & (sharks_clean_australia[\"Year\"] < 1980)\n",
    "year_1940_1960 = (sharks_clean_australia[\"Year\"] >= 1940) & (sharks_clean_australia[\"Year\"] < 1960)\n",
    "year_1920_1940 = (sharks_clean_australia[\"Year\"] >= 1920) & (sharks_clean_australia[\"Year\"] < 1940)\n",
    "year_1900_1920 = (sharks_clean_australia[\"Year\"] >= 1900) & (sharks_clean_australia[\"Year\"] < 1920)\n",
    "\n",
    "# x axis:\n",
    "x = sharks_clean_australia.groupby(\"Month\").indices.keys()\n",
    "  \n",
    "# y axes:\n",
    "y1 = sharks_clean_australia[year_2000_2018].groupby(\"Month\").size()\n",
    "y2 = sharks_clean_australia[year_1980_2000].groupby(\"Month\").size()\n",
    "y3 = sharks_clean_australia[year_1960_1980].groupby(\"Month\").size()\n",
    "y4 = sharks_clean_australia[year_1940_1960].groupby(\"Month\").size()\n",
    "y5 = sharks_clean_australia[year_1920_1940].groupby(\"Month\").size()\n",
    "y6 = sharks_clean_australia[year_1900_1920].groupby(\"Month\").size()\n",
    "\n",
    "# 1st\n",
    "plt.sca(ax[0])\n",
    "plt.plot(x, y1, 'r')\n",
    "plt.ylabel(ylabel=\"Nº reports\")\n",
    "plt.xticks(ticks = range(1,13), labels=[\"\",\"\",\"\",\"\",\"\",\"\",\"\",\"\",\"\",\"\",\"\",\"\"])\n",
    "plt.title('2000-2018')\n",
    "\n",
    "# 2nd\n",
    "plt.sca(ax[1])\n",
    "plt.plot(x, y2, 'r')\n",
    "plt.ylabel(ylabel=\"Nº reports\")\n",
    "plt.xticks(ticks = range(1,13), labels=[\"\",\"\",\"\",\"\",\"\",\"\",\"\",\"\",\"\",\"\",\"\",\"\"])\n",
    "plt.title('1980-2000')\n",
    "\n",
    "# 3rd\n",
    "plt.sca(ax[2])\n",
    "plt.plot(x, y3, 'r')\n",
    "plt.ylabel(ylabel=\"Nº reports\")\n",
    "plt.xticks(ticks = range(1,13), labels=[\"\",\"\",\"\",\"\",\"\",\"\",\"\",\"\",\"\",\"\",\"\",\"\"])\n",
    "plt.title('1960-1980')\n",
    "\n",
    "# 4th\n",
    "plt.sca(ax[3])\n",
    "plt.plot(x, y4, 'r')\n",
    "plt.ylabel(ylabel=\"Nº reports\")\n",
    "plt.xticks(ticks = range(1,13), labels=[\"Jan\",\"Feb\",\"Mar\",\"Apr\",\"May\",\"Jun\",\"Jul\",\"Aug\",\"Sep\",\"Oct\",\"Nov\",\"Dec\"])\n",
    "plt.title('1940-1960')\n",
    "\n",
    "# 5th\n",
    "# plt.sca(ax[4])\n",
    "# plt.plot(x, y5, 'r')\n",
    "# plt.ylabel(ylabel=\"Nº reports\")\n",
    "# plt.xticks(ticks = range(1,13), labels=[\"Jan\",\"Feb\",\"Mar\",\"Apr\",\"May\",\"Jun\",\"Jul\",\"Aug\",\"Sep\",\"Oct\",\"Nov\",\"Dec\"])\n",
    "# plt.title('1920-1940')\n",
    "\n",
    "plt.show()\n",
    "fig_month_year_australia.figure.savefig('./images/month_year_australia.jpg', dpi=1000, bbox_inches='tight')"
   ]
  },
  {
   "cell_type": "code",
   "execution_count": 78,
   "id": "111ef2aa",
   "metadata": {},
   "outputs": [],
   "source": [
    "# Export cleaned dataset for Australia\n",
    "sharks_clean.to_csv('./data/sharks_clean_month_year_australia.csv', index = False)"
   ]
  },
  {
   "cell_type": "markdown",
   "id": "251aecae",
   "metadata": {},
   "source": [
    "### Separating Northern and Southern hemisphere to get more powerful data"
   ]
  },
  {
   "cell_type": "code",
   "execution_count": 79,
   "id": "4c2bcc91",
   "metadata": {},
   "outputs": [],
   "source": [
    "# sharks_clean[\"Country\"].unique()"
   ]
  },
  {
   "cell_type": "code",
   "execution_count": 80,
   "id": "b7b03179",
   "metadata": {},
   "outputs": [
    {
     "name": "stdout",
     "output_type": "stream",
     "text": [
      "['angola', 'argentina', 'australia', 'bolivia', 'botswana', 'burundi', 'chile', 'comoros', 'east timor', 'eswatini', 'fiji', 'lesotho', 'madagascar', 'malawi', 'mauritius', 'mozambique', 'nauru', 'new zealand', 'papua new guinea', 'paraguay', 'peru', 'rwanda', 'samoa', 'seychelles', 'solomon islands', 'south africa', 'tanzania', 'tuvalu', 'uruguay', 'vanuatu', 'zambia', 'zimbabwe', 'new caledonia', 'st helena, british overseas territory', 'reunion', 'indonesia', 'french polynesia', 'brazil', 'kiribati', 'diego garcia', 'tonga', 'namibia', 'western samoa', 'new guinea', 'admiralty islands', 'south atlantic ocean', 'american samoa', 'indian ocean', 'solomon islands / vanuatu', 'southwest pacific ocean', 'british new guinea', 'cook islands', 'tasman sea']\n"
     ]
    }
   ],
   "source": [
    "# Creating a list of countries for northern and southern hemispheres:\n",
    "north = [\"USA\", \"Algeria\", \"Benin\", \"Burkina Faso\", \"Cameroon\", \"Cape Verde\", \"Central African Republic\", \"Chad\", \"Djibouti\", \n",
    "         \"Egypt\", \"Eritrea\", \"Ethiopia\", \"Gambia\", \"Ghana\", \"Guinea\", \"Guinea-Bissau\", \"Ivory Coast\", \"Liberia\", \"Libya\", \n",
    "         \"Mali\", \"Mauritania\", \"Morocco\", \"Niger\", \"Nigeria\", \"Senegal\", \"Sierra Leone\", \"South Sudan\", \"Sudan\", \"Togo\", \n",
    "         \"Tunisia\", \"Afghanistan\", \"Armenia\", \"Azerbaijan\", \"Bahrain\", \"Bangladesh\", \"Bhutan\", \"Brunei\", \"Cambodia\", \n",
    "         \"China\", \"Cyprus\", \"Georgia\", \"India\", \"Iran\", \"Iraq\", \"Israel\", \"Japan\", \"Jordan\", \"Kazakhstan\", \"Kuwait\", \n",
    "         \"Kyrgyzstan\", \"Laos\", \"Lebanon\", \"Malaysia\", \"Mongolia\", \"Myanmar\", \"Nepal\", \"North Korea\", \"Oman\", \"Pakistan\", \n",
    "         \"Palestine\", \"Philippines\", \"Qatar\", \"Saudi Arabia\", \"Singapore\", \"South Korea\", \"Sri Lanka\", \"Tajikistan\", \"Thailand\",\n",
    "         \"Turkey\", \"Turkmenistan\", \"United Arab Emirates\", \"Uzbekistan\", \"Vietnam\", \"Yemen\", \"Belize\", \"Canada\", \"Costa Rica\", \n",
    "         \"El Salvador\", \"Guatemala\", \"Guyana\", \"Honduras\", \"Mexico\", \"Nicaragua\", \"Panama\", \"Suriname\", \n",
    "         \"United States\", \"Venezuela\", \"Albania\", \"Belarus\", \"Belgium\", \"Bosnia and Herzegovina\", \"Bulgaria\", \"Croatia\", \n",
    "         \"Czech Republic\", \"Denmark\", \"Estonia\", \"Finland\", \"Germany\", \"Greece\", \"Hungary\", \"Iceland\", \"Ireland\", \"Italy\", \"Latvia\", \"Liechtenstein\", \n",
    "         \"Lithuania\", \"Luxembourg\", \"Malta\", \"Moldova\", \"Monaco\", \"Montenegro\", \"Netherlands\", \"North Macedonia\", \"Norway\", \"Poland\", \n",
    "         \"Portugal\", \"Romania\", \"Russia\", \"San Marino\", \"azores\", \"Serbia\", \"Slovakia\", \"Slovenia\", \"Spain\", \"Sweden\", \"ENGLAND\", \"MALDIVES\",\n",
    "        \"BAHAMAS\",\"CUBA\",'UNITED KINGDOM',\"COLUMBIA\", \"DOMINICAN REPUBLIC\",\"CAYMAN ISLANDS\", \"FRANCE\",\"ST. MARTIN\",\"PUERTO RICO\",\"TRINIDAD & TOBAGO\",\"TAIWAN\",\n",
    "        \"JAMAICA\", \"ARUBA\", \"GUAM\", \"PALESTINIAN TERRITORIES\",\"SCOTLAND\",\"ANTIGUA\",\"TURKS & CAICOS\", \"UNITED ARAB EMIRATES (UAE)\",\"SOMALIA\",\n",
    "        \"NEVIS\",\"BRITISH VIRGIN ISLANDS\", \"ST. MAARTIN\", \"GRAND CAYMAN\", \"MICRONESIA\", \"OKINAWA\",\"MARSHALL ISLANDS\",\n",
    "         \"EGYPT / ISRAEL\",\"NORTHERN ARABIAN SEA\",\"HONG KONG\", \"CARIBBEAN SEA\",\"BERMUDA\", \"SOUTH CHINA SEA\",\"BRITISH ISLES\", \"PALAU\",\n",
    "        \"GRENADA\",\"NEW BRITAIN\", \"JOHNSTON ISLAND\", \"RED SEA\", \"NORTH PACIFIC OCEAN\", \"FEDERATED STATES OF MICRONESIA\",\n",
    "         \"BRITISH WEST INDIES\", \"PERSIAN GULF\", \"NORTH SEA\", \"ANDAMAN / NICOBAR ISLANDAS\", \"THE BALKANS\",\"NETHERLANDS ANTILLES\",\n",
    "         \"NORTH ATLANTIC OCEAN\", \"NORTHERN MARIANA ISLANDS\", \"IRAN / IRAQ\", \"BAY OF BENGAL\", \"ITALY / CROATIA\", \"BARBADOS\", \n",
    "         \"HAITI\", \"WEST INDIES\", \"BURMA\", \"MARTINIQUE\", \"CEYLON\", \"EQUATORIAL GUINEA / CAMEROON\", \"TOBAGO\"]\n",
    "\n",
    "south = [\"Angola\", \"Argentina\", \"Australia\", \"Bolivia\", \"Botswana\", \"Burundi\", \"Chile\", \"Comoros\", \"East Timor\", \"Eswatini\",\n",
    "         \"Fiji\", \"Lesotho\", \"Madagascar\", \"Malawi\", \"Mauritius\", \"Mozambique\", \"Nauru\", \"New Zealand\", \"Papua New Guinea\", \n",
    "         \"Paraguay\", \"Peru\", \"Rwanda\", \"Samoa\", \"Seychelles\", \"Solomon Islands\", \"South Africa\", \"Tanzania\", \"Tuvalu\", \n",
    "         \"Uruguay\", \"Vanuatu\", \"Zambia\", \"Zimbabwe\", \"new caledonia\", \"ST HELENA, BRITISH OVERSEAS TERRITORY\", \"REUNION\",\"INDONESIA\", \n",
    "         \"FRENCH POLYNESIA\", \"BRAZIL\", \"KIRIBATI\",\"DIEGO GARCIA\",\"TONGA\", \"NAMIBIA\", \"WESTERN SAMOA\", \"NEW GUINEA\", \"ADMIRALTY ISLANDS\",\n",
    "        \"SOUTH ATLANTIC OCEAN\",\"AMERICAN SAMOA\",\"INDIAN OCEAN\", \"SOLOMON ISLANDS / VANUATU\", \"SOUTHWEST PACIFIC OCEAN\", \n",
    "         \"BRITISH NEW GUINEA\", \"COOK ISLANDS\", \"TASMAN SEA\"]\n",
    "\n",
    "north = [i.lower() for i in north]\n",
    "south = [i.lower() for i in south]\n",
    "print(south)"
   ]
  },
  {
   "cell_type": "code",
   "execution_count": 81,
   "id": "7f35f439",
   "metadata": {},
   "outputs": [],
   "source": [
    "# copy the column 'country' into a column named 'hemisphere'\n",
    "sharks_clean['Hemisphere'] = sharks_clean.loc[:, 'Country']"
   ]
  },
  {
   "cell_type": "code",
   "execution_count": 82,
   "id": "5d4060c1",
   "metadata": {},
   "outputs": [],
   "source": [
    "# Not working:\n",
    "# for i in sharks_clean[\"Hemisphere\"]:\n",
    "#     i = str(i)\n",
    "#     i = i.lower()\n",
    "#     if i in south:\n",
    "#         print(i)\n",
    "#         sharks_clean[\"Hemisphere\"] = sharks_clean[\"Hemisphere\"].replace(i, \"Southern\")"
   ]
  },
  {
   "cell_type": "code",
   "execution_count": 83,
   "id": "a2c4c910",
   "metadata": {},
   "outputs": [],
   "source": [
    "def hemisphere(x):\n",
    "    '''This function takes the string and returns the hemisphere location (\"Southern\" or \"Northern\").\n",
    "    It returns the same string if no match is found.\n",
    "    '''\n",
    "    if x.lower() in south:\n",
    "        return \"Southern\"\n",
    "    elif x.lower() in north:\n",
    "        return \"Northern\"\n",
    "    else:\n",
    "        return x"
   ]
  },
  {
   "cell_type": "code",
   "execution_count": 84,
   "id": "f762e827",
   "metadata": {},
   "outputs": [],
   "source": [
    "# Applying the function to group by hemisphere\n",
    "sharks_clean[\"Hemisphere\"] = sharks_clean[\"Hemisphere\"].apply(hemisphere)"
   ]
  },
  {
   "cell_type": "code",
   "execution_count": 85,
   "id": "af525c03",
   "metadata": {},
   "outputs": [
    {
     "data": {
      "text/plain": [
       "array(['Northern', 'Southern', 'ECUADOR', 'ATLANTIC OCEAN', 'KENYA',\n",
       "       'PACIFIC OCEAN', 'MID ATLANTIC OCEAN', 'GABON', 'CENTRAL PACIFIC',\n",
       "       'INDIAN OCEAN?', 'AFRICA', 'COAST OF AFRICA',\n",
       "       'BETWEEN PORTUGAL & INDIA'], dtype=object)"
      ]
     },
     "execution_count": 85,
     "metadata": {},
     "output_type": "execute_result"
    }
   ],
   "source": [
    "sharks_clean[\"Hemisphere\"].unique()"
   ]
  },
  {
   "cell_type": "code",
   "execution_count": 86,
   "id": "67e4ce51",
   "metadata": {},
   "outputs": [],
   "source": [
    "# Export cleaned dataset for Hemisphere:\n",
    "sharks_clean.to_csv('./data/sharks_clean_month_year_hemisphere.csv', index = False)"
   ]
  },
  {
   "cell_type": "code",
   "execution_count": 87,
   "id": "8e21a370",
   "metadata": {},
   "outputs": [],
   "source": [
    "#sharks_clean[\"Hemisphere\"] = sharks_clean[\"Hemisphere\"].apply(lambda x: \"Southern\" if x.lower() in south else x)"
   ]
  },
  {
   "cell_type": "code",
   "execution_count": 88,
   "id": "7e94ccd9",
   "metadata": {},
   "outputs": [],
   "source": [
    "# Creating a new dataframe for southern and northern hemispheres:\n",
    "# south: \n",
    "country_southern = sharks_clean['Hemisphere'] != \"Southern\"\n",
    "sharks_clean_southern = sharks_clean.drop(sharks_clean[country_southern].index)\n",
    "\n",
    "# north:\n",
    "country_northern = sharks_clean['Hemisphere'] != \"Northern\"\n",
    "sharks_clean_northern = sharks_clean.drop(sharks_clean[country_northern].index)"
   ]
  },
  {
   "cell_type": "code",
   "execution_count": 89,
   "id": "d798761a",
   "metadata": {},
   "outputs": [
    {
     "data": {
      "text/plain": [
       "(2365, 18)"
      ]
     },
     "execution_count": 89,
     "metadata": {},
     "output_type": "execute_result"
    }
   ],
   "source": [
    "# checking shape\n",
    "sharks_clean_southern.shape"
   ]
  },
  {
   "cell_type": "code",
   "execution_count": 90,
   "id": "e08c3e85",
   "metadata": {},
   "outputs": [],
   "source": [
    "# exporting filtered dataset\n",
    "sharks_clean_southern.to_csv('./data/sharks_clean_month_year_southern.csv', index = False)"
   ]
  },
  {
   "cell_type": "code",
   "execution_count": 91,
   "id": "dcae444a",
   "metadata": {},
   "outputs": [
    {
     "data": {
      "text/plain": [
       "(2931, 18)"
      ]
     },
     "execution_count": 91,
     "metadata": {},
     "output_type": "execute_result"
    }
   ],
   "source": [
    "# checking shape\n",
    "sharks_clean_northern.shape"
   ]
  },
  {
   "cell_type": "code",
   "execution_count": 92,
   "id": "5642f573",
   "metadata": {},
   "outputs": [],
   "source": [
    "# exporting clean dataset\n",
    "sharks_clean_northern.to_csv('./data/sharks_clean_month_year_northern.csv', index = False)"
   ]
  },
  {
   "cell_type": "code",
   "execution_count": 93,
   "id": "1ca8bf86",
   "metadata": {},
   "outputs": [
    {
     "data": {
      "image/png": "[encoded data removed]",
      "text/plain": [
       "<Figure size 720x288 with 1 Axes>"
      ]
     },
     "metadata": {},
     "output_type": "display_data"
    }
   ],
   "source": [
    "# Plotting evolution of reports in the SOUTHERN hemisphere.\n",
    "\n",
    "fig_month_year_southern, ax = plt.subplots(figsize=(10,4))\n",
    "\n",
    "# conditions:\n",
    "year_2000_2018 = (sharks_clean_southern[\"Year\"] >= 2000)\n",
    "year_1980_2000 = (sharks_clean_southern[\"Year\"] >= 1980) & (sharks_clean_southern[\"Year\"] < 2000)\n",
    "year_1960_1980 = (sharks_clean_southern[\"Year\"] >= 1960) & (sharks_clean_southern[\"Year\"] < 1980)\n",
    "year_1940_1960 = (sharks_clean_southern[\"Year\"] >= 1940) & (sharks_clean_southern[\"Year\"] < 1960)\n",
    "year_1920_1940 = (sharks_clean_southern[\"Year\"] >= 1920) & (sharks_clean_southern[\"Year\"] < 1940)\n",
    "year_1900_1920 = (sharks_clean_southern[\"Year\"] >= 1900) & (sharks_clean_southern[\"Year\"] < 1920)\n",
    "\n",
    "# y axis\n",
    "y1 = sharks_clean_southern[year_2000_2018].groupby(\"Month\").size()\n",
    "y2 = sharks_clean_southern[year_1980_2000].groupby(\"Month\").size()\n",
    "y3 = sharks_clean_southern[year_1960_1980].groupby(\"Month\").size()\n",
    "y4 = sharks_clean_southern[year_1940_1960].groupby(\"Month\").size()\n",
    "y5 = sharks_clean_southern[year_1920_1940].groupby(\"Month\").size()\n",
    "y6 = sharks_clean_southern[year_1900_1920].groupby(\"Month\").size()\n",
    "\n",
    "# pretty\n",
    "ax.plot(y1, color = 'darkred', label = '2000-2018')\n",
    "ax.plot(y2, color = 'red', label = '1980-2000')\n",
    "ax.plot(y3, color = 'tomato', label = '1960-1980')\n",
    "ax.plot(y4, color = 'salmon', label = '1940-1960')\n",
    "\n",
    "ax.legend(loc = 'upper center')\n",
    "plt.yticks(ticks = range(0,100,10))\n",
    "plt.ylabel(ylabel = \"Nº reports\")\n",
    "plt.xticks(ticks = range(1,13), labels=[\"Jan\",\"Feb\",\"Mar\",\"Apr\",\"May\",\"Jun\",\"Jul\",\"Aug\",\"Sep\",\"Oct\",\"Nov\",\"Dec\"])\n",
    "plt.title('Evolution of reports in the Southern hemisphere', y = 1.02)\n",
    "\n",
    "plt.show()\n",
    "fig_month_year_southern.figure.savefig('./images/month_year_southern.jpg', dpi=1000, bbox_inches='tight')"
   ]
  },
  {
   "cell_type": "code",
   "execution_count": 94,
   "id": "bee42569",
   "metadata": {},
   "outputs": [
    {
     "data": {
      "image/png": "[encoded data removed]",
      "text/plain": [
       "<Figure size 720x288 with 1 Axes>"
      ]
     },
     "metadata": {},
     "output_type": "display_data"
    }
   ],
   "source": [
    "# Plotting evolution of reports in the NORTHERN hemisphere.\n",
    "\n",
    "fig_month_year_northern, ax = plt.subplots(figsize=(10,4))\n",
    "\n",
    "# conditions:\n",
    "year_2000_2018 = (sharks_clean_northern[\"Year\"] >= 2000)\n",
    "year_1980_2000 = (sharks_clean_northern[\"Year\"] >= 1980) & (sharks_clean_northern[\"Year\"] < 2000)\n",
    "year_1960_1980 = (sharks_clean_northern[\"Year\"] >= 1960) & (sharks_clean_northern[\"Year\"] < 1980)\n",
    "year_1940_1960 = (sharks_clean_northern[\"Year\"] >= 1940) & (sharks_clean_northern[\"Year\"] < 1960)\n",
    "year_1920_1940 = (sharks_clean_northern[\"Year\"] >= 1920) & (sharks_clean_northern[\"Year\"] < 1940)\n",
    "year_1900_1920 = (sharks_clean_northern[\"Year\"] >= 1900) & (sharks_clean_northern[\"Year\"] < 1920)\n",
    "\n",
    "y1 = sharks_clean_northern[year_2000_2018].groupby(\"Month\").size()\n",
    "y2 = sharks_clean_northern[year_1980_2000].groupby(\"Month\").size()\n",
    "y3 = sharks_clean_northern[year_1960_1980].groupby(\"Month\").size()\n",
    "y4 = sharks_clean_northern[year_1940_1960].groupby(\"Month\").size()\n",
    "y5 = sharks_clean_northern[year_1920_1940].groupby(\"Month\").size()\n",
    "y6 = sharks_clean_northern[year_1900_1920].groupby(\"Month\").size()\n",
    "\n",
    "ax.plot(y1, color = 'mediumblue', label = '2000-2018')\n",
    "ax.plot(y2, color = 'royalblue', label = '1980-2000')\n",
    "ax.plot(y3, color = 'cornflowerblue', label = '1960-1980')\n",
    "ax.plot(y4, color = 'lightsteelblue', label = '1940-1960')\n",
    "\n",
    "ax.legend(loc = 'upper left')\n",
    "\n",
    "plt.yticks(ticks = range(0,190,20))\n",
    "plt.ylabel(ylabel = \"Nº reports\")\n",
    "plt.xticks(ticks = range(1,13), labels=[\"Jan\",\"Feb\",\"Mar\",\"Apr\",\"May\",\"Jun\",\"Jul\",\"Aug\",\"Sep\",\"Oct\",\"Nov\",\"Dec\"])\n",
    "plt.title('Evolution of reports in the Northern hemisphere', y = 1.02)\n",
    "\n",
    "plt.show()\n",
    "fig_month_year_northern.figure.savefig('./images/month_year_northern.jpg', dpi=1000, bbox_inches='tight')"
   ]
  },
  {
   "cell_type": "markdown",
   "id": "10ee241d",
   "metadata": {},
   "source": [
    "## Demographics"
   ]
  },
  {
   "cell_type": "markdown",
   "id": "f2cf850d",
   "metadata": {},
   "source": [
    "### Age distribution and Fatality"
   ]
  },
  {
   "cell_type": "code",
   "execution_count": 95,
   "id": "47bff6d1",
   "metadata": {},
   "outputs": [],
   "source": [
    "# Importing\n",
    "sharks_clean_age = pd.read_csv('./data/sharks_clean_activity_fatal.csv', encoding = \"unicode_escape\")"
   ]
  },
  {
   "cell_type": "code",
   "execution_count": 96,
   "id": "04a5cd4a",
   "metadata": {},
   "outputs": [
    {
     "data": {
      "text/plain": [
       "2180"
      ]
     },
     "execution_count": 96,
     "metadata": {},
     "output_type": "execute_result"
    }
   ],
   "source": [
    "# Checking Nan\n",
    "sharks_clean_age[\"Age\"].isna().sum()"
   ]
  },
  {
   "cell_type": "code",
   "execution_count": 97,
   "id": "0c8aea9c",
   "metadata": {},
   "outputs": [],
   "source": [
    "# Keeping not Nan\n",
    "sharks_clean_age = sharks_clean_age[sharks_clean_age[\"Age\"].notna()]"
   ]
  },
  {
   "cell_type": "code",
   "execution_count": 98,
   "id": "dc1e0e99",
   "metadata": {},
   "outputs": [],
   "source": [
    "# Transform to string each age value\n",
    "sharks_clean_age[\"Age\"] = sharks_clean_age[\"Age\"].map(str)"
   ]
  },
  {
   "cell_type": "code",
   "execution_count": 99,
   "id": "dd245393",
   "metadata": {},
   "outputs": [],
   "source": [
    "# Strip to remove spaces and group\n",
    "sharks_clean_age[\"Age\"] = sharks_clean_age[\"Age\"].str.strip()"
   ]
  },
  {
   "cell_type": "code",
   "execution_count": 100,
   "id": "a1fd6b26",
   "metadata": {},
   "outputs": [
    {
     "data": {
      "text/plain": [
       "18          135\n",
       "19          134\n",
       "17          134\n",
       "15          134\n",
       "16          129\n",
       "           ... \n",
       "75            1\n",
       "21 or 26      1\n",
       ">50           1\n",
       "18 to 22      1\n",
       "13 or 14      1\n",
       "Name: Age, Length: 138, dtype: int64"
      ]
     },
     "execution_count": 100,
     "metadata": {},
     "output_type": "execute_result"
    }
   ],
   "source": [
    "# Having a look\n",
    "sharks_clean_age[\"Age\"].value_counts()"
   ]
  },
  {
   "cell_type": "code",
   "execution_count": 101,
   "id": "fe30b4e2",
   "metadata": {},
   "outputs": [],
   "source": [
    "# Will have to regex\n",
    "list_age = sharks_clean_age[\"Age\"].tolist()"
   ]
  },
  {
   "cell_type": "code",
   "execution_count": 102,
   "id": "db119577",
   "metadata": {},
   "outputs": [],
   "source": [
    "# print(list_age)"
   ]
  },
  {
   "cell_type": "code",
   "execution_count": 103,
   "id": "bb3f798a",
   "metadata": {},
   "outputs": [],
   "source": [
    "# Extracting in new column the ages using regex\n",
    "sharks_clean_age[\"Age_regex\"] = sharks_clean_age[\"Age\"].str.extract(r'(\\d{1,2})')"
   ]
  },
  {
   "cell_type": "code",
   "execution_count": 104,
   "id": "cfad839c",
   "metadata": {},
   "outputs": [],
   "source": [
    "# sharks_clean[\"Age_regex\"].value_counts()"
   ]
  },
  {
   "cell_type": "code",
   "execution_count": 105,
   "id": "f317eeae",
   "metadata": {},
   "outputs": [
    {
     "data": {
      "text/plain": [
       "26"
      ]
     },
     "execution_count": 105,
     "metadata": {},
     "output_type": "execute_result"
    }
   ],
   "source": [
    "# Checking Nan again (extracted if not regex match)\n",
    "sharks_clean_age[\"Age_regex\"].isna().sum()"
   ]
  },
  {
   "cell_type": "code",
   "execution_count": 106,
   "id": "0f1700fb",
   "metadata": {},
   "outputs": [
    {
     "data": {
      "text/plain": [
       "0"
      ]
     },
     "execution_count": 106,
     "metadata": {},
     "output_type": "execute_result"
    }
   ],
   "source": [
    "# Removing new Nan \n",
    "sharks_clean_age = sharks_clean_age[sharks_clean_age['Age_regex'].notna()]\n",
    "sharks_clean_age[\"Age_regex\"].isna().sum()"
   ]
  },
  {
   "cell_type": "code",
   "execution_count": 107,
   "id": "24c140ad",
   "metadata": {},
   "outputs": [],
   "source": [
    "# Transform age back to int\n",
    "sharks_clean_age[\"Age_regex\"] = sharks_clean_age[\"Age_regex\"].map(int)"
   ]
  },
  {
   "cell_type": "code",
   "execution_count": 108,
   "id": "b8b4347a",
   "metadata": {},
   "outputs": [
    {
     "data": {
      "text/plain": [
       "count    3100.000000\n",
       "mean       27.314194\n",
       "std        13.813303\n",
       "min         1.000000\n",
       "25%        17.000000\n",
       "50%        24.000000\n",
       "75%        35.000000\n",
       "max        87.000000\n",
       "Name: Age_regex, dtype: float64"
      ]
     },
     "execution_count": 108,
     "metadata": {},
     "output_type": "execute_result"
    }
   ],
   "source": [
    "# Statistics summary\n",
    "sharks_clean_age[\"Age_regex\"].describe()"
   ]
  },
  {
   "cell_type": "code",
   "execution_count": 109,
   "id": "3b878275",
   "metadata": {},
   "outputs": [
    {
     "data": {
      "text/plain": [
       "array(['N', 'Y'], dtype=object)"
      ]
     },
     "execution_count": 109,
     "metadata": {},
     "output_type": "execute_result"
    }
   ],
   "source": [
    "# Checking unique\n",
    "sharks_clean_age[\"Fatal (Y/N)\"].unique()"
   ]
  },
  {
   "cell_type": "code",
   "execution_count": 110,
   "id": "82422467",
   "metadata": {},
   "outputs": [
    {
     "data": {
      "image/png": "[encoded data removed]",
      "text/plain": [
       "<Figure size 432x288 with 1 Axes>"
      ]
     },
     "metadata": {},
     "output_type": "display_data"
    }
   ],
   "source": [
    "# Plotting\n",
    "sns.set_style('darkgrid')\n",
    "sns.set_palette('Set2')\n",
    "\n",
    "age_violin = sns.violinplot(x = \"Age_regex\", y = \"Fatal (Y/N)\", data = sharks_clean_age, scale=\"count\")\n",
    "age_violin.set(title='Age distribution and fatality')\n",
    "age_violin.set_xlabel(\"Age\")\n",
    "\n",
    "plt.savefig('./images/age_fatality.jpg', dpi=1000, bbox_inches='tight')"
   ]
  },
  {
   "cell_type": "markdown",
   "id": "a02ff746",
   "metadata": {},
   "source": [
    "### Gender and Fatality"
   ]
  },
  {
   "cell_type": "code",
   "execution_count": 111,
   "id": "0e5c717b",
   "metadata": {},
   "outputs": [],
   "source": [
    "# Importing\n",
    "sharks_clean_gender = pd.read_csv('./data/sharks_clean_activity_fatal.csv', encoding = \"unicode_escape\")"
   ]
  },
  {
   "cell_type": "code",
   "execution_count": 112,
   "id": "de226845",
   "metadata": {},
   "outputs": [
    {
     "data": {
      "text/plain": [
       "362"
      ]
     },
     "execution_count": 112,
     "metadata": {},
     "output_type": "execute_result"
    }
   ],
   "source": [
    "# Checking Nan\n",
    "sharks_clean_gender[\"Sex\"].isna().sum()"
   ]
  },
  {
   "cell_type": "code",
   "execution_count": 113,
   "id": "8ff119dc",
   "metadata": {},
   "outputs": [],
   "source": [
    "# Keeping not Nan\n",
    "sharks_clean_gender = sharks_clean_gender[sharks_clean_gender[\"Sex\"].notna()]"
   ]
  },
  {
   "cell_type": "code",
   "execution_count": 114,
   "id": "a0cdafda",
   "metadata": {},
   "outputs": [
    {
     "data": {
      "text/plain": [
       "M      4403\n",
       "F       537\n",
       "N         2\n",
       "lli       1\n",
       ".         1\n",
       "Name: Sex, dtype: int64"
      ]
     },
     "execution_count": 114,
     "metadata": {},
     "output_type": "execute_result"
    }
   ],
   "source": [
    "# Cleaning by striping spaces\n",
    "sharks_clean_gender[\"Sex\"] = sharks_clean_gender[\"Sex\"].str.strip()\n",
    "sharks_clean_gender[\"Sex\"].value_counts()"
   ]
  },
  {
   "cell_type": "code",
   "execution_count": 115,
   "id": "9c4de36c",
   "metadata": {},
   "outputs": [
    {
     "data": {
      "text/plain": [
       "M    4403\n",
       "F     537\n",
       "Name: Sex, dtype: int64"
      ]
     },
     "execution_count": 115,
     "metadata": {},
     "output_type": "execute_result"
    }
   ],
   "source": [
    "# Keeping only M and F\n",
    "gender_keep = (sharks_clean_gender[\"Sex\"] == \"M\") | (sharks_clean_gender[\"Sex\"] == \"F\")\n",
    "sharks_clean_gender = sharks_clean_gender[gender_keep]\n",
    "sharks_clean_gender[\"Sex\"].value_counts()"
   ]
  },
  {
   "cell_type": "code",
   "execution_count": 116,
   "id": "ddddd8b8",
   "metadata": {},
   "outputs": [
    {
     "data": {
      "image/png": "[encoded data removed]",
      "text/plain": [
       "<Figure size 432x288 with 1 Axes>"
      ]
     },
     "metadata": {},
     "output_type": "display_data"
    }
   ],
   "source": [
    "# Plotting\n",
    "\n",
    "sns.set_style('darkgrid')\n",
    "sns.set_palette('Set2')\n",
    "\n",
    "fig_gender_fatal = sns.countplot(data=sharks_clean_gender, x=\"Sex\", hue=\"Fatal (Y/N)\")\n",
    "fig_gender_fatal.set(title='Gender and fatality')\n",
    "fig_gender_fatal.set_xlabel(\"Gender\")\n",
    "\n",
    "plt.savefig('./images/gender_fatality.jpg', dpi=1000, bbox_inches='tight')"
   ]
  }
 ],
 "metadata": {
  "kernelspec": {
   "display_name": "Python 3 (ipykernel)",
   "language": "python",
   "name": "python3"
  },
  "language_info": {
   "codemirror_mode": {
    "name": "ipython",
    "version": 3
   },
   "file_extension": ".py",
   "mimetype": "text/x-python",
   "name": "python",
   "nbconvert_exporter": "python",
   "pygments_lexer": "ipython3",
   "version": "3.9.12"
  },
  "toc": {
   "base_numbering": 1,
   "nav_menu": {
    "height": "253px",
    "width": "278px"
   },
   "number_sections": true,
   "sideBar": true,
   "skip_h1_title": false,
   "title_cell": "Table of Contents",
   "title_sidebar": "Contents",
   "toc_cell": false,
   "toc_position": {},
   "toc_section_display": true,
   "toc_window_display": false
  }
 },
 "nbformat": 4,
 "nbformat_minor": 5
}
